{
 "cells": [
  {
   "cell_type": "code",
   "execution_count": 1,
   "metadata": {},
   "outputs": [
    {
     "name": "stderr",
     "output_type": "stream",
     "text": [
      "2023-11-20 11:47:55.514917: I tensorflow/core/platform/cpu_feature_guard.cc:182] This TensorFlow binary is optimized to use available CPU instructions in performance-critical operations.\n",
      "To enable the following instructions: AVX2 FMA, in other operations, rebuild TensorFlow with the appropriate compiler flags.\n"
     ]
    },
    {
     "name": "stdout",
     "output_type": "stream",
     "text": [
      "2.13.0\n",
      "[PhysicalDevice(name='/physical_device:CPU:0', device_type='CPU'), PhysicalDevice(name='/physical_device:GPU:0', device_type='GPU'), PhysicalDevice(name='/physical_device:GPU:1', device_type='GPU')]\n",
      "\n"
     ]
    }
   ],
   "source": [
    "%reset -sf\n",
    "\n",
    "import matplotlib.pyplot as plt\n",
    "import pandas as pd\n",
    "import numpy as np\n",
    "from flow import *\n",
    "from utils import *\n",
    "import get_data as gd\n",
    "import gc\n",
    "\n",
    "import tensorflow as tf\n",
    "\n",
    "print(tf.__version__)\n",
    "print(tf.config.list_physical_devices())\n",
    "print()"
   ]
  },
  {
   "cell_type": "markdown",
   "metadata": {},
   "source": [
    "### Load data"
   ]
  },
  {
   "cell_type": "code",
   "execution_count": 2,
   "metadata": {},
   "outputs": [
    {
     "name": "stdout",
     "output_type": "stream",
     "text": [
      "['/root/work/truth/signal/CGLMP.npz', '/root/work/truth/signal/Higgs.npz', '/root/work/truth/signal/LeadLepton.npz', '/root/work/truth/signal/LeptonM.npz', '/root/work/truth/signal/LeptonP.npz', '/root/work/truth/signal/LmNu.npz', '/root/work/truth/signal/LpNu.npz', '/root/work/truth/signal/MET.npz', '/root/work/truth/signal/WmBoson.npz', '/root/work/truth/signal/WpBoson.npz', '/root/work/truth/signal/diLepton.npz', '/root/work/truth/signal/subLeadLepton.npz', '/root/work/truth/signal/xi_xyz.npz']\n",
      "\n",
      "MET_kin shape: (2928862, 5)\n",
      "           px         py      Bxy        Byz       Bzx\n",
      "0   21.531590  58.661363  5.37961  -0.375224   8.00803\n",
      "1  142.831582 -36.235636 -4.33158  15.150000  -5.99553\n",
      "2   -4.344014 -53.593527  4.61210  21.715400  19.46050\n",
      "\n",
      "dinu_kin shape: (2928862, 4)\n",
      "            E          px         py          pz\n",
      "0  122.129977   21.531590  58.661363   93.688699\n",
      "1  611.032109  142.831582 -36.235636  592.323953\n",
      "2   74.715202   -4.118662 -52.749777   44.663706\n",
      "\n"
     ]
    },
    {
     "data": {
      "text/plain": [
       "13"
      ]
     },
     "execution_count": 2,
     "metadata": {},
     "output_type": "execute_result"
    }
   ],
   "source": [
    "processor = gd.DataProcessor()\n",
    "path = \"/root/work/truth/signal/*npz\"\n",
    "processor.load_files(path)\n",
    "\n",
    "(\n",
    "    CGLMP,\n",
    "    Higgs,\n",
    "    LeadLep,\n",
    "    LepM,\n",
    "    LepP,\n",
    "    NuM,\n",
    "    NuP,\n",
    "    MET,\n",
    "    Wm,\n",
    "    Wp,\n",
    "    diLep,\n",
    "    SubLep,\n",
    "    Xi,\n",
    ") = processor.files\n",
    "GEV = 1e3\n",
    "\n",
    "# observed (Y)\n",
    "## leps\n",
    "lep_kin = pd.concat([LepP.iloc[:, 0:4], LepM.iloc[:, 0:4]], axis=1) / GEV\n",
    "lep_kin_exp = pd.concat(\n",
    "    [\n",
    "        LepP.iloc[:, 4:6] / GEV,\n",
    "        LepP.iloc[:, 6:-1],\n",
    "        LepM.iloc[:, 4:6] / GEV,\n",
    "        LepM.iloc[:, 6:-1],\n",
    "    ],  # discard the last column (y) owing to inf problems when stdscalar\n",
    "    axis=1,\n",
    ")\n",
    "## MET\n",
    "MET_kin = MET.iloc[:, 1:3] / GEV\n",
    "# y -> observed params\n",
    "MET_kin = pd.concat([MET_kin, CGLMP], axis=1)\n",
    "print(\"MET_kin shape:\", MET_kin.shape)\n",
    "print(MET_kin.head(3))\n",
    "print()\n",
    "\n",
    "# interest (X)\n",
    "# x -> interested unknowns\n",
    "## neus\n",
    "nu_kin = pd.concat([NuP.iloc[:, 0:4] + NuM.iloc[:, 0:4]], axis=1) / GEV\n",
    "nu_kin_exp = pd.concat(\n",
    "    [\n",
    "        NuP.iloc[:, 4:6] / GEV,\n",
    "        NuP.iloc[:, 6:-1],\n",
    "        NuM.iloc[:, 4:6] / GEV,\n",
    "        NuM.iloc[:, 6:-1],\n",
    "    ],  # discard the last column (y) owing to inf problems when stdscalar\n",
    "    axis=1,\n",
    ")\n",
    "dinu_kin = pd.concat(\n",
    "    [\n",
    "        nu_kin,\n",
    "    ],\n",
    "    axis=1,\n",
    ")\n",
    "print(\"dinu_kin shape:\", dinu_kin.shape)\n",
    "print(dinu_kin.head(3))\n",
    "print()\n",
    "\n",
    "del processor  # Clear the instance\n",
    "del (\n",
    "    CGLMP,\n",
    "    Higgs,\n",
    "    LeadLep,\n",
    "    LepM,\n",
    "    LepP,\n",
    "    NuM,\n",
    "    NuP,\n",
    "    MET,\n",
    "    Wm,\n",
    "    Wp,\n",
    "    diLep,\n",
    "    SubLep,\n",
    "    Xi,\n",
    ")  # Clear the dataframes\n",
    "del (lep_kin, nu_kin, nu_kin_exp)\n",
    "gc.collect()"
   ]
  },
  {
   "cell_type": "markdown",
   "metadata": {},
   "source": [
    "### Preprocessing"
   ]
  },
  {
   "cell_type": "code",
   "execution_count": 3,
   "metadata": {},
   "outputs": [
    {
     "name": "stdout",
     "output_type": "stream",
     "text": [
      "mean: 2.708944180085382e-17; std: 1.0\n",
      "mean: 5.542233338928781e-18; std: 0.9999999999999999\n",
      "X (Interest)\n",
      "Training data shape: (8000, 4);\n",
      "Testing data shape: (2000, 4).\n",
      "Y (Observed)\n",
      "Training data shape: (8000, 5);\n",
      "Testing data shape: (2000, 5).\n",
      "\n"
     ]
    }
   ],
   "source": [
    "from sklearn.model_selection import train_test_split\n",
    "\n",
    "# sampling\n",
    "np.random.seed(42)  # set random seed\n",
    "indices_arr = np.arange(dinu_kin.shape[0], dtype=\"int\")\n",
    "indices_arr = np.random.choice(indices_arr, int(1e4))\n",
    "\n",
    "# normalize\n",
    "from sklearn.preprocessing import StandardScaler\n",
    "\n",
    "SCALAR_int = StandardScaler()\n",
    "dinu_kin = SCALAR_int.fit_transform(dinu_kin.iloc[indices_arr])\n",
    "print(f\"mean: {dinu_kin.mean()}; std: {dinu_kin.std()}\")\n",
    "\n",
    "SCALAR_MET = StandardScaler()\n",
    "MET_kin = SCALAR_MET.fit_transform(MET_kin.iloc[indices_arr])\n",
    "print(f\"mean: {MET_kin.mean()}; std: {MET_kin.std()}\")\n",
    "\n",
    "train_indices, test_indices = train_test_split(\n",
    "    np.arange(len(indices_arr.flatten())),\n",
    "    train_size=0.8,\n",
    "    test_size=0.2,\n",
    "    random_state=42,\n",
    ")\n",
    "\n",
    "train_x = dinu_kin[train_indices]\n",
    "test_x = dinu_kin[test_indices]\n",
    "train_y = MET_kin[train_indices]\n",
    "test_y = MET_kin[test_indices]\n",
    "\n",
    "print(\n",
    "    f\"X (Interest)\\nTraining data shape: {train_x.shape};\\nTesting data shape: {test_x.shape}.\"\n",
    ")\n",
    "print(\n",
    "    f\"Y (Observed)\\nTraining data shape: {train_y.shape};\\nTesting data shape: {test_y.shape}.\"\n",
    ")\n",
    "print()"
   ]
  },
  {
   "cell_type": "markdown",
   "metadata": {},
   "source": [
    "### Setup"
   ]
  },
  {
   "cell_type": "code",
   "execution_count": 4,
   "metadata": {},
   "outputs": [
    {
     "name": "stdout",
     "output_type": "stream",
     "text": [
      "pad_x (8000, 4)\n",
      "x (8000, 8)\n",
      "y (8000, 5)\n",
      "z (8000, 3)\n",
      "Input dataset shape -> X:(8000, 8), Y: (8000, 8)\n",
      "n_sample 8000\n",
      "n_data 40000\n",
      "\n"
     ]
    },
    {
     "name": "stderr",
     "output_type": "stream",
     "text": [
      "2023-11-20 11:48:09.927780: I tensorflow/core/common_runtime/gpu/gpu_device.cc:1639] Created device /job:localhost/replica:0/task:0/device:GPU:0 with 46696 MB memory:  -> device: 0, name: NVIDIA RTX A6000, pci bus id: 0000:01:00.0, compute capability: 8.6\n",
      "2023-11-20 11:48:09.928598: I tensorflow/core/common_runtime/gpu/gpu_device.cc:1639] Created device /job:localhost/replica:0/task:0/device:GPU:1 with 46696 MB memory:  -> device: 1, name: NVIDIA RTX A6000, pci bus id: 0000:25:00.0, compute capability: 8.6\n"
     ]
    }
   ],
   "source": [
    "# setup\n",
    "\n",
    "# *hyperparameter\n",
    "n_couple_layer = 3\n",
    "n_hid_layer = 4\n",
    "n_hid_dim = 512\n",
    "learning_rate = 1e-4\n",
    "\n",
    "# * hyperparameter\n",
    "n_batch = 128\n",
    "n_epoch = 64\n",
    "n_display = n_batch\n",
    "\n",
    "# * hyperparameter\n",
    "w1 = 0.5  # related to pred loss\n",
    "w2 = 15.0  # related to latent loss\n",
    "w3 = 25.0  # related to rev loss\n",
    "loss_factor = 1.0  # related to rev loss\n",
    "\n",
    "# interest (momentum)\n",
    "x_dim = train_x.shape[1]\n",
    "# observed (MET)\n",
    "y_dim = train_y.shape[1]\n",
    "\n",
    "# * hyperparameter\n",
    "# z_dim = x_dim - y_dim # we only take intrinsic dimension into account\n",
    "z_dim = 3\n",
    "\n",
    "tot_dim = y_dim + z_dim\n",
    "pad_dim = tot_dim - x_dim\n",
    "\n",
    "# Preprocess\n",
    "## Pad data\n",
    "X = train_x.reshape((-1, x_dim))\n",
    "# print(\"pad_dim\", pad_dim)\n",
    "pad_x = np.zeros((X.shape[0], pad_dim))\n",
    "print(\"pad_x\", pad_x.shape)\n",
    "# print(\"pad_x\", pad_x.shape)\n",
    "x = np.concatenate([X, pad_x], axis=-1).astype(\"float32\")\n",
    "print(\"x\", x.shape)\n",
    "z = np.random.multivariate_normal([0.0] * z_dim, np.eye(z_dim), X.shape[0]).astype(\n",
    "    \"float32\"\n",
    ")\n",
    "y_hat = train_y.reshape(-1, y_dim)\n",
    "print(\"y\", y_hat.shape)\n",
    "print(\"z\", z.shape)\n",
    "y = np.concatenate([z, y_hat], axis=-1).astype(\"float32\")\n",
    "\n",
    "print(f\"Input dataset shape -> X:{x.shape}, Y: {y.shape}\")\n",
    "\n",
    "n_sample = X.shape[0]\n",
    "print(\"n_sample\", n_sample)\n",
    "n_data = n_sample * train_y.shape[1]\n",
    "print(\"n_data\", n_data)\n",
    "print()\n",
    "\n",
    "# Make dataset generator\n",
    "x_data = tf.data.Dataset.from_tensor_slices(x)\n",
    "y_data = tf.data.Dataset.from_tensor_slices(y)\n",
    "dataset = (\n",
    "    tf.data.Dataset.zip((x_data, y_data))\n",
    "    .shuffle(buffer_size=X.shape[0])\n",
    "    .batch(n_batch, drop_remainder=True)\n",
    "    .repeat()\n",
    ")"
   ]
  },
  {
   "cell_type": "markdown",
   "metadata": {},
   "source": [
    "### Initialize the model"
   ]
  },
  {
   "cell_type": "code",
   "execution_count": 5,
   "metadata": {},
   "outputs": [
    {
     "name": "stdout",
     "output_type": "stream",
     "text": [
      "Model: \"NVP\"\n",
      "_________________________________________________________________\n",
      " Layer (type)                Output Shape              Param #   \n",
      "=================================================================\n",
      " Layer0 (TwoNVPCouplingLaye  multiple                  1063960   \n",
      " rs)                                                             \n",
      "                                                                 \n",
      " Layer1 (TwoNVPCouplingLaye  multiple                  1063960   \n",
      " rs)                                                             \n",
      "                                                                 \n",
      " Layer2 (TwoNVPCouplingLaye  multiple                  1063960   \n",
      " rs)                                                             \n",
      "                                                                 \n",
      "=================================================================\n",
      "Total params: 3191880 (12.18 MB)\n",
      "Trainable params: 3191856 (12.18 MB)\n",
      "Non-trainable params: 24 (192.00 Byte)\n",
      "_________________________________________________________________\n"
     ]
    }
   ],
   "source": [
    "model = NVP(tot_dim, n_couple_layer, n_hid_layer, n_hid_dim, name=\"NVP\")\n",
    "x = tfk.Input((tot_dim,))\n",
    "model(x)\n",
    "model.summary()"
   ]
  },
  {
   "cell_type": "code",
   "execution_count": 6,
   "metadata": {},
   "outputs": [],
   "source": [
    "class Trainer(tfk.Model):\n",
    "    def __init__(\n",
    "        self,\n",
    "        model,\n",
    "        x_dim,\n",
    "        y_dim,\n",
    "        z_dim,\n",
    "        tot_dim,\n",
    "        n_couple_layer,\n",
    "        n_hid_layer,\n",
    "        n_hid_dim,\n",
    "        shuffle_type=\"reverse\",\n",
    "    ):\n",
    "        super(Trainer, self).__init__()\n",
    "        self.model = model\n",
    "        self.x_dim = x_dim\n",
    "        self.y_dim = y_dim\n",
    "        self.z_dim = z_dim\n",
    "        self.tot_dim = tot_dim\n",
    "        self.x_pad_dim = tot_dim - x_dim\n",
    "        self.y_pad_dim = tot_dim - (y_dim + z_dim)\n",
    "        self.n_couple_layer = n_couple_layer\n",
    "        self.n_hid_layer = n_hid_layer\n",
    "        self.n_hid_dim = n_hid_dim\n",
    "        self.shuffle_type = shuffle_type\n",
    "\n",
    "        self.w1 = w1 # related to pred loss\n",
    "        self.w2 = w2 # related to latent loss\n",
    "        self.w3 = w3 # related to rev loss\n",
    "        self.loss_factor = loss_factor # related to rev loss\n",
    "        self.loss_fit = MSE\n",
    "        self.loss_latent = MMD_multiscale\n",
    "        self.loss_backward = MMD_multiscale\n",
    "\n",
    "    def train_step(self, data):\n",
    "        x_data, y_data = data\n",
    "        x = x_data[:, : self.x_dim]\n",
    "        y = y_data[:, -self.y_dim :]\n",
    "        z = y_data[:, : self.z_dim]\n",
    "        y_short = tf.concat([z, y], axis=-1)\n",
    "\n",
    "        # Forward loss\n",
    "        with tf.GradientTape() as tape:\n",
    "            y_out = self.model(x_data)\n",
    "            pred_loss = self.w1 * self.loss_fit(\n",
    "                y_data[:, self.z_dim :], y_out[:, self.z_dim :]\n",
    "            )  # [zeros, y] <=> [zeros, yhat]\n",
    "            output_block_grad = tf.concat(\n",
    "                [y_out[:, : self.z_dim], y_out[:, -self.y_dim :]], axis=-1\n",
    "            )  # take out [z, y] only (not zeros)\n",
    "            latent_loss = self.w2 * self.loss_latent(\n",
    "                y_short, output_block_grad\n",
    "            )  # [z, y] <=> [zhat, yhat]\n",
    "            forward_loss = pred_loss + latent_loss\n",
    "        grads_forward = tape.gradient(forward_loss, self.model.trainable_weights)\n",
    "        self.optimizer.apply_gradients(zip(grads_forward, self.model.trainable_weights))\n",
    "\n",
    "        # Backward loss\n",
    "        with tf.GradientTape() as tape:\n",
    "            x_rev = self.model.inverse(y_data)\n",
    "            # rev_loss = self.w3 * self.loss_factor * self.loss_fit(x_rev, x_data)\n",
    "            rev_loss = self.w3 * self.loss_factor * self.loss_backward(x_rev, x_data)\n",
    "        grads_backward = tape.gradient(rev_loss, self.model.trainable_weights)\n",
    "        self.optimizer.apply_gradients(\n",
    "            zip(grads_backward, self.model.trainable_weights)\n",
    "        )\n",
    "\n",
    "        total_loss = forward_loss + latent_loss + rev_loss\n",
    "        return {\n",
    "            \"total_loss\": total_loss,\n",
    "            \"forward_loss\": forward_loss,\n",
    "            \"latent_loss\": latent_loss,\n",
    "            \"rev_loss\": rev_loss,\n",
    "        }\n",
    "\n",
    "    def test_step(self, data):\n",
    "        x_data, y_data = data\n",
    "        return NotImplementedError"
   ]
  },
  {
   "cell_type": "code",
   "execution_count": 7,
   "metadata": {},
   "outputs": [],
   "source": [
    "trainer = Trainer(\n",
    "    model, x_dim, y_dim, z_dim, tot_dim, n_couple_layer, n_hid_layer, n_hid_dim\n",
    ")\n",
    "trainer.compile(optimizer=tf.keras.optimizers.Adam(learning_rate=learning_rate))"
   ]
  },
  {
   "cell_type": "markdown",
   "metadata": {},
   "source": [
    "### Training"
   ]
  },
  {
   "cell_type": "code",
   "execution_count": 8,
   "metadata": {},
   "outputs": [
    {
     "name": "stdout",
     "output_type": "stream",
     "text": [
      "=== Started at 2023-11-20 11h:48m:11s ===\n",
      "Epoch 1/64\n"
     ]
    },
    {
     "name": "stderr",
     "output_type": "stream",
     "text": [
      "2023-11-20 11:48:15.939761: I tensorflow/compiler/xla/stream_executor/cuda/cuda_blas.cc:606] TensorFloat-32 will be used for the matrix multiplication. This will only be logged once.\n",
      "2023-11-20 11:48:15.947932: I tensorflow/compiler/xla/service/service.cc:168] XLA service 0x7f3444138b10 initialized for platform CUDA (this does not guarantee that XLA will be used). Devices:\n",
      "2023-11-20 11:48:15.947985: I tensorflow/compiler/xla/service/service.cc:176]   StreamExecutor device (0): NVIDIA RTX A6000, Compute Capability 8.6\n",
      "2023-11-20 11:48:15.947998: I tensorflow/compiler/xla/service/service.cc:176]   StreamExecutor device (1): NVIDIA RTX A6000, Compute Capability 8.6\n",
      "2023-11-20 11:48:15.952575: I tensorflow/compiler/mlir/tensorflow/utils/dump_mlir_util.cc:255] disabling MLIR crash reproducer, set env var `MLIR_CRASH_REPRODUCER_DIRECTORY` to enable.\n",
      "2023-11-20 11:48:16.087513: I tensorflow/compiler/xla/stream_executor/cuda/cuda_dnn.cc:432] Loaded cuDNN version 8600\n",
      "2023-11-20 11:48:16.210417: I ./tensorflow/compiler/jit/device_compiler.h:186] Compiled cluster using XLA!  This line is logged at most once for the lifetime of the process.\n"
     ]
    },
    {
     "name": "stdout",
     "output_type": "stream",
     "text": [
      " 2023-11-20 11h:48m:24s | Epoch: 01/64 | total_loss=4.665806 forward_loss=1.883455 latent_loss=1.152451 rev_loss=1.629899\n",
      "156/156 - 14s - total_loss: 4.6658 - forward_loss: 1.8835 - latent_loss: 1.1525 - rev_loss: 1.6299 - 14s/epoch - 87ms/step\n",
      "Epoch 2/64\n",
      "156/156 - 4s - total_loss: 4.5691 - forward_loss: 1.8945 - latent_loss: 1.1127 - rev_loss: 1.5619 - 4s/epoch - 24ms/step\n",
      "Epoch 3/64\n",
      "156/156 - 4s - total_loss: 3.9248 - forward_loss: 1.7478 - latent_loss: 1.0174 - rev_loss: 1.1597 - 4s/epoch - 24ms/step\n",
      "Epoch 4/64\n",
      "156/156 - 4s - total_loss: 3.7951 - forward_loss: 1.7272 - latent_loss: 1.0444 - rev_loss: 1.0235 - 4s/epoch - 24ms/step\n",
      "Epoch 5/64\n",
      "156/156 - 4s - total_loss: 3.9907 - forward_loss: 1.7516 - latent_loss: 1.0722 - rev_loss: 1.1669 - 4s/epoch - 24ms/step\n",
      "Epoch 6/64\n",
      "156/156 - 4s - total_loss: 3.7632 - forward_loss: 1.7431 - latent_loss: 1.0130 - rev_loss: 1.0070 - 4s/epoch - 25ms/step\n",
      "Epoch 7/64\n",
      "156/156 - 4s - total_loss: 4.0325 - forward_loss: 1.7183 - latent_loss: 1.0336 - rev_loss: 1.2807 - 4s/epoch - 25ms/step\n",
      "Epoch 8/64\n",
      "156/156 - 4s - total_loss: 3.7065 - forward_loss: 1.6651 - latent_loss: 0.9965 - rev_loss: 1.0449 - 4s/epoch - 24ms/step\n",
      "Epoch 9/64\n",
      "156/156 - 4s - total_loss: 3.6440 - forward_loss: 1.6677 - latent_loss: 0.9740 - rev_loss: 1.0023 - 4s/epoch - 24ms/step\n",
      "Epoch 10/64\n",
      "156/156 - 4s - total_loss: 3.6413 - forward_loss: 1.6433 - latent_loss: 0.9661 - rev_loss: 1.0319 - 4s/epoch - 24ms/step\n",
      "Epoch 11/64\n",
      "156/156 - 4s - total_loss: 3.6811 - forward_loss: 1.6729 - latent_loss: 1.0021 - rev_loss: 1.0061 - 4s/epoch - 25ms/step\n",
      "Epoch 12/64\n",
      "156/156 - 4s - total_loss: 3.5931 - forward_loss: 1.6404 - latent_loss: 0.9433 - rev_loss: 1.0093 - 4s/epoch - 24ms/step\n",
      "Epoch 13/64\n",
      "156/156 - 4s - total_loss: 3.7173 - forward_loss: 1.6610 - latent_loss: 0.9552 - rev_loss: 1.1010 - 4s/epoch - 24ms/step\n",
      "Epoch 14/64\n",
      "156/156 - 4s - total_loss: 3.7372 - forward_loss: 1.6542 - latent_loss: 0.9655 - rev_loss: 1.1175 - 4s/epoch - 24ms/step\n",
      "Epoch 15/64\n",
      "156/156 - 4s - total_loss: 3.7377 - forward_loss: 1.6437 - latent_loss: 0.9687 - rev_loss: 1.1253 - 4s/epoch - 24ms/step\n",
      "Epoch 16/64\n",
      "156/156 - 4s - total_loss: 3.5125 - forward_loss: 1.5850 - latent_loss: 0.9549 - rev_loss: 0.9727 - 4s/epoch - 25ms/step\n",
      "Epoch 17/64\n",
      "156/156 - 4s - total_loss: 3.6489 - forward_loss: 1.6441 - latent_loss: 0.9710 - rev_loss: 1.0338 - 4s/epoch - 24ms/step\n",
      "Epoch 18/64\n",
      "156/156 - 4s - total_loss: 3.6179 - forward_loss: 1.6050 - latent_loss: 0.9837 - rev_loss: 1.0292 - 4s/epoch - 25ms/step\n",
      "Epoch 19/64\n",
      "156/156 - 4s - total_loss: 3.5387 - forward_loss: 1.5829 - latent_loss: 0.9315 - rev_loss: 1.0243 - 4s/epoch - 24ms/step\n",
      "Epoch 20/64\n",
      "156/156 - 4s - total_loss: 3.6496 - forward_loss: 1.6215 - latent_loss: 0.9642 - rev_loss: 1.0638 - 4s/epoch - 24ms/step\n",
      "Epoch 21/64\n",
      "156/156 - 4s - total_loss: 3.7687 - forward_loss: 1.6517 - latent_loss: 0.9606 - rev_loss: 1.1564 - 4s/epoch - 24ms/step\n",
      "Epoch 22/64\n",
      "156/156 - 4s - total_loss: 3.5683 - forward_loss: 1.6149 - latent_loss: 0.9336 - rev_loss: 1.0198 - 4s/epoch - 24ms/step\n",
      "Epoch 23/64\n",
      "156/156 - 4s - total_loss: 3.6223 - forward_loss: 1.6316 - latent_loss: 0.9184 - rev_loss: 1.0723 - 4s/epoch - 24ms/step\n",
      "Epoch 24/64\n",
      "156/156 - 4s - total_loss: 3.6858 - forward_loss: 1.7025 - latent_loss: 0.9787 - rev_loss: 1.0047 - 4s/epoch - 24ms/step\n",
      "Epoch 25/64\n",
      "156/156 - 4s - total_loss: 3.3435 - forward_loss: 1.5228 - latent_loss: 0.9096 - rev_loss: 0.9111 - 4s/epoch - 25ms/step\n",
      "Epoch 26/64\n",
      "156/156 - 4s - total_loss: 3.6678 - forward_loss: 1.6645 - latent_loss: 0.9557 - rev_loss: 1.0476 - 4s/epoch - 25ms/step\n",
      "Epoch 27/64\n",
      "156/156 - 4s - total_loss: 3.6007 - forward_loss: 1.6722 - latent_loss: 0.9777 - rev_loss: 0.9507 - 4s/epoch - 24ms/step\n",
      "Epoch 28/64\n",
      "156/156 - 4s - total_loss: 3.7124 - forward_loss: 1.6538 - latent_loss: 0.9441 - rev_loss: 1.1145 - 4s/epoch - 25ms/step\n",
      "Epoch 29/64\n",
      "156/156 - 4s - total_loss: 3.5436 - forward_loss: 1.6473 - latent_loss: 0.9631 - rev_loss: 0.9332 - 4s/epoch - 25ms/step\n",
      "Epoch 30/64\n",
      "156/156 - 4s - total_loss: 3.4334 - forward_loss: 1.5545 - latent_loss: 0.8939 - rev_loss: 0.9850 - 4s/epoch - 25ms/step\n",
      "Epoch 31/64\n",
      "156/156 - 4s - total_loss: 3.4891 - forward_loss: 1.5562 - latent_loss: 0.9040 - rev_loss: 1.0289 - 4s/epoch - 24ms/step\n",
      "Epoch 32/64\n",
      "156/156 - 4s - total_loss: 3.4337 - forward_loss: 1.6155 - latent_loss: 0.9120 - rev_loss: 0.9061 - 4s/epoch - 25ms/step\n",
      "Epoch 33/64\n",
      "156/156 - 4s - total_loss: 3.3294 - forward_loss: 1.5160 - latent_loss: 0.8920 - rev_loss: 0.9214 - 4s/epoch - 24ms/step\n",
      "Epoch 34/64\n",
      "156/156 - 4s - total_loss: 3.4226 - forward_loss: 1.5584 - latent_loss: 0.9165 - rev_loss: 0.9477 - 4s/epoch - 25ms/step\n",
      "Epoch 35/64\n",
      "156/156 - 4s - total_loss: 3.5053 - forward_loss: 1.6153 - latent_loss: 0.9024 - rev_loss: 0.9875 - 4s/epoch - 24ms/step\n",
      "Epoch 36/64\n",
      "156/156 - 4s - total_loss: 3.4740 - forward_loss: 1.5902 - latent_loss: 0.9155 - rev_loss: 0.9682 - 4s/epoch - 25ms/step\n",
      "Epoch 37/64\n",
      "156/156 - 4s - total_loss: 3.3887 - forward_loss: 1.5375 - latent_loss: 0.9176 - rev_loss: 0.9335 - 4s/epoch - 24ms/step\n",
      "Epoch 38/64\n",
      "156/156 - 4s - total_loss: 3.4063 - forward_loss: 1.5514 - latent_loss: 0.9257 - rev_loss: 0.9292 - 4s/epoch - 24ms/step\n",
      "Epoch 39/64\n",
      "156/156 - 4s - total_loss: 3.5873 - forward_loss: 1.6642 - latent_loss: 0.9136 - rev_loss: 1.0095 - 4s/epoch - 24ms/step\n",
      "Epoch 40/64\n",
      "156/156 - 4s - total_loss: 3.5423 - forward_loss: 1.6598 - latent_loss: 0.9358 - rev_loss: 0.9467 - 4s/epoch - 25ms/step\n",
      "Epoch 41/64\n",
      "156/156 - 4s - total_loss: 3.5280 - forward_loss: 1.6536 - latent_loss: 0.9237 - rev_loss: 0.9507 - 4s/epoch - 23ms/step\n",
      "Epoch 42/64\n",
      "156/156 - 4s - total_loss: 3.4294 - forward_loss: 1.6112 - latent_loss: 0.9292 - rev_loss: 0.8890 - 4s/epoch - 24ms/step\n",
      "Epoch 43/64\n",
      "156/156 - 4s - total_loss: 3.5011 - forward_loss: 1.5915 - latent_loss: 0.9171 - rev_loss: 0.9925 - 4s/epoch - 24ms/step\n",
      "Epoch 44/64\n",
      "156/156 - 4s - total_loss: 3.4092 - forward_loss: 1.5387 - latent_loss: 0.8960 - rev_loss: 0.9745 - 4s/epoch - 24ms/step\n",
      "Epoch 45/64\n",
      "156/156 - 4s - total_loss: 3.5599 - forward_loss: 1.6592 - latent_loss: 0.9425 - rev_loss: 0.9583 - 4s/epoch - 24ms/step\n",
      "Epoch 46/64\n",
      "156/156 - 4s - total_loss: 3.4569 - forward_loss: 1.5818 - latent_loss: 0.9218 - rev_loss: 0.9534 - 4s/epoch - 25ms/step\n",
      "Epoch 47/64\n",
      "156/156 - 4s - total_loss: 3.4214 - forward_loss: 1.5529 - latent_loss: 0.8936 - rev_loss: 0.9749 - 4s/epoch - 24ms/step\n",
      "Epoch 48/64\n",
      "156/156 - 4s - total_loss: 3.3986 - forward_loss: 1.5288 - latent_loss: 0.8940 - rev_loss: 0.9759 - 4s/epoch - 24ms/step\n",
      "Epoch 49/64\n",
      "156/156 - 4s - total_loss: 3.4454 - forward_loss: 1.5736 - latent_loss: 0.9181 - rev_loss: 0.9536 - 4s/epoch - 25ms/step\n",
      "Epoch 50/64\n",
      "156/156 - 4s - total_loss: 3.4799 - forward_loss: 1.5772 - latent_loss: 0.8890 - rev_loss: 1.0137 - 4s/epoch - 24ms/step\n",
      "Epoch 51/64\n",
      "156/156 - 4s - total_loss: 3.5310 - forward_loss: 1.5756 - latent_loss: 0.9234 - rev_loss: 1.0320 - 4s/epoch - 24ms/step\n",
      "Epoch 52/64\n",
      "156/156 - 4s - total_loss: 3.3887 - forward_loss: 1.5386 - latent_loss: 0.9073 - rev_loss: 0.9428 - 4s/epoch - 24ms/step\n",
      "Epoch 53/64\n",
      "156/156 - 4s - total_loss: 3.5581 - forward_loss: 1.6127 - latent_loss: 0.9058 - rev_loss: 1.0396 - 4s/epoch - 24ms/step\n",
      "Epoch 54/64\n",
      "156/156 - 4s - total_loss: 3.4284 - forward_loss: 1.5415 - latent_loss: 0.8909 - rev_loss: 0.9961 - 4s/epoch - 24ms/step\n",
      "Epoch 55/64\n",
      "156/156 - 4s - total_loss: 3.4021 - forward_loss: 1.5391 - latent_loss: 0.8796 - rev_loss: 0.9833 - 4s/epoch - 24ms/step\n",
      "Epoch 56/64\n",
      "156/156 - 4s - total_loss: 3.3041 - forward_loss: 1.5337 - latent_loss: 0.8641 - rev_loss: 0.9063 - 4s/epoch - 25ms/step\n",
      "Epoch 57/64\n",
      "156/156 - 4s - total_loss: 3.3318 - forward_loss: 1.5243 - latent_loss: 0.8982 - rev_loss: 0.9092 - 4s/epoch - 24ms/step\n",
      "Epoch 58/64\n",
      "156/156 - 4s - total_loss: 3.4546 - forward_loss: 1.6088 - latent_loss: 0.9331 - rev_loss: 0.9126 - 4s/epoch - 25ms/step\n",
      "Epoch 59/64\n",
      "156/156 - 4s - total_loss: 3.4412 - forward_loss: 1.5706 - latent_loss: 0.8972 - rev_loss: 0.9734 - 4s/epoch - 25ms/step\n",
      "Epoch 60/64\n",
      "156/156 - 4s - total_loss: 3.5293 - forward_loss: 1.5927 - latent_loss: 0.9302 - rev_loss: 1.0064 - 4s/epoch - 24ms/step\n",
      "Epoch 61/64\n",
      "156/156 - 4s - total_loss: 3.2826 - forward_loss: 1.4937 - latent_loss: 0.8666 - rev_loss: 0.9224 - 4s/epoch - 25ms/step\n",
      "Epoch 62/64\n",
      "156/156 - 4s - total_loss: 3.3067 - forward_loss: 1.5219 - latent_loss: 0.8672 - rev_loss: 0.9176 - 4s/epoch - 24ms/step\n",
      "Epoch 63/64\n",
      "156/156 - 4s - total_loss: 3.4278 - forward_loss: 1.5901 - latent_loss: 0.9249 - rev_loss: 0.9129 - 4s/epoch - 24ms/step\n",
      "Epoch 64/64\n",
      "156/156 - 4s - total_loss: 3.6120 - forward_loss: 1.6701 - latent_loss: 0.9568 - rev_loss: 0.9852 - 4s/epoch - 25ms/step\n",
      "=== Time elapsed: 4.2343 min ===\n"
     ]
    }
   ],
   "source": [
    "# Load the TensorBoard notebook extension.\n",
    "import datetime\n",
    "\n",
    "\n",
    "LossFactor = UpdateLossFactor(n_epoch)\n",
    "logger = NBatchLogger(n_display, n_epoch)\n",
    "\n",
    "# set log file\n",
    "%rm -r ./logs\n",
    "log_dir = \"logs/fit/\" + datetime.datetime.now().strftime(\"%Y%m%d-%H%M%S\")\n",
    "# set callback of tensorboard\n",
    "tensorboard_callback = tf.keras.callbacks.TensorBoard(log_dir=log_dir, histogram_freq=5, write_graph=True, write_images=False,)\n",
    "\n",
    "hist = trainer.fit(\n",
    "    dataset,\n",
    "    batch_size=n_batch,\n",
    "    epochs=n_epoch,\n",
    "    steps_per_epoch=n_data // n_batch,\n",
    "    callbacks=[logger, LossFactor, tensorboard_callback],\n",
    "    verbose=2,\n",
    ")"
   ]
  },
  {
   "cell_type": "markdown",
   "metadata": {},
   "source": [
    "### Results"
   ]
  },
  {
   "cell_type": "code",
   "execution_count": 9,
   "metadata": {},
   "outputs": [
    {
     "data": {
      "image/png": "[encoded data removed]",
      "text/plain": [
       "<Figure size 800x500 with 1 Axes>"
      ]
     },
     "metadata": {},
     "output_type": "display_data"
    }
   ],
   "source": [
    "fig, ax = plt.subplots(1, facecolor=\"white\", figsize=(8, 5))\n",
    "ax.plot(hist.history[\"total_loss\"], \"k.-\", label=\"total_loss\")\n",
    "ax.plot(hist.history[\"forward_loss\"], \"b.-\", label=\"forward_loss\")\n",
    "ax.plot(hist.history[\"latent_loss\"], \"g.-\", label=\"latent_loss\")\n",
    "ax.plot(hist.history[\"rev_loss\"], \"r.-\", label=\"inverse_loss\")\n",
    "plt.semilogy()\n",
    "plt.legend()\n",
    "plt.savefig(\"loss.png\")\n",
    "plt.show()\n",
    "plt.close()"
   ]
  },
  {
   "cell_type": "code",
   "execution_count": 10,
   "metadata": {},
   "outputs": [],
   "source": [
    "# # Preprocess\n",
    "# z = np.random.multivariate_normal([1.0] * z_dim, np.eye(z_dim), test_y.shape[0])\n",
    "# y = np.concatenate([z, test_y], axis=-1).astype(\"float32\")\n",
    "# x_pred = model.inverse(y).numpy()\n",
    "# print(\"x_pred\", x_pred.shape)\n",
    "# pz_pred = x_pred[:, 3] + x_pred[:, 7]\n",
    "# pt_pred = np.sqrt(\n",
    "#     np.square(x_pred[:, 1] + x_pred[:, 5]) + np.square(x_pred[:, 2] + x_pred[:, 6])\n",
    "# )\n",
    "# E_pred = x_pred[:, 0] + x_pred[:, 4]\n",
    "\n",
    "# pz_truth = test_x[:, 3] + test_x[:, 7]\n",
    "# pt_truth = np.sqrt(\n",
    "#     np.square(test_x[:, 1] + test_x[:, 5]) + np.square(test_x[:, 2] + test_x[:, 6])\n",
    "# )\n",
    "# E_truth = test_x[:, 0] + test_x[:, 4]"
   ]
  },
  {
   "cell_type": "code",
   "execution_count": 11,
   "metadata": {},
   "outputs": [
    {
     "name": "stdout",
     "output_type": "stream",
     "text": [
      "x_pred (2000, 8)\n"
     ]
    }
   ],
   "source": [
    "# Preprocess\n",
    "z = np.random.multivariate_normal([1.0] * z_dim, np.eye(z_dim), test_y.shape[0])\n",
    "y = np.concatenate([z, test_y], axis=-1).astype(\"float32\")\n",
    "x_pred = model.inverse(y).numpy()\n",
    "print(\"x_pred\", x_pred.shape)\n",
    "pz_pred = x_pred[:, 3]\n",
    "pt_pred = np.sqrt(np.square(x_pred[:, 1]) + np.square(x_pred[:, 2]))\n",
    "E_pred = x_pred[:, 0]\n",
    "\n",
    "pz_truth = test_x[:, 3]\n",
    "pt_truth = np.sqrt(np.square(test_x[:, 1]) + np.square(test_x[:, 2]))\n",
    "E_truth = test_x[:, 0]"
   ]
  },
  {
   "cell_type": "code",
   "execution_count": 12,
   "metadata": {},
   "outputs": [
    {
     "name": "stdout",
     "output_type": "stream",
     "text": [
      "pz -> Pearson coeff: -0.040\n",
      "E  -> Pearson coeff: 0.005\n",
      "pt -> Pearson coeff: 0.697\n"
     ]
    },
    {
     "data": {
      "image/png": "[encoded data removed]",
      "text/plain": [
       "<Figure size 720x720 with 2 Axes>"
      ]
     },
     "metadata": {},
     "output_type": "display_data"
    },
    {
     "data": {
      "image/png": "[encoded data removed]",
      "text/plain": [
       "<Figure size 720x720 with 2 Axes>"
      ]
     },
     "metadata": {},
     "output_type": "display_data"
    },
    {
     "data": {
      "image/png": "[encoded data removed]",
      "text/plain": [
       "<Figure size 720x720 with 2 Axes>"
      ]
     },
     "metadata": {},
     "output_type": "display_data"
    },
    {
     "name": "stdout",
     "output_type": "stream",
     "text": [
      "====================== Finished!! ======================\n"
     ]
    }
   ],
   "source": [
    "def plot_2d_histogram(pred, truth, title, save_name, bins=100):\n",
    "    hist, xedges, yedges = np.histogram2d(pred.flatten(), truth, bins=(bins, bins))\n",
    "    hist = np.ma.masked_where(hist == 0, hist)\n",
    "    fig = plt.figure(figsize=(6, 6), dpi=120)\n",
    "    plt.pcolormesh(xedges, yedges, hist.T, cmap=\"viridis\")\n",
    "    cbar = plt.colorbar()\n",
    "    cbar.set_label(\"Frequency\")\n",
    "    plt.title(title)\n",
    "    plt.xlabel(\"Prediction\")\n",
    "    plt.ylabel(\"Truth\")\n",
    "    plt.savefig(save_name)\n",
    "    plt.axis(\"equal\")\n",
    "    plt.show()\n",
    "    plt.close()\n",
    "\n",
    "\n",
    "# Plot the results\n",
    "import scipy as sp\n",
    "\n",
    "print(f\"pz -> Pearson coeff: {sp.stats.pearsonr(pz_truth, pz_pred)[0]:.3f}\")\n",
    "print(f\"E  -> Pearson coeff: {sp.stats.pearsonr(E_truth, E_pred)[0]:.3f}\")\n",
    "print(f\"pt -> Pearson coeff: {sp.stats.pearsonr(pt_truth, pt_pred)[0]:.3f}\")\n",
    "plot_2d_histogram(pz_truth, pz_pred, r\"$p^{\\nu\\nu}_{z}$\", save_name=\"pz.png\")\n",
    "plot_2d_histogram(E_truth, E_pred, r\"$E^{\\nu\\nu}$\", save_name=\"energy.png\")\n",
    "plot_2d_histogram(pt_truth, pt_pred, r\"$p^{\\nu\\nu}_{T}$\", save_name=\"pt.png\")\n",
    "\n",
    "print(\"====================== Finished!! ======================\")\n",
    "\n",
    "# tensorboard --logdir logs/fit"
   ]
  }
 ],
 "metadata": {
  "kernelspec": {
   "display_name": "tf",
   "language": "python",
   "name": "python3"
  },
  "language_info": {
   "codemirror_mode": {
    "name": "ipython",
    "version": 3
   },
   "file_extension": ".py",
   "mimetype": "text/x-python",
   "name": "python",
   "nbconvert_exporter": "python",
   "pygments_lexer": "ipython3",
   "version": "3.10.12"
  }
 },
 "nbformat": 4,
 "nbformat_minor": 2
}
