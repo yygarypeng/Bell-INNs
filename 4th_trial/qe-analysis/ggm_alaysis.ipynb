{
 "cells": [
  {
   "cell_type": "code",
<<<<<<< HEAD
   "execution_count": 1,
=======
   "execution_count": 43,
>>>>>>> ehep_tf216
   "id": "9b30635f",
   "metadata": {},
   "outputs": [],
   "source": [
    "%reset -f\n",
    "import time\n",
    "t_start = time.time()"
   ]
  },
  {
   "cell_type": "code",
<<<<<<< HEAD
   "execution_count": 2,
   "id": "ed4edbfe",
   "metadata": {},
   "outputs": [
    {
     "name": "stdout",
     "output_type": "stream",
     "text": [
      "Adding ../../qe to sys.path\n",
      "Welcome to JupyROOT 6.28/04\n"
     ]
    }
   ],
   "source": [
    "import sys\n",
    "import os\n",
    "\n",
    "# Verify the path\n",
    "qe_path = \"../../qe\"\n",
    "print(f\"Adding {qe_path} to sys.path\")\n",
    "sys.path.insert(0, qe_path)\n",
=======
   "execution_count": 44,
   "id": "ed4edbfe",
   "metadata": {},
   "outputs": [],
   "source": [
    "import sys\n",
    "import os\n",
    "import glob\n",
    "HOME_PATH = os.path.abspath(\"../..\")\n",
    "sys.path.insert(0, HOME_PATH + \"/qe\")\n",
    "import get_data as gd\n",
    "import atlas_plot as ap\n",
    "plot = ap.Plotter()\n",
>>>>>>> ehep_tf216
    "\n",
    "import my_cmaps\n",
    "\n",
    "import numpy as np\n",
    "import pandas as pd\n",
    "import uproot\n",
    "import ROOT\n",
    "from ROOT import TLorentzVector, TVector3\n",
    "import multiprocessing\n",
    "import seaborn as sns\n",
    "import matplotlib.pyplot as plt\n",
    "from mpl_toolkits.axes_grid1 import make_axes_locatable\n",
    "import matplotlib as mpl\n",
    "mpl.style.use('default')"
   ]
  },
  {
   "cell_type": "code",
<<<<<<< HEAD
   "execution_count": 9,
   "id": "77786009",
   "metadata": {},
   "outputs": [
    {
     "name": "stdout",
     "output_type": "stream",
     "text": [
      "504669_analyze.root\n"
     ]
    }
   ],
   "source": [
    "!ls /root/data/ggm_truth_analysis/madgraph_dump/CutTruthChannels"
   ]
  },
  {
   "cell_type": "code",
   "execution_count": 10,
=======
   "execution_count": 45,
>>>>>>> ehep_tf216
   "id": "eaa551bf",
   "metadata": {},
   "outputs": [],
   "source": [
    "# designates the data path\n",
    "DSID = 345324\n",
    "# DSID = 504669\n",
    "TREES = str(DSID) + \";1\"\n",
    "if DSID == 345324:\n",
    "    TYPE = \"powheg\"\n",
    "elif DSID == 504669:\n",
    "    TYPE = \"madgraph\"\n",
    "PATH = f\"/root/data/ggm_truth_analysis/{TYPE}_dump/\"\n",
    "\n",
    "# some constant\n",
    "GEV = 1e-3\n",
    "WORKERS = 64"
   ]
  },
  {
   "cell_type": "code",
<<<<<<< HEAD
   "execution_count": 11,
=======
   "execution_count": 46,
>>>>>>> ehep_tf216
   "id": "071d77dc",
   "metadata": {},
   "outputs": [],
   "source": [
    "def load_data(path=PATH, cut_stage=\"CutTruthTopo\"):\n",
    "    file = uproot.open(path + cut_stage + f\"/{DSID}_analyze.root\")\n",
    "    branches = file[TREES].keys()\n",
    "    data = {\n",
    "        branch.split(\".\")[-1]: file[TREES][branch].array(library=\"pd\")\n",
    "        for branch in branches\n",
    "    }\n",
    "    print(branches)\n",
    "    return data"
   ]
  },
  {
   "cell_type": "code",
<<<<<<< HEAD
   "execution_count": 12,
=======
   "execution_count": 47,
   "id": "9f0d212e",
   "metadata": {},
   "outputs": [
    {
     "name": "stdout",
     "output_type": "stream",
     "text": [
      "CutLeadLeptonPt_Truth  CutSubLeadLeptonPt_Truth  CutTruthTopo\n",
      "CutOSLeptons_Truth     CutTruthChannels\n"
     ]
    }
   ],
   "source": [
    "!ls /data/ggm_truth_analysis/madgraph_dump"
   ]
  },
  {
   "cell_type": "code",
   "execution_count": 48,
>>>>>>> ehep_tf216
   "id": "a3301d44",
   "metadata": {},
   "outputs": [
    {
     "ename": "FileNotFoundError",
     "evalue": "file not found\n\n    '/root/data/ggm_truth_analysis/powheg_dump/CutTruthChannels/345324_analyze.root'\n\nFiles may be specified as:\n   * str/bytes: relative or absolute filesystem path or URL, without any colons\n         other than Windows drive letter or URL schema.\n         Examples: \"rel/file.root\", \"C:\\abs\\file.root\", \"http://where/what.root\"\n   * str/bytes: same with an object-within-ROOT path, separated by a colon.\n         Example: \"rel/file.root:tdirectory/ttree\"\n   * pathlib.Path: always interpreted as a filesystem path or URL only (no\n         object-within-ROOT path), regardless of whether there are any colons.\n         Examples: Path(\"rel:/file.root\"), Path(\"/abs/path:stuff.root\")\n\nFunctions that accept many files (uproot.iterate, etc.) also allow:\n   * glob syntax in str/bytes and pathlib.Path.\n         Examples: Path(\"rel/*.root\"), \"/abs/*.root:tdirectory/ttree\"\n   * dict: keys are filesystem paths, values are objects-within-ROOT paths.\n         Example: {\"/data_v1/*.root\": \"ttree_v1\", \"/data_v2/*.root\": \"ttree_v2\"}\n   * already-open TTree objects.\n   * iterables of the above.\n",
     "output_type": "error",
     "traceback": [
      "\u001b[0;31m---------------------------------------------------------------------------\u001b[0m",
      "\u001b[0;31mFileNotFoundError\u001b[0m                         Traceback (most recent call last)",
      "File \u001b[0;32m~/miniconda3/envs/tf/lib/python3.10/site-packages/uproot/source/file.py:114\u001b[0m, in \u001b[0;36mMemmapSource._open\u001b[0;34m(self)\u001b[0m\n\u001b[1;32m    113\u001b[0m \u001b[38;5;28;01mtry\u001b[39;00m:\n\u001b[0;32m--> 114\u001b[0m     \u001b[38;5;28mself\u001b[39m\u001b[38;5;241m.\u001b[39m_file \u001b[38;5;241m=\u001b[39m \u001b[43mnumpy\u001b[49m\u001b[38;5;241;43m.\u001b[39;49m\u001b[43mmemmap\u001b[49m\u001b[43m(\u001b[49m\u001b[38;5;28;43mself\u001b[39;49m\u001b[38;5;241;43m.\u001b[39;49m\u001b[43m_file_path\u001b[49m\u001b[43m,\u001b[49m\u001b[43m \u001b[49m\u001b[43mdtype\u001b[49m\u001b[38;5;241;43m=\u001b[39;49m\u001b[38;5;28;43mself\u001b[39;49m\u001b[38;5;241;43m.\u001b[39;49m\u001b[43m_dtype\u001b[49m\u001b[43m,\u001b[49m\u001b[43m \u001b[49m\u001b[43mmode\u001b[49m\u001b[38;5;241;43m=\u001b[39;49m\u001b[38;5;124;43m\"\u001b[39;49m\u001b[38;5;124;43mr\u001b[39;49m\u001b[38;5;124;43m\"\u001b[39;49m\u001b[43m)\u001b[49m\n\u001b[1;32m    115\u001b[0m     \u001b[38;5;28mself\u001b[39m\u001b[38;5;241m.\u001b[39m_fallback \u001b[38;5;241m=\u001b[39m \u001b[38;5;28;01mNone\u001b[39;00m\n",
      "File \u001b[0;32m~/miniconda3/envs/tf/lib/python3.10/site-packages/numpy/core/memmap.py:228\u001b[0m, in \u001b[0;36mmemmap.__new__\u001b[0;34m(subtype, filename, dtype, mode, offset, shape, order)\u001b[0m\n\u001b[1;32m    227\u001b[0m \u001b[38;5;28;01melse\u001b[39;00m:\n\u001b[0;32m--> 228\u001b[0m     f_ctx \u001b[38;5;241m=\u001b[39m \u001b[38;5;28;43mopen\u001b[39;49m\u001b[43m(\u001b[49m\u001b[43mos_fspath\u001b[49m\u001b[43m(\u001b[49m\u001b[43mfilename\u001b[49m\u001b[43m)\u001b[49m\u001b[43m,\u001b[49m\u001b[43m \u001b[49m\u001b[43m(\u001b[49m\u001b[38;5;124;43m'\u001b[39;49m\u001b[38;5;124;43mr\u001b[39;49m\u001b[38;5;124;43m'\u001b[39;49m\u001b[43m \u001b[49m\u001b[38;5;28;43;01mif\u001b[39;49;00m\u001b[43m \u001b[49m\u001b[43mmode\u001b[49m\u001b[43m \u001b[49m\u001b[38;5;241;43m==\u001b[39;49m\u001b[43m \u001b[49m\u001b[38;5;124;43m'\u001b[39;49m\u001b[38;5;124;43mc\u001b[39;49m\u001b[38;5;124;43m'\u001b[39;49m\u001b[43m \u001b[49m\u001b[38;5;28;43;01melse\u001b[39;49;00m\u001b[43m \u001b[49m\u001b[43mmode\u001b[49m\u001b[43m)\u001b[49m\u001b[38;5;241;43m+\u001b[39;49m\u001b[38;5;124;43m'\u001b[39;49m\u001b[38;5;124;43mb\u001b[39;49m\u001b[38;5;124;43m'\u001b[39;49m\u001b[43m)\u001b[49m\n\u001b[1;32m    230\u001b[0m \u001b[38;5;28;01mwith\u001b[39;00m f_ctx \u001b[38;5;28;01mas\u001b[39;00m fid:\n",
      "\u001b[0;31mFileNotFoundError\u001b[0m: [Errno 2] No such file or directory: '/root/data/ggm_truth_analysis/powheg_dump/CutTruthChannels/345324_analyze.root'",
      "\nDuring handling of the above exception, another exception occurred:\n",
      "\u001b[0;31mFileNotFoundError\u001b[0m                         Traceback (most recent call last)",
      "File \u001b[0;32m~/miniconda3/envs/tf/lib/python3.10/site-packages/uproot/source/file.py:38\u001b[0m, in \u001b[0;36mFileResource.__init__\u001b[0;34m(self, file_path)\u001b[0m\n\u001b[1;32m     37\u001b[0m \u001b[38;5;28;01mtry\u001b[39;00m:\n\u001b[0;32m---> 38\u001b[0m     \u001b[38;5;28mself\u001b[39m\u001b[38;5;241m.\u001b[39m_file \u001b[38;5;241m=\u001b[39m \u001b[38;5;28;43mopen\u001b[39;49m\u001b[43m(\u001b[49m\u001b[38;5;28;43mself\u001b[39;49m\u001b[38;5;241;43m.\u001b[39;49m\u001b[43m_file_path\u001b[49m\u001b[43m,\u001b[49m\u001b[43m \u001b[49m\u001b[38;5;124;43m\"\u001b[39;49m\u001b[38;5;124;43mrb\u001b[39;49m\u001b[38;5;124;43m\"\u001b[39;49m\u001b[43m)\u001b[49m\n\u001b[1;32m     39\u001b[0m \u001b[38;5;28;01mexcept\u001b[39;00m uproot\u001b[38;5;241m.\u001b[39m_util\u001b[38;5;241m.\u001b[39m_FileNotFoundError \u001b[38;5;28;01mas\u001b[39;00m err:\n",
      "\u001b[0;31mFileNotFoundError\u001b[0m: [Errno 2] No such file or directory: '/root/data/ggm_truth_analysis/powheg_dump/CutTruthChannels/345324_analyze.root'",
      "\nThe above exception was the direct cause of the following exception:\n",
      "\u001b[0;31mFileNotFoundError\u001b[0m                         Traceback (most recent call last)",
      "Cell \u001b[0;32mIn[12], line 1\u001b[0m\n\u001b[0;32m----> 1\u001b[0m data_truth \u001b[38;5;241m=\u001b[39m \u001b[43mload_data\u001b[49m\u001b[43m(\u001b[49m\u001b[43mcut_stage\u001b[49m\u001b[38;5;241;43m=\u001b[39;49m\u001b[38;5;124;43m\"\u001b[39;49m\u001b[38;5;124;43mCutTruthChannels\u001b[39;49m\u001b[38;5;124;43m\"\u001b[39;49m\u001b[43m)\u001b[49m\n",
      "Cell \u001b[0;32mIn[11], line 2\u001b[0m, in \u001b[0;36mload_data\u001b[0;34m(path, cut_stage)\u001b[0m\n\u001b[1;32m      1\u001b[0m \u001b[38;5;28;01mdef\u001b[39;00m \u001b[38;5;21mload_data\u001b[39m(path\u001b[38;5;241m=\u001b[39mPATH, cut_stage\u001b[38;5;241m=\u001b[39m\u001b[38;5;124m\"\u001b[39m\u001b[38;5;124mCutTruthTopo\u001b[39m\u001b[38;5;124m\"\u001b[39m):\n\u001b[0;32m----> 2\u001b[0m     file \u001b[38;5;241m=\u001b[39m \u001b[43muproot\u001b[49m\u001b[38;5;241;43m.\u001b[39;49m\u001b[43mopen\u001b[49m\u001b[43m(\u001b[49m\u001b[43mpath\u001b[49m\u001b[43m \u001b[49m\u001b[38;5;241;43m+\u001b[39;49m\u001b[43m \u001b[49m\u001b[43mcut_stage\u001b[49m\u001b[43m \u001b[49m\u001b[38;5;241;43m+\u001b[39;49m\u001b[43m \u001b[49m\u001b[38;5;124;43mf\u001b[39;49m\u001b[38;5;124;43m\"\u001b[39;49m\u001b[38;5;124;43m/\u001b[39;49m\u001b[38;5;132;43;01m{\u001b[39;49;00m\u001b[43mDSID\u001b[49m\u001b[38;5;132;43;01m}\u001b[39;49;00m\u001b[38;5;124;43m_analyze.root\u001b[39;49m\u001b[38;5;124;43m\"\u001b[39;49m\u001b[43m)\u001b[49m\n\u001b[1;32m      3\u001b[0m     branches \u001b[38;5;241m=\u001b[39m file[TREES]\u001b[38;5;241m.\u001b[39mkeys()\n\u001b[1;32m      4\u001b[0m     data \u001b[38;5;241m=\u001b[39m {\n\u001b[1;32m      5\u001b[0m         branch\u001b[38;5;241m.\u001b[39msplit(\u001b[38;5;124m\"\u001b[39m\u001b[38;5;124m.\u001b[39m\u001b[38;5;124m\"\u001b[39m)[\u001b[38;5;241m-\u001b[39m\u001b[38;5;241m1\u001b[39m]: file[TREES][branch]\u001b[38;5;241m.\u001b[39marray(library\u001b[38;5;241m=\u001b[39m\u001b[38;5;124m\"\u001b[39m\u001b[38;5;124mpd\u001b[39m\u001b[38;5;124m\"\u001b[39m)\n\u001b[1;32m      6\u001b[0m         \u001b[38;5;28;01mfor\u001b[39;00m branch \u001b[38;5;129;01min\u001b[39;00m branches\n\u001b[1;32m      7\u001b[0m     }\n",
      "File \u001b[0;32m~/miniconda3/envs/tf/lib/python3.10/site-packages/uproot/reading.py:143\u001b[0m, in \u001b[0;36mopen\u001b[0;34m(path, object_cache, array_cache, custom_classes, decompression_executor, interpretation_executor, **options)\u001b[0m\n\u001b[1;32m    134\u001b[0m \u001b[38;5;28;01mif\u001b[39;00m \u001b[38;5;129;01mnot\u001b[39;00m uproot\u001b[38;5;241m.\u001b[39m_util\u001b[38;5;241m.\u001b[39misstr(file_path) \u001b[38;5;129;01mand\u001b[39;00m \u001b[38;5;129;01mnot\u001b[39;00m (\n\u001b[1;32m    135\u001b[0m     \u001b[38;5;28mhasattr\u001b[39m(file_path, \u001b[38;5;124m\"\u001b[39m\u001b[38;5;124mread\u001b[39m\u001b[38;5;124m\"\u001b[39m) \u001b[38;5;129;01mand\u001b[39;00m \u001b[38;5;28mhasattr\u001b[39m(file_path, \u001b[38;5;124m\"\u001b[39m\u001b[38;5;124mseek\u001b[39m\u001b[38;5;124m\"\u001b[39m)\n\u001b[1;32m    136\u001b[0m ):\n\u001b[1;32m    137\u001b[0m     \u001b[38;5;28;01mraise\u001b[39;00m \u001b[38;5;167;01mValueError\u001b[39;00m(\n\u001b[1;32m    138\u001b[0m         \u001b[38;5;124m\"\u001b[39m\u001b[38;5;124m'\u001b[39m\u001b[38;5;124mpath\u001b[39m\u001b[38;5;124m'\u001b[39m\u001b[38;5;124m must be a string, pathlib.Path, an object with \u001b[39m\u001b[38;5;124m'\u001b[39m\u001b[38;5;124mread\u001b[39m\u001b[38;5;124m'\u001b[39m\u001b[38;5;124m and \u001b[39m\u001b[38;5;124m\"\u001b[39m\n\u001b[1;32m    139\u001b[0m         \u001b[38;5;124m\"\u001b[39m\u001b[38;5;124m'\u001b[39m\u001b[38;5;124mseek\u001b[39m\u001b[38;5;124m'\u001b[39m\u001b[38;5;124m methods, or a length-1 dict of \u001b[39m\u001b[38;5;124m{\u001b[39m\u001b[38;5;124mfile_path: object_path}, \u001b[39m\u001b[38;5;124m\"\u001b[39m\n\u001b[1;32m    140\u001b[0m         \u001b[38;5;124mf\u001b[39m\u001b[38;5;124m\"\u001b[39m\u001b[38;5;124mnot \u001b[39m\u001b[38;5;132;01m{\u001b[39;00mpath\u001b[38;5;132;01m!r}\u001b[39;00m\u001b[38;5;124m\"\u001b[39m\n\u001b[1;32m    141\u001b[0m     )\n\u001b[0;32m--> 143\u001b[0m file \u001b[38;5;241m=\u001b[39m \u001b[43mReadOnlyFile\u001b[49m\u001b[43m(\u001b[49m\n\u001b[1;32m    144\u001b[0m \u001b[43m    \u001b[49m\u001b[43mfile_path\u001b[49m\u001b[43m,\u001b[49m\n\u001b[1;32m    145\u001b[0m \u001b[43m    \u001b[49m\u001b[43mobject_cache\u001b[49m\u001b[38;5;241;43m=\u001b[39;49m\u001b[43mobject_cache\u001b[49m\u001b[43m,\u001b[49m\n\u001b[1;32m    146\u001b[0m \u001b[43m    \u001b[49m\u001b[43marray_cache\u001b[49m\u001b[38;5;241;43m=\u001b[39;49m\u001b[43marray_cache\u001b[49m\u001b[43m,\u001b[49m\n\u001b[1;32m    147\u001b[0m \u001b[43m    \u001b[49m\u001b[43mcustom_classes\u001b[49m\u001b[38;5;241;43m=\u001b[39;49m\u001b[43mcustom_classes\u001b[49m\u001b[43m,\u001b[49m\n\u001b[1;32m    148\u001b[0m \u001b[43m    \u001b[49m\u001b[43mdecompression_executor\u001b[49m\u001b[38;5;241;43m=\u001b[39;49m\u001b[43mdecompression_executor\u001b[49m\u001b[43m,\u001b[49m\n\u001b[1;32m    149\u001b[0m \u001b[43m    \u001b[49m\u001b[43minterpretation_executor\u001b[49m\u001b[38;5;241;43m=\u001b[39;49m\u001b[43minterpretation_executor\u001b[49m\u001b[43m,\u001b[49m\n\u001b[1;32m    150\u001b[0m \u001b[43m    \u001b[49m\u001b[38;5;241;43m*\u001b[39;49m\u001b[38;5;241;43m*\u001b[39;49m\u001b[43moptions\u001b[49m\u001b[43m,\u001b[49m\u001b[43m  \u001b[49m\u001b[38;5;66;43;03m# NOTE: a comma after **options breaks Python 2\u001b[39;49;00m\n\u001b[1;32m    151\u001b[0m \u001b[43m\u001b[49m\u001b[43m)\u001b[49m\n\u001b[1;32m    153\u001b[0m \u001b[38;5;28;01mif\u001b[39;00m object_path \u001b[38;5;129;01mis\u001b[39;00m \u001b[38;5;28;01mNone\u001b[39;00m:\n\u001b[1;32m    154\u001b[0m     \u001b[38;5;28;01mreturn\u001b[39;00m file\u001b[38;5;241m.\u001b[39mroot_directory\n",
      "File \u001b[0;32m~/miniconda3/envs/tf/lib/python3.10/site-packages/uproot/reading.py:587\u001b[0m, in \u001b[0;36mReadOnlyFile.__init__\u001b[0;34m(self, file_path, object_cache, array_cache, custom_classes, decompression_executor, interpretation_executor, **options)\u001b[0m\n\u001b[1;32m    582\u001b[0m \u001b[38;5;28mself\u001b[39m\u001b[38;5;241m.\u001b[39mhook_before_create_source()\n\u001b[1;32m    584\u001b[0m Source, file_path \u001b[38;5;241m=\u001b[39m uproot\u001b[38;5;241m.\u001b[39m_util\u001b[38;5;241m.\u001b[39mfile_path_to_source_class(\n\u001b[1;32m    585\u001b[0m     file_path, \u001b[38;5;28mself\u001b[39m\u001b[38;5;241m.\u001b[39m_options\n\u001b[1;32m    586\u001b[0m )\n\u001b[0;32m--> 587\u001b[0m \u001b[38;5;28mself\u001b[39m\u001b[38;5;241m.\u001b[39m_source \u001b[38;5;241m=\u001b[39m \u001b[43mSource\u001b[49m\u001b[43m(\u001b[49m\n\u001b[1;32m    588\u001b[0m \u001b[43m    \u001b[49m\u001b[43mfile_path\u001b[49m\u001b[43m,\u001b[49m\u001b[43m \u001b[49m\u001b[38;5;241;43m*\u001b[39;49m\u001b[38;5;241;43m*\u001b[39;49m\u001b[38;5;28;43mself\u001b[39;49m\u001b[38;5;241;43m.\u001b[39;49m\u001b[43m_options\u001b[49m\u001b[43m  \u001b[49m\u001b[38;5;66;43;03m# NOTE: a comma after **options breaks Python 2\u001b[39;49;00m\n\u001b[1;32m    589\u001b[0m \u001b[43m\u001b[49m\u001b[43m)\u001b[49m\n\u001b[1;32m    591\u001b[0m \u001b[38;5;28mself\u001b[39m\u001b[38;5;241m.\u001b[39mhook_before_get_chunks()\n\u001b[1;32m    593\u001b[0m \u001b[38;5;28;01mif\u001b[39;00m \u001b[38;5;28mself\u001b[39m\u001b[38;5;241m.\u001b[39m_options[\u001b[38;5;124m\"\u001b[39m\u001b[38;5;124mbegin_chunk_size\u001b[39m\u001b[38;5;124m\"\u001b[39m] \u001b[38;5;241m<\u001b[39m _file_header_fields_big\u001b[38;5;241m.\u001b[39msize:\n",
      "File \u001b[0;32m~/miniconda3/envs/tf/lib/python3.10/site-packages/uproot/source/file.py:110\u001b[0m, in \u001b[0;36mMemmapSource.__init__\u001b[0;34m(self, file_path, **options)\u001b[0m\n\u001b[1;32m    107\u001b[0m \u001b[38;5;28mself\u001b[39m\u001b[38;5;241m.\u001b[39m_num_requested_bytes \u001b[38;5;241m=\u001b[39m \u001b[38;5;241m0\u001b[39m\n\u001b[1;32m    109\u001b[0m \u001b[38;5;28mself\u001b[39m\u001b[38;5;241m.\u001b[39m_file_path \u001b[38;5;241m=\u001b[39m file_path\n\u001b[0;32m--> 110\u001b[0m \u001b[38;5;28;43mself\u001b[39;49m\u001b[38;5;241;43m.\u001b[39;49m\u001b[43m_open\u001b[49m\u001b[43m(\u001b[49m\u001b[43m)\u001b[49m\n",
      "File \u001b[0;32m~/miniconda3/envs/tf/lib/python3.10/site-packages/uproot/source/file.py:120\u001b[0m, in \u001b[0;36mMemmapSource._open\u001b[0;34m(self)\u001b[0m\n\u001b[1;32m    118\u001b[0m opts \u001b[38;5;241m=\u001b[39m \u001b[38;5;28mdict\u001b[39m(\u001b[38;5;28mself\u001b[39m\u001b[38;5;241m.\u001b[39m_fallback_opts)\n\u001b[1;32m    119\u001b[0m opts[\u001b[38;5;124m\"\u001b[39m\u001b[38;5;124mnum_workers\u001b[39m\u001b[38;5;124m\"\u001b[39m] \u001b[38;5;241m=\u001b[39m \u001b[38;5;28mself\u001b[39m\u001b[38;5;241m.\u001b[39m_num_fallback_workers\n\u001b[0;32m--> 120\u001b[0m \u001b[38;5;28mself\u001b[39m\u001b[38;5;241m.\u001b[39m_fallback \u001b[38;5;241m=\u001b[39m \u001b[43muproot\u001b[49m\u001b[38;5;241;43m.\u001b[39;49m\u001b[43msource\u001b[49m\u001b[38;5;241;43m.\u001b[39;49m\u001b[43mfile\u001b[49m\u001b[38;5;241;43m.\u001b[39;49m\u001b[43mMultithreadedFileSource\u001b[49m\u001b[43m(\u001b[49m\n\u001b[1;32m    121\u001b[0m \u001b[43m    \u001b[49m\u001b[38;5;28;43mself\u001b[39;49m\u001b[38;5;241;43m.\u001b[39;49m\u001b[43m_file_path\u001b[49m\u001b[43m,\u001b[49m\u001b[43m \u001b[49m\u001b[38;5;241;43m*\u001b[39;49m\u001b[38;5;241;43m*\u001b[39;49m\u001b[43mopts\u001b[49m\u001b[43m  \u001b[49m\u001b[38;5;66;43;03m# NOTE: a comma after **opts breaks Python 2\u001b[39;49;00m\n\u001b[1;32m    122\u001b[0m \u001b[43m\u001b[49m\u001b[43m)\u001b[49m\n",
      "File \u001b[0;32m~/miniconda3/envs/tf/lib/python3.10/site-packages/uproot/source/file.py:253\u001b[0m, in \u001b[0;36mMultithreadedFileSource.__init__\u001b[0;34m(self, file_path, **options)\u001b[0m\n\u001b[1;32m    250\u001b[0m \u001b[38;5;28mself\u001b[39m\u001b[38;5;241m.\u001b[39m_num_workers \u001b[38;5;241m=\u001b[39m options[\u001b[38;5;124m\"\u001b[39m\u001b[38;5;124mnum_workers\u001b[39m\u001b[38;5;124m\"\u001b[39m]\n\u001b[1;32m    252\u001b[0m \u001b[38;5;28mself\u001b[39m\u001b[38;5;241m.\u001b[39m_file_path \u001b[38;5;241m=\u001b[39m file_path\n\u001b[0;32m--> 253\u001b[0m \u001b[38;5;28;43mself\u001b[39;49m\u001b[38;5;241;43m.\u001b[39;49m\u001b[43m_open\u001b[49m\u001b[43m(\u001b[49m\u001b[43m)\u001b[49m\n",
      "File \u001b[0;32m~/miniconda3/envs/tf/lib/python3.10/site-packages/uproot/source/file.py:258\u001b[0m, in \u001b[0;36mMultithreadedFileSource._open\u001b[0;34m(self)\u001b[0m\n\u001b[1;32m    255\u001b[0m \u001b[38;5;28;01mdef\u001b[39;00m \u001b[38;5;21m_open\u001b[39m(\u001b[38;5;28mself\u001b[39m):\n\u001b[1;32m    256\u001b[0m     \u001b[38;5;28;01mif\u001b[39;00m \u001b[38;5;28mself\u001b[39m\u001b[38;5;241m.\u001b[39m_use_threads:\n\u001b[1;32m    257\u001b[0m         \u001b[38;5;28mself\u001b[39m\u001b[38;5;241m.\u001b[39m_executor \u001b[38;5;241m=\u001b[39m uproot\u001b[38;5;241m.\u001b[39msource\u001b[38;5;241m.\u001b[39mfutures\u001b[38;5;241m.\u001b[39mResourceThreadPoolExecutor(\n\u001b[0;32m--> 258\u001b[0m             [FileResource(\u001b[38;5;28mself\u001b[39m\u001b[38;5;241m.\u001b[39m_file_path) \u001b[38;5;28;01mfor\u001b[39;00m x \u001b[38;5;129;01min\u001b[39;00m \u001b[38;5;28mrange\u001b[39m(\u001b[38;5;28mself\u001b[39m\u001b[38;5;241m.\u001b[39m_num_workers)]\n\u001b[1;32m    259\u001b[0m         )\n\u001b[1;32m    260\u001b[0m     \u001b[38;5;28;01melse\u001b[39;00m:\n\u001b[1;32m    261\u001b[0m         \u001b[38;5;28mself\u001b[39m\u001b[38;5;241m.\u001b[39m_executor \u001b[38;5;241m=\u001b[39m uproot\u001b[38;5;241m.\u001b[39msource\u001b[38;5;241m.\u001b[39mfutures\u001b[38;5;241m.\u001b[39mResourceTrivialExecutor(\n\u001b[1;32m    262\u001b[0m             FileResource(\u001b[38;5;28mself\u001b[39m\u001b[38;5;241m.\u001b[39m_file_path)\n\u001b[1;32m    263\u001b[0m         )\n",
      "File \u001b[0;32m~/miniconda3/envs/tf/lib/python3.10/site-packages/uproot/source/file.py:258\u001b[0m, in \u001b[0;36m<listcomp>\u001b[0;34m(.0)\u001b[0m\n\u001b[1;32m    255\u001b[0m \u001b[38;5;28;01mdef\u001b[39;00m \u001b[38;5;21m_open\u001b[39m(\u001b[38;5;28mself\u001b[39m):\n\u001b[1;32m    256\u001b[0m     \u001b[38;5;28;01mif\u001b[39;00m \u001b[38;5;28mself\u001b[39m\u001b[38;5;241m.\u001b[39m_use_threads:\n\u001b[1;32m    257\u001b[0m         \u001b[38;5;28mself\u001b[39m\u001b[38;5;241m.\u001b[39m_executor \u001b[38;5;241m=\u001b[39m uproot\u001b[38;5;241m.\u001b[39msource\u001b[38;5;241m.\u001b[39mfutures\u001b[38;5;241m.\u001b[39mResourceThreadPoolExecutor(\n\u001b[0;32m--> 258\u001b[0m             [\u001b[43mFileResource\u001b[49m\u001b[43m(\u001b[49m\u001b[38;5;28;43mself\u001b[39;49m\u001b[38;5;241;43m.\u001b[39;49m\u001b[43m_file_path\u001b[49m\u001b[43m)\u001b[49m \u001b[38;5;28;01mfor\u001b[39;00m x \u001b[38;5;129;01min\u001b[39;00m \u001b[38;5;28mrange\u001b[39m(\u001b[38;5;28mself\u001b[39m\u001b[38;5;241m.\u001b[39m_num_workers)]\n\u001b[1;32m    259\u001b[0m         )\n\u001b[1;32m    260\u001b[0m     \u001b[38;5;28;01melse\u001b[39;00m:\n\u001b[1;32m    261\u001b[0m         \u001b[38;5;28mself\u001b[39m\u001b[38;5;241m.\u001b[39m_executor \u001b[38;5;241m=\u001b[39m uproot\u001b[38;5;241m.\u001b[39msource\u001b[38;5;241m.\u001b[39mfutures\u001b[38;5;241m.\u001b[39mResourceTrivialExecutor(\n\u001b[1;32m    262\u001b[0m             FileResource(\u001b[38;5;28mself\u001b[39m\u001b[38;5;241m.\u001b[39m_file_path)\n\u001b[1;32m    263\u001b[0m         )\n",
      "File \u001b[0;32m~/miniconda3/envs/tf/lib/python3.10/site-packages/uproot/source/file.py:40\u001b[0m, in \u001b[0;36mFileResource.__init__\u001b[0;34m(self, file_path)\u001b[0m\n\u001b[1;32m     38\u001b[0m     \u001b[38;5;28mself\u001b[39m\u001b[38;5;241m.\u001b[39m_file \u001b[38;5;241m=\u001b[39m \u001b[38;5;28mopen\u001b[39m(\u001b[38;5;28mself\u001b[39m\u001b[38;5;241m.\u001b[39m_file_path, \u001b[38;5;124m\"\u001b[39m\u001b[38;5;124mrb\u001b[39m\u001b[38;5;124m\"\u001b[39m)\n\u001b[1;32m     39\u001b[0m \u001b[38;5;28;01mexcept\u001b[39;00m uproot\u001b[38;5;241m.\u001b[39m_util\u001b[38;5;241m.\u001b[39m_FileNotFoundError \u001b[38;5;28;01mas\u001b[39;00m err:\n\u001b[0;32m---> 40\u001b[0m     \u001b[38;5;28;01mraise\u001b[39;00m uproot\u001b[38;5;241m.\u001b[39m_util\u001b[38;5;241m.\u001b[39m_file_not_found(file_path) \u001b[38;5;28;01mfrom\u001b[39;00m \u001b[38;5;21;01merr\u001b[39;00m\n",
      "\u001b[0;31mFileNotFoundError\u001b[0m: file not found\n\n    '/root/data/ggm_truth_analysis/powheg_dump/CutTruthChannels/345324_analyze.root'\n\nFiles may be specified as:\n   * str/bytes: relative or absolute filesystem path or URL, without any colons\n         other than Windows drive letter or URL schema.\n         Examples: \"rel/file.root\", \"C:\\abs\\file.root\", \"http://where/what.root\"\n   * str/bytes: same with an object-within-ROOT path, separated by a colon.\n         Example: \"rel/file.root:tdirectory/ttree\"\n   * pathlib.Path: always interpreted as a filesystem path or URL only (no\n         object-within-ROOT path), regardless of whether there are any colons.\n         Examples: Path(\"rel:/file.root\"), Path(\"/abs/path:stuff.root\")\n\nFunctions that accept many files (uproot.iterate, etc.) also allow:\n   * glob syntax in str/bytes and pathlib.Path.\n         Examples: Path(\"rel/*.root\"), \"/abs/*.root:tdirectory/ttree\"\n   * dict: keys are filesystem paths, values are objects-within-ROOT paths.\n         Example: {\"/data_v1/*.root\": \"ttree_v1\", \"/data_v2/*.root\": \"ttree_v2\"}\n   * already-open TTree objects.\n   * iterables of the above.\n"
     ]
    }
   ],
   "source": [
    "data_truth = load_data(cut_stage=\"CutTruthChannels\")"
   ]
  },
  {
   "cell_type": "code",
<<<<<<< HEAD
   "execution_count": null,
=======
   "execution_count": 49,
>>>>>>> ehep_tf216
   "id": "c6760d3a",
   "metadata": {},
   "outputs": [
    {
     "data": {
      "text/plain": [
<<<<<<< HEAD
       "count    1.035893e+06\n",
       "mean     5.320685e+01\n",
       "std      5.257439e+01\n",
       "min      5.109429e-01\n",
       "25%      5.110000e-01\n",
       "50%      1.056600e+02\n",
       "75%      1.056600e+02\n",
       "max      1.056600e+02\n",
       "dtype: float64"
      ]
     },
     "execution_count": 60,
=======
       "count    412118.000000\n",
       "mean         52.463718\n",
       "std          52.570889\n",
       "min           0.510988\n",
       "25%           0.511000\n",
       "50%           0.511000\n",
       "75%         105.660004\n",
       "max         105.660004\n",
       "dtype: float64"
      ]
     },
     "execution_count": 49,
>>>>>>> ehep_tf216
     "metadata": {},
     "output_type": "execute_result"
    }
   ],
   "source": [
    "data_truth[\"TruthCandLep1M\"].describe()"
   ]
  },
  {
   "cell_type": "code",
<<<<<<< HEAD
   "execution_count": null,
=======
   "execution_count": 50,
>>>>>>> ehep_tf216
   "id": "b1bc32d6",
   "metadata": {},
   "outputs": [],
   "source": [
    "threadshold = -9999\n",
    "mask = (data_truth[\"TruthQEWpM\"] > threadshold) & (data_truth[\"TruthQEWnM\"] > threadshold) & (data_truth[\"TruthQEHM\"] > threadshold)"
   ]
  },
  {
   "cell_type": "code",
<<<<<<< HEAD
   "execution_count": null,
=======
   "execution_count": 51,
>>>>>>> ehep_tf216
   "id": "86c789ac",
   "metadata": {},
   "outputs": [],
   "source": [
    "# truth stage leptons\n",
    "# loading data\n",
    "\n",
    "truth_lead_lep = (\n",
    "    GEV\n",
    "    * np.array(\n",
    "        [\n",
    "            data_truth[key]\n",
    "            for key in [\n",
    "                \"TruthCandLep0Px\",\n",
    "                \"TruthCandLep0Py\",\n",
    "                \"TruthCandLep0Pz\",\n",
    "                \"TruthCandLep0E\",\n",
    "            ]\n",
    "        ]\n",
    "    ).T\n",
    ")[mask]\n",
    "truth_sublead_lep = (\n",
    "    GEV\n",
    "    * np.array(\n",
    "        [\n",
    "            data_truth[key]\n",
    "            for key in [\n",
    "                \"TruthCandLep1Px\",\n",
    "                \"TruthCandLep1Py\",\n",
    "                \"TruthCandLep1Pz\",\n",
    "                \"TruthCandLep1E\",\n",
    "            ]\n",
    "        ]\n",
    "    ).T\n",
    ")[mask]\n",
    "\n",
    "# truth stage Ws\n",
    "truth_w_ptruth = (\n",
    "    GEV\n",
    "    * np.array(\n",
    "        [\n",
    "            data_truth[key]\n",
    "            for key in [\"TruthQEWpPx\", \"TruthQEWpPy\", \"TruthQEWpPz\", \"TruthQEWpE\"]\n",
    "        ]\n",
    "    ).T\n",
    ")[mask]\n",
    "truth_w_neg = (\n",
    "    GEV\n",
    "    * np.array(\n",
    "        [\n",
    "            data_truth[key]\n",
    "            for key in [\"TruthQEWnPx\", \"TruthQEWnPy\", \"TruthQEWnPz\", \"TruthQEWnE\"]\n",
    "        ]\n",
    "    ).T\n",
    ")[mask]"
   ]
  },
  {
   "cell_type": "code",
<<<<<<< HEAD
   "execution_count": null,
=======
   "execution_count": 52,
>>>>>>> ehep_tf216
   "id": "b0c656c5",
   "metadata": {},
   "outputs": [
    {
<<<<<<< HEAD
     "data": {
      "text/plain": [
       "count    1.035893e+06\n",
       "mean     5.748935e+04\n",
       "std      3.451215e+04\n",
       "min     -1.801639e+02\n",
       "25%      6.584754e-01\n",
       "50%      7.880141e+04\n",
       "75%      8.047495e+04\n",
       "max      1.029247e+05\n",
       "dtype: float64"
      ]
     },
     "execution_count": 63,
     "metadata": {},
     "output_type": "execute_result"
=======
     "name": "stdout",
     "output_type": "stream",
     "text": [
      "count    412118.000000\n",
      "mean      54887.579640\n",
      "std       24410.802354\n",
      "min        2004.996118\n",
      "25%       33804.246900\n",
      "50%       53138.029623\n",
      "75%       79855.533932\n",
      "max      105249.681453\n",
      "dtype: float64\n",
      "\n",
      "count    412118.000000\n",
      "mean      54890.509274\n",
      "std       24442.620226\n",
      "min        2006.323753\n",
      "25%       33759.954185\n",
      "50%       53469.435884\n",
      "75%       79864.665966\n",
      "max      104450.694361\n",
      "dtype: float64\n"
     ]
>>>>>>> ehep_tf216
    }
   ],
   "source": [
    "print(data_truth[\"TruthQEWpM\"][mask].describe(), end=\"\\n\\n\")\n",
    "print(data_truth[\"TruthQEWnM\"][mask].describe())"
   ]
  },
  {
   "cell_type": "code",
<<<<<<< HEAD
   "execution_count": null,
=======
   "execution_count": 53,
>>>>>>> ehep_tf216
   "id": "d0aa704a",
   "metadata": {},
   "outputs": [
    {
     "name": "stdout",
     "output_type": "stream",
     "text": [
<<<<<<< HEAD
      "(1035893,)\n"
=======
      "(412118,)\n"
>>>>>>> ehep_tf216
     ]
    },
    {
     "data": {
<<<<<<< HEAD
      "image/png": "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",
=======
      "image/png": "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",
>>>>>>> ehep_tf216
      "text/plain": [
       "<Figure size 800x560 with 1 Axes>"
      ]
     },
     "metadata": {},
     "output_type": "display_data"
    },
    {
     "name": "stdout",
     "output_type": "stream",
     "text": [
<<<<<<< HEAD
      "(1035893,)\n"
=======
      "(412118,)\n"
>>>>>>> ehep_tf216
     ]
    },
    {
     "data": {
<<<<<<< HEAD
      "image/png": "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",
=======
      "image/png": "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",
>>>>>>> ehep_tf216
      "text/plain": [
       "<Figure size 800x560 with 1 Axes>"
      ]
     },
     "metadata": {},
     "output_type": "display_data"
    }
   ],
   "source": [
    "#  TEST\n",
    "print(data_truth[\"TruthQEWpM\"][mask].shape)\n",
    "fiugre = plt.figure(figsize=(10, 7), dpi=80)\n",
    "plt.hist(data_truth[\"TruthQEWpM\"][mask], bins=120)\n",
    "plt.title(\"TruthQEWpM\")\n",
    "plt.show()\n",
    "plt.close()\n",
<<<<<<< HEAD
=======
    "\n",
    "#  TEST\n",
>>>>>>> ehep_tf216
    "print(data_truth[\"TruthQEWnM\"][mask].shape)\n",
    "fiugre = plt.figure(figsize=(10, 7), dpi=80)\n",
    "plt.hist(data_truth[\"TruthQEWnM\"][mask], bins=120)\n",
    "plt.title(\"TruthQEWnM\")\n",
    "plt.show()\n",
    "plt.close()\n"
   ]
  },
  {
   "cell_type": "code",
<<<<<<< HEAD
   "execution_count": null,
=======
   "execution_count": 54,
>>>>>>> ehep_tf216
   "id": "c404f301",
   "metadata": {},
   "outputs": [],
   "source": [
    "# main algorithm\n",
    "\n",
    "\n",
    "def cglmp(z_xp, z_xn, z_yp, z_yn):\n",
    "    \"\"\"\n",
    "    This is a function to calculate Bij (CGLMP values).\n",
    "    :param z_xp: Angle (xi) between positive lepton and x-axis.\n",
    "    :param z_xn: Angle (xi) between negative lepton and x-axis.\n",
    "    :param z_yp: Angle (xi) between positive lepton and y-axis.\n",
    "    :param z_xn: Angle (xi) between negative lepton and y-axis.\n",
    "    \"\"\"\n",
    "    # count expectation value, use (27) in Alan's paper\n",
    "    tr_a = (np.divide(8, np.sqrt(3))) * (z_xp * z_xn + z_yp * z_yn)\n",
    "    tr_b = (\n",
    "        25 * (np.square(z_xp) - np.square(z_yp)) * (np.square(z_xn) - np.square(z_yn))\n",
    "    )\n",
    "    tr_c = 100 * (z_xp * z_yp * z_xn * z_yn)\n",
    "    tr = tr_a + tr_b + tr_c\n",
    "\n",
    "    return tr\n",
    "\n",
    "\n",
    "def main_alg(particles):\n",
    "    # Ensure ROOT is properly initialized\n",
    "    ROOT.gROOT.SetBatch(True)\n",
    "\n",
    "    WpBoson = TLorentzVector(*particles[:4])\n",
    "    WpLepton = TLorentzVector(*particles[4:8])\n",
    "    WnBoson = TLorentzVector(*particles[8:12])\n",
    "    WnLepton = TLorentzVector(*particles[12:16])\n",
    "\n",
    "    # construct Higgs 4-vector\n",
    "    Higgs = WpBoson + WnBoson\n",
    "\n",
    "    # construct a moving orthogonal basis (k,r,n)\n",
    "    Beam_p = TLorentzVector(0, 0, 1, 1)  # spatial-axis\n",
    "\n",
    "    # define boost vector\n",
    "    Higgsb = Higgs.BoostVector()\n",
    "\n",
    "    # (1) performs a boost transformation from the rod frame to the rawal one.\n",
    "    # Perform boost transformation from the rod frame to the rawal one\n",
    "    for vec in [WpBoson, WpLepton, WnBoson, WnLepton, Beam_p]:\n",
    "        vec.Boost(-Higgsb)\n",
    "\n",
    "    # 2. Define (k,r,n) -> definitions are in Alan's paper\n",
    "    k_per = TVector3(WpBoson.X(), WpBoson.Y(), WpBoson.Z())\n",
    "    p_per = TVector3(Beam_p.X(), Beam_p.Y(), Beam_p.Z())  # in the Higgs rest frame\n",
    "    k = k_per.Unit()  # normalized -> unit vector\n",
    "    p = p_per.Unit()\n",
    "    y = p.Dot(k)\n",
    "    r_length = np.sqrt(1 - y * y)\n",
    "    r = (1 / r_length) * (p - y * k)\n",
    "    n = (1 / r_length) * (p.Cross(k))  # (1/sin)*sin = 1 -> unit vector\n",
    "\n",
    "    # 3. Further boost to W+ and W- frame respectively\n",
    "    WpkBoost = WpBoson.BoostVector()\n",
    "    WpBoson.Boost(-WpkBoost)\n",
    "    WpLepton.Boost(-WpkBoost)\n",
    "    WnkBoost = WnBoson.BoostVector()\n",
    "    WnBoson.Boost(-WnkBoost)\n",
    "    WnLepton.Boost(-WnkBoost)\n",
    "\n",
    "    # 4. Map all particle to (k,r,n) frame\n",
    "    WpLp = WpLepton.Vect()  # momentum in (k,r,n)\n",
    "    WnLp = WnLepton.Vect()\n",
    "    # Mapping to n-r-k basis\n",
    "    WpLp_k = TLorentzVector(WpLp.Dot(n), WpLp.Dot(r), WpLp.Dot(k), WpLepton.E())\n",
    "    WnLp_k = TLorentzVector(WnLp.Dot(n), WnLp.Dot(r), WnLp.Dot(k), WnLepton.E())\n",
    "\n",
    "    # 5. Calculate directional cosines\n",
    "    # directional cosine from Wp\n",
    "    WpLp_Vect_Mag = WpLp_k.Vect().Mag()\n",
    "    cos_n_join_p = np.divide(WpLp_k.X(), WpLp_Vect_Mag)\n",
    "    cos_r_join_p = np.divide(WpLp_k.Y(), WpLp_Vect_Mag)\n",
    "    cos_k_join_p = np.divide(WpLp_k.Z(), WpLp_Vect_Mag)\n",
    "    # directional cosine from Wn\n",
    "    WnLp_Vect_Mag = WnLp_k.Vect().Mag()\n",
    "    cos_n_join_n = np.divide(WnLp_k.X(), WnLp_Vect_Mag)\n",
    "    cos_r_join_n = np.divide(WnLp_k.Y(), WnLp_Vect_Mag)\n",
    "    cos_k_join_n = np.divide(WnLp_k.Z(), WnLp_Vect_Mag)\n",
    "\n",
    "    # 5.1 Calculate GGM\n",
    "    # GGM\n",
    "    lp_pt = np.sqrt(\n",
    "        np.square(WpLp_k.X()) + np.square(WpLp_k.Y())\n",
    "    )  # pT = sqrt(Px^2 + Py^2)\n",
    "    ln_pt = np.sqrt(\n",
    "        np.square(WnLp_k.X()) + np.square(WnLp_k.Y())\n",
    "    )  # pT = sqrt(Px^2 + Py^2)\n",
    "    lp_phi = np.arctan2(WpLp_k.Y(), WpLp_k.X())  # phi = arctan(Py/Px)\n",
    "    ln_phi = np.arctan2(WnLp_k.Y(), WnLp_k.X())  # phi = arctan(Py/Px)\n",
    "    lp_theta = np.arctan(np.divide(lp_pt, WpLp_k.Z()))  # theta = arctan(PT/Pz)\n",
    "    ln_theta = np.arctan(np.divide(ln_pt, WnLp_k.Z()))  # theta = arctan(PT/Pz)\n",
    "\n",
    "    # 6. Calculate Bij (CGLMP values)\n",
    "    B_xy = cglmp(cos_n_join_p, cos_n_join_n, cos_r_join_p, cos_r_join_n)\n",
    "    B_yz = cglmp(cos_r_join_p, cos_r_join_n, cos_k_join_p, cos_k_join_n)\n",
    "    B_zx = cglmp(cos_n_join_p, cos_n_join_n, cos_k_join_p, cos_k_join_n)\n",
    "\n",
    "    return (\n",
    "        np.array([B_xy, B_yz, B_zx]),\n",
    "        np.array([cos_n_join_p, cos_r_join_p, cos_k_join_p]),\n",
    "        np.array([cos_n_join_n, cos_r_join_n, cos_k_join_n]),\n",
    "        np.array([lp_pt, lp_phi, lp_theta]),\n",
    "        np.array([ln_pt, ln_phi, ln_theta]),\n",
    "    )"
   ]
  },
  {
   "cell_type": "code",
<<<<<<< HEAD
   "execution_count": null,
=======
   "execution_count": 55,
>>>>>>> ehep_tf216
   "id": "ce65b6ec",
   "metadata": {},
   "outputs": [],
   "source": [
    "# declare a generator for the resuts\n",
    "\n",
    "\n",
    "def result_generator(particles):\n",
    "    bij = np.zeros((particles.shape[0], 3))\n",
    "    xi_lead = np.zeros((particles.shape[0], 3))\n",
    "    xi_sublead = np.zeros((particles.shape[0], 3))\n",
    "    ggm_lead = np.zeros((particles.shape[0], 3))\n",
    "    ggm_sublead = np.zeros((particles.shape[0], 3))\n",
    "    result = np.array((particles.shape[0], 3, 5))\n",
    "    with multiprocessing.Pool(WORKERS) as pool:\n",
    "        result = np.array(list(pool.map(main_alg, particles)))\n",
    "    bij = result[:, 0]\n",
    "    xi_lead = result[:, 1]\n",
    "    xi_sublead = result[:, 2]\n",
    "    ggm_lead = result[:, 3]\n",
    "    ggm_sublead = result[:, 4]\n",
    "    mask = np.any(np.isnan(bij), axis=1)\n",
    "    return (\n",
    "        bij[~mask, :],\n",
    "        xi_lead[~mask, :],\n",
    "        xi_sublead[~mask, :],\n",
    "        ggm_lead[~mask, :],\n",
    "        ggm_sublead[~mask, :],\n",
    "        mask,\n",
    "    )"
   ]
  },
  {
   "cell_type": "code",
<<<<<<< HEAD
   "execution_count": null,
   "id": "1a2ed600",
   "metadata": {},
   "outputs": [
    {
     "name": "stderr",
     "output_type": "stream",
     "text": [
      "/tmp/ipykernel_1626912/2506733917.py:79: RuntimeWarning: invalid value encountered in divide\n",
      "  cos_n_join_n = np.divide(WnLp_k.X(), WnLp_Vect_Mag)\n",
      "/tmp/ipykernel_1626912/2506733917.py:80: RuntimeWarning: invalid value encountered in divide\n",
      "  cos_r_join_n = np.divide(WnLp_k.Y(), WnLp_Vect_Mag)\n",
      "/tmp/ipykernel_1626912/2506733917.py:81: RuntimeWarning: invalid value encountered in divide\n",
      "  cos_k_join_n = np.divide(WnLp_k.Z(), WnLp_Vect_Mag)\n",
      "/tmp/ipykernel_1626912/2506733917.py:94: RuntimeWarning: invalid value encountered in divide\n",
      "  ln_theta = np.arctan(np.divide(ln_pt, WnLp_k.Z()))  # theta = arctan(PT/Pz)\n",
      "/tmp/ipykernel_1626912/2506733917.py:79: RuntimeWarning: invalid value encountered in divide\n",
      "  cos_n_join_n = np.divide(WnLp_k.X(), WnLp_Vect_Mag)\n",
      "/tmp/ipykernel_1626912/2506733917.py:81: RuntimeWarning: invalid value encountered in divide\n",
      "  cos_k_join_n = np.divide(WnLp_k.Z(), WnLp_Vect_Mag)\n",
      "/tmp/ipykernel_1626912/2506733917.py:80: RuntimeWarning: invalid value encountered in divide\n",
      "  cos_r_join_n = np.divide(WnLp_k.Y(), WnLp_Vect_Mag)\n",
      "/tmp/ipykernel_1626912/2506733917.py:94: RuntimeWarning: invalid value encountered in divide\n",
      "  ln_theta = np.arctan(np.divide(ln_pt, WnLp_k.Z()))  # theta = arctan(PT/Pz)\n",
      "/tmp/ipykernel_1626912/2506733917.py:79: RuntimeWarning: invalid value encountered in divide\n",
      "  cos_n_join_n = np.divide(WnLp_k.X(), WnLp_Vect_Mag)\n",
      "/tmp/ipykernel_1626912/2506733917.py:79: RuntimeWarning: invalid value encountered in divide\n",
      "  cos_n_join_n = np.divide(WnLp_k.X(), WnLp_Vect_Mag)\n",
      "/tmp/ipykernel_1626912/2506733917.py:80: RuntimeWarning: invalid value encountered in divide\n",
      "  cos_r_join_n = np.divide(WnLp_k.Y(), WnLp_Vect_Mag)\n",
      "/tmp/ipykernel_1626912/2506733917.py:80: RuntimeWarning: invalid value encountered in divide\n",
      "  cos_r_join_n = np.divide(WnLp_k.Y(), WnLp_Vect_Mag)\n",
      "/tmp/ipykernel_1626912/2506733917.py:81: RuntimeWarning: invalid value encountered in divide\n",
      "  cos_k_join_n = np.divide(WnLp_k.Z(), WnLp_Vect_Mag)\n",
      "/tmp/ipykernel_1626912/2506733917.py:81: RuntimeWarning: invalid value encountered in divide\n",
      "  cos_k_join_n = np.divide(WnLp_k.Z(), WnLp_Vect_Mag)\n",
      "/tmp/ipykernel_1626912/2506733917.py:94: RuntimeWarning: invalid value encountered in divide\n",
      "  ln_theta = np.arctan(np.divide(ln_pt, WnLp_k.Z()))  # theta = arctan(PT/Pz)\n",
      "/tmp/ipykernel_1626912/2506733917.py:94: RuntimeWarning: invalid value encountered in divide\n",
      "  ln_theta = np.arctan(np.divide(ln_pt, WnLp_k.Z()))  # theta = arctan(PT/Pz)\n",
      "/tmp/ipykernel_1626912/2506733917.py:79: RuntimeWarning: invalid value encountered in divide\n",
      "  cos_n_join_n = np.divide(WnLp_k.X(), WnLp_Vect_Mag)\n",
      "/tmp/ipykernel_1626912/2506733917.py:80: RuntimeWarning: invalid value encountered in divide\n",
      "  cos_r_join_n = np.divide(WnLp_k.Y(), WnLp_Vect_Mag)\n",
      "/tmp/ipykernel_1626912/2506733917.py:81: RuntimeWarning: invalid value encountered in divide\n",
      "  cos_k_join_n = np.divide(WnLp_k.Z(), WnLp_Vect_Mag)\n",
      "/tmp/ipykernel_1626912/2506733917.py:94: RuntimeWarning: invalid value encountered in divide\n",
      "  ln_theta = np.arctan(np.divide(ln_pt, WnLp_k.Z()))  # theta = arctan(PT/Pz)\n",
      "/tmp/ipykernel_1626912/2506733917.py:79: RuntimeWarning: invalid value encountered in divide\n",
      "  cos_n_join_n = np.divide(WnLp_k.X(), WnLp_Vect_Mag)\n",
      "/tmp/ipykernel_1626912/2506733917.py:80: RuntimeWarning: invalid value encountered in divide\n",
      "  cos_r_join_n = np.divide(WnLp_k.Y(), WnLp_Vect_Mag)\n",
      "/tmp/ipykernel_1626912/2506733917.py:81: RuntimeWarning: invalid value encountered in divide\n",
      "  cos_k_join_n = np.divide(WnLp_k.Z(), WnLp_Vect_Mag)\n",
      "/tmp/ipykernel_1626912/2506733917.py:94: RuntimeWarning: invalid value encountered in divide\n",
      "  ln_theta = np.arctan(np.divide(ln_pt, WnLp_k.Z()))  # theta = arctan(PT/Pz)\n",
      "/tmp/ipykernel_1626912/2506733917.py:79: RuntimeWarning: invalid value encountered in divide\n",
      "  cos_n_join_n = np.divide(WnLp_k.X(), WnLp_Vect_Mag)\n",
      "/tmp/ipykernel_1626912/2506733917.py:79: RuntimeWarning: invalid value encountered in divide\n",
      "  cos_n_join_n = np.divide(WnLp_k.X(), WnLp_Vect_Mag)\n",
      "/tmp/ipykernel_1626912/2506733917.py:80: RuntimeWarning: invalid value encountered in divide\n",
      "  cos_r_join_n = np.divide(WnLp_k.Y(), WnLp_Vect_Mag)\n",
      "/tmp/ipykernel_1626912/2506733917.py:80: RuntimeWarning: invalid value encountered in divide\n",
      "  cos_r_join_n = np.divide(WnLp_k.Y(), WnLp_Vect_Mag)\n",
      "/tmp/ipykernel_1626912/2506733917.py:81: RuntimeWarning: invalid value encountered in divide\n",
      "  cos_k_join_n = np.divide(WnLp_k.Z(), WnLp_Vect_Mag)\n",
      "/tmp/ipykernel_1626912/2506733917.py:81: RuntimeWarning: invalid value encountered in divide\n",
      "  cos_k_join_n = np.divide(WnLp_k.Z(), WnLp_Vect_Mag)\n",
      "/tmp/ipykernel_1626912/2506733917.py:94: RuntimeWarning: invalid value encountered in divide\n",
      "  ln_theta = np.arctan(np.divide(ln_pt, WnLp_k.Z()))  # theta = arctan(PT/Pz)\n",
      "/tmp/ipykernel_1626912/2506733917.py:94: RuntimeWarning: invalid value encountered in divide\n",
      "  ln_theta = np.arctan(np.divide(ln_pt, WnLp_k.Z()))  # theta = arctan(PT/Pz)\n",
      "/tmp/ipykernel_1626912/2506733917.py:79: RuntimeWarning: invalid value encountered in divide\n",
      "  cos_n_join_n = np.divide(WnLp_k.X(), WnLp_Vect_Mag)\n",
      "/tmp/ipykernel_1626912/2506733917.py:80: RuntimeWarning: invalid value encountered in divide\n",
      "  cos_r_join_n = np.divide(WnLp_k.Y(), WnLp_Vect_Mag)\n",
      "/tmp/ipykernel_1626912/2506733917.py:81: RuntimeWarning: invalid value encountered in divide\n",
      "  cos_k_join_n = np.divide(WnLp_k.Z(), WnLp_Vect_Mag)\n",
      "/tmp/ipykernel_1626912/2506733917.py:94: RuntimeWarning: invalid value encountered in divide\n",
      "  ln_theta = np.arctan(np.divide(ln_pt, WnLp_k.Z()))  # theta = arctan(PT/Pz)\n",
      "/tmp/ipykernel_1626912/2506733917.py:79: RuntimeWarning: invalid value encountered in divide\n",
      "  cos_n_join_n = np.divide(WnLp_k.X(), WnLp_Vect_Mag)\n",
      "/tmp/ipykernel_1626912/2506733917.py:80: RuntimeWarning: invalid value encountered in divide\n",
      "  cos_r_join_n = np.divide(WnLp_k.Y(), WnLp_Vect_Mag)\n",
      "/tmp/ipykernel_1626912/2506733917.py:81: RuntimeWarning: invalid value encountered in divide\n",
      "  cos_k_join_n = np.divide(WnLp_k.Z(), WnLp_Vect_Mag)\n",
      "/tmp/ipykernel_1626912/2506733917.py:94: RuntimeWarning: invalid value encountered in divide\n",
      "  ln_theta = np.arctan(np.divide(ln_pt, WnLp_k.Z()))  # theta = arctan(PT/Pz)\n",
      "/tmp/ipykernel_1626912/2506733917.py:79: RuntimeWarning: invalid value encountered in divide\n",
      "  cos_n_join_n = np.divide(WnLp_k.X(), WnLp_Vect_Mag)\n",
      "/tmp/ipykernel_1626912/2506733917.py:80: RuntimeWarning: invalid value encountered in divide\n",
      "  cos_r_join_n = np.divide(WnLp_k.Y(), WnLp_Vect_Mag)\n",
      "/tmp/ipykernel_1626912/2506733917.py:81: RuntimeWarning: invalid value encountered in divide\n",
      "  cos_k_join_n = np.divide(WnLp_k.Z(), WnLp_Vect_Mag)\n",
      "/tmp/ipykernel_1626912/2506733917.py:94: RuntimeWarning: invalid value encountered in divide\n",
      "  ln_theta = np.arctan(np.divide(ln_pt, WnLp_k.Z()))  # theta = arctan(PT/Pz)\n",
      "/tmp/ipykernel_1626912/2506733917.py:79: RuntimeWarning: invalid value encountered in divide\n",
      "  cos_n_join_n = np.divide(WnLp_k.X(), WnLp_Vect_Mag)\n",
      "/tmp/ipykernel_1626912/2506733917.py:80: RuntimeWarning: invalid value encountered in divide\n",
      "  cos_r_join_n = np.divide(WnLp_k.Y(), WnLp_Vect_Mag)\n",
      "/tmp/ipykernel_1626912/2506733917.py:81: RuntimeWarning: invalid value encountered in divide\n",
      "  cos_k_join_n = np.divide(WnLp_k.Z(), WnLp_Vect_Mag)\n",
      "/tmp/ipykernel_1626912/2506733917.py:94: RuntimeWarning: invalid value encountered in divide\n",
      "  ln_theta = np.arctan(np.divide(ln_pt, WnLp_k.Z()))  # theta = arctan(PT/Pz)\n",
      "/tmp/ipykernel_1626912/2506733917.py:79: RuntimeWarning: invalid value encountered in divide\n",
      "  cos_n_join_n = np.divide(WnLp_k.X(), WnLp_Vect_Mag)\n",
      "/tmp/ipykernel_1626912/2506733917.py:94: RuntimeWarning: invalid value encountered in divide\n",
      "  ln_theta = np.arctan(np.divide(ln_pt, WnLp_k.Z()))  # theta = arctan(PT/Pz)\n",
      "/tmp/ipykernel_1626912/2506733917.py:79: RuntimeWarning: invalid value encountered in divide\n",
      "  cos_n_join_n = np.divide(WnLp_k.X(), WnLp_Vect_Mag)\n",
      "/tmp/ipykernel_1626912/2506733917.py:80: RuntimeWarning: invalid value encountered in divide\n",
      "  cos_r_join_n = np.divide(WnLp_k.Y(), WnLp_Vect_Mag)\n",
      "/tmp/ipykernel_1626912/2506733917.py:80: RuntimeWarning: invalid value encountered in divide\n",
      "  cos_r_join_n = np.divide(WnLp_k.Y(), WnLp_Vect_Mag)\n",
      "/tmp/ipykernel_1626912/2506733917.py:81: RuntimeWarning: invalid value encountered in divide\n",
      "  cos_k_join_n = np.divide(WnLp_k.Z(), WnLp_Vect_Mag)\n",
      "/tmp/ipykernel_1626912/2506733917.py:81: RuntimeWarning: invalid value encountered in divide\n",
      "  cos_k_join_n = np.divide(WnLp_k.Z(), WnLp_Vect_Mag)\n",
      "/tmp/ipykernel_1626912/2506733917.py:94: RuntimeWarning: invalid value encountered in divide\n",
      "  ln_theta = np.arctan(np.divide(ln_pt, WnLp_k.Z()))  # theta = arctan(PT/Pz)\n",
      "/tmp/ipykernel_1626912/2506733917.py:79: RuntimeWarning: invalid value encountered in divide\n",
      "  cos_n_join_n = np.divide(WnLp_k.X(), WnLp_Vect_Mag)\n",
      "/tmp/ipykernel_1626912/2506733917.py:80: RuntimeWarning: invalid value encountered in divide\n",
      "  cos_r_join_n = np.divide(WnLp_k.Y(), WnLp_Vect_Mag)\n",
      "/tmp/ipykernel_1626912/2506733917.py:81: RuntimeWarning: invalid value encountered in divide\n",
      "  cos_k_join_n = np.divide(WnLp_k.Z(), WnLp_Vect_Mag)\n",
      "/tmp/ipykernel_1626912/2506733917.py:94: RuntimeWarning: invalid value encountered in divide\n",
      "  ln_theta = np.arctan(np.divide(ln_pt, WnLp_k.Z()))  # theta = arctan(PT/Pz)\n",
      "/tmp/ipykernel_1626912/2506733917.py:79: RuntimeWarning: invalid value encountered in divide\n",
      "  cos_n_join_n = np.divide(WnLp_k.X(), WnLp_Vect_Mag)\n",
      "/tmp/ipykernel_1626912/2506733917.py:80: RuntimeWarning: invalid value encountered in divide\n",
      "  cos_r_join_n = np.divide(WnLp_k.Y(), WnLp_Vect_Mag)\n",
      "/tmp/ipykernel_1626912/2506733917.py:81: RuntimeWarning: invalid value encountered in divide\n",
      "  cos_k_join_n = np.divide(WnLp_k.Z(), WnLp_Vect_Mag)\n",
      "/tmp/ipykernel_1626912/2506733917.py:94: RuntimeWarning: invalid value encountered in divide\n",
      "  ln_theta = np.arctan(np.divide(ln_pt, WnLp_k.Z()))  # theta = arctan(PT/Pz)\n",
      "/tmp/ipykernel_1626912/2506733917.py:79: RuntimeWarning: invalid value encountered in divide\n",
      "  cos_n_join_n = np.divide(WnLp_k.X(), WnLp_Vect_Mag)\n",
      "/tmp/ipykernel_1626912/2506733917.py:81: RuntimeWarning: invalid value encountered in divide\n",
      "  cos_k_join_n = np.divide(WnLp_k.Z(), WnLp_Vect_Mag)\n",
      "/tmp/ipykernel_1626912/2506733917.py:80: RuntimeWarning: invalid value encountered in divide\n",
      "  cos_r_join_n = np.divide(WnLp_k.Y(), WnLp_Vect_Mag)\n",
      "/tmp/ipykernel_1626912/2506733917.py:94: RuntimeWarning: invalid value encountered in divide\n",
      "  ln_theta = np.arctan(np.divide(ln_pt, WnLp_k.Z()))  # theta = arctan(PT/Pz)\n",
      "/tmp/ipykernel_1626912/2506733917.py:79: RuntimeWarning: invalid value encountered in divide\n",
      "  cos_n_join_n = np.divide(WnLp_k.X(), WnLp_Vect_Mag)\n",
      "/tmp/ipykernel_1626912/2506733917.py:80: RuntimeWarning: invalid value encountered in divide\n",
      "  cos_r_join_n = np.divide(WnLp_k.Y(), WnLp_Vect_Mag)\n",
      "/tmp/ipykernel_1626912/2506733917.py:94: RuntimeWarning: invalid value encountered in divide\n",
      "  ln_theta = np.arctan(np.divide(ln_pt, WnLp_k.Z()))  # theta = arctan(PT/Pz)\n",
      "/tmp/ipykernel_1626912/2506733917.py:81: RuntimeWarning: invalid value encountered in divide\n",
      "  cos_k_join_n = np.divide(WnLp_k.Z(), WnLp_Vect_Mag)\n",
      "/tmp/ipykernel_1626912/2506733917.py:79: RuntimeWarning: invalid value encountered in divide\n",
      "  cos_n_join_n = np.divide(WnLp_k.X(), WnLp_Vect_Mag)\n",
      "/tmp/ipykernel_1626912/2506733917.py:80: RuntimeWarning: invalid value encountered in divide\n",
      "  cos_r_join_n = np.divide(WnLp_k.Y(), WnLp_Vect_Mag)\n",
      "/tmp/ipykernel_1626912/2506733917.py:81: RuntimeWarning: invalid value encountered in divide\n",
      "  cos_k_join_n = np.divide(WnLp_k.Z(), WnLp_Vect_Mag)\n",
      "/tmp/ipykernel_1626912/2506733917.py:94: RuntimeWarning: invalid value encountered in divide\n",
      "  ln_theta = np.arctan(np.divide(ln_pt, WnLp_k.Z()))  # theta = arctan(PT/Pz)\n",
      "/tmp/ipykernel_1626912/2506733917.py:79: RuntimeWarning: invalid value encountered in divide\n",
      "  cos_n_join_n = np.divide(WnLp_k.X(), WnLp_Vect_Mag)\n",
      "/tmp/ipykernel_1626912/2506733917.py:80: RuntimeWarning: invalid value encountered in divide\n",
      "  cos_r_join_n = np.divide(WnLp_k.Y(), WnLp_Vect_Mag)\n",
      "/tmp/ipykernel_1626912/2506733917.py:79: RuntimeWarning: invalid value encountered in divide\n",
      "  cos_n_join_n = np.divide(WnLp_k.X(), WnLp_Vect_Mag)\n",
      "/tmp/ipykernel_1626912/2506733917.py:81: RuntimeWarning: invalid value encountered in divide\n",
      "  cos_k_join_n = np.divide(WnLp_k.Z(), WnLp_Vect_Mag)\n",
      "/tmp/ipykernel_1626912/2506733917.py:80: RuntimeWarning: invalid value encountered in divide\n",
      "  cos_r_join_n = np.divide(WnLp_k.Y(), WnLp_Vect_Mag)\n",
      "/tmp/ipykernel_1626912/2506733917.py:94: RuntimeWarning: invalid value encountered in divide\n",
      "  ln_theta = np.arctan(np.divide(ln_pt, WnLp_k.Z()))  # theta = arctan(PT/Pz)\n",
      "/tmp/ipykernel_1626912/2506733917.py:81: RuntimeWarning: invalid value encountered in divide\n",
      "  cos_k_join_n = np.divide(WnLp_k.Z(), WnLp_Vect_Mag)\n",
      "/tmp/ipykernel_1626912/2506733917.py:94: RuntimeWarning: invalid value encountered in divide\n",
      "  ln_theta = np.arctan(np.divide(ln_pt, WnLp_k.Z()))  # theta = arctan(PT/Pz)\n",
      "/tmp/ipykernel_1626912/2506733917.py:79: RuntimeWarning: invalid value encountered in divide\n",
      "  cos_n_join_n = np.divide(WnLp_k.X(), WnLp_Vect_Mag)\n",
      "/tmp/ipykernel_1626912/2506733917.py:80: RuntimeWarning: invalid value encountered in divide\n",
      "  cos_r_join_n = np.divide(WnLp_k.Y(), WnLp_Vect_Mag)\n",
      "/tmp/ipykernel_1626912/2506733917.py:79: RuntimeWarning: invalid value encountered in divide\n",
      "  cos_n_join_n = np.divide(WnLp_k.X(), WnLp_Vect_Mag)\n",
      "/tmp/ipykernel_1626912/2506733917.py:81: RuntimeWarning: invalid value encountered in divide\n",
      "  cos_k_join_n = np.divide(WnLp_k.Z(), WnLp_Vect_Mag)\n",
      "/tmp/ipykernel_1626912/2506733917.py:80: RuntimeWarning: invalid value encountered in divide\n",
      "  cos_r_join_n = np.divide(WnLp_k.Y(), WnLp_Vect_Mag)\n",
      "/tmp/ipykernel_1626912/2506733917.py:81: RuntimeWarning: invalid value encountered in divide\n",
      "  cos_k_join_n = np.divide(WnLp_k.Z(), WnLp_Vect_Mag)\n",
      "/tmp/ipykernel_1626912/2506733917.py:94: RuntimeWarning: invalid value encountered in divide\n",
      "  ln_theta = np.arctan(np.divide(ln_pt, WnLp_k.Z()))  # theta = arctan(PT/Pz)\n",
      "/tmp/ipykernel_1626912/2506733917.py:94: RuntimeWarning: invalid value encountered in divide\n",
      "  ln_theta = np.arctan(np.divide(ln_pt, WnLp_k.Z()))  # theta = arctan(PT/Pz)\n",
      "/tmp/ipykernel_1626912/2506733917.py:79: RuntimeWarning: invalid value encountered in divide\n",
      "  cos_n_join_n = np.divide(WnLp_k.X(), WnLp_Vect_Mag)\n",
      "/tmp/ipykernel_1626912/2506733917.py:80: RuntimeWarning: invalid value encountered in divide\n",
      "  cos_r_join_n = np.divide(WnLp_k.Y(), WnLp_Vect_Mag)\n",
      "/tmp/ipykernel_1626912/2506733917.py:81: RuntimeWarning: invalid value encountered in divide\n",
      "  cos_k_join_n = np.divide(WnLp_k.Z(), WnLp_Vect_Mag)\n",
      "/tmp/ipykernel_1626912/2506733917.py:94: RuntimeWarning: invalid value encountered in divide\n",
      "  ln_theta = np.arctan(np.divide(ln_pt, WnLp_k.Z()))  # theta = arctan(PT/Pz)\n",
      "/tmp/ipykernel_1626912/2506733917.py:79: RuntimeWarning: invalid value encountered in divide\n",
      "  cos_n_join_n = np.divide(WnLp_k.X(), WnLp_Vect_Mag)\n",
      "/tmp/ipykernel_1626912/2506733917.py:80: RuntimeWarning: invalid value encountered in divide\n",
      "  cos_r_join_n = np.divide(WnLp_k.Y(), WnLp_Vect_Mag)\n",
      "/tmp/ipykernel_1626912/2506733917.py:81: RuntimeWarning: invalid value encountered in divide\n",
      "  cos_k_join_n = np.divide(WnLp_k.Z(), WnLp_Vect_Mag)\n",
      "/tmp/ipykernel_1626912/2506733917.py:94: RuntimeWarning: invalid value encountered in divide\n",
      "  ln_theta = np.arctan(np.divide(ln_pt, WnLp_k.Z()))  # theta = arctan(PT/Pz)\n",
      "/tmp/ipykernel_1626912/2506733917.py:79: RuntimeWarning: invalid value encountered in divide\n",
      "  cos_n_join_n = np.divide(WnLp_k.X(), WnLp_Vect_Mag)\n",
      "/tmp/ipykernel_1626912/2506733917.py:80: RuntimeWarning: invalid value encountered in divide\n",
      "  cos_r_join_n = np.divide(WnLp_k.Y(), WnLp_Vect_Mag)\n",
      "/tmp/ipykernel_1626912/2506733917.py:79: RuntimeWarning: invalid value encountered in divide\n",
      "  cos_n_join_n = np.divide(WnLp_k.X(), WnLp_Vect_Mag)\n",
      "/tmp/ipykernel_1626912/2506733917.py:81: RuntimeWarning: invalid value encountered in divide\n",
      "  cos_k_join_n = np.divide(WnLp_k.Z(), WnLp_Vect_Mag)\n",
      "/tmp/ipykernel_1626912/2506733917.py:80: RuntimeWarning: invalid value encountered in divide\n",
      "  cos_r_join_n = np.divide(WnLp_k.Y(), WnLp_Vect_Mag)\n",
      "/tmp/ipykernel_1626912/2506733917.py:94: RuntimeWarning: invalid value encountered in divide\n",
      "  ln_theta = np.arctan(np.divide(ln_pt, WnLp_k.Z()))  # theta = arctan(PT/Pz)\n",
      "/tmp/ipykernel_1626912/2506733917.py:81: RuntimeWarning: invalid value encountered in divide\n",
      "  cos_k_join_n = np.divide(WnLp_k.Z(), WnLp_Vect_Mag)\n",
      "/tmp/ipykernel_1626912/2506733917.py:94: RuntimeWarning: invalid value encountered in divide\n",
      "  ln_theta = np.arctan(np.divide(ln_pt, WnLp_k.Z()))  # theta = arctan(PT/Pz)\n",
      "/tmp/ipykernel_1626912/2506733917.py:79: RuntimeWarning: invalid value encountered in divide\n",
      "  cos_n_join_n = np.divide(WnLp_k.X(), WnLp_Vect_Mag)\n",
      "/tmp/ipykernel_1626912/2506733917.py:80: RuntimeWarning: invalid value encountered in divide\n",
      "  cos_r_join_n = np.divide(WnLp_k.Y(), WnLp_Vect_Mag)\n",
      "/tmp/ipykernel_1626912/2506733917.py:81: RuntimeWarning: invalid value encountered in divide\n",
      "  cos_k_join_n = np.divide(WnLp_k.Z(), WnLp_Vect_Mag)\n",
      "/tmp/ipykernel_1626912/2506733917.py:94: RuntimeWarning: invalid value encountered in divide\n",
      "  ln_theta = np.arctan(np.divide(ln_pt, WnLp_k.Z()))  # theta = arctan(PT/Pz)\n",
      "/tmp/ipykernel_1626912/2506733917.py:79: RuntimeWarning: invalid value encountered in divide\n",
      "  cos_n_join_n = np.divide(WnLp_k.X(), WnLp_Vect_Mag)\n",
      "/tmp/ipykernel_1626912/2506733917.py:80: RuntimeWarning: invalid value encountered in divide\n",
      "  cos_r_join_n = np.divide(WnLp_k.Y(), WnLp_Vect_Mag)\n",
      "/tmp/ipykernel_1626912/2506733917.py:81: RuntimeWarning: invalid value encountered in divide\n",
      "  cos_k_join_n = np.divide(WnLp_k.Z(), WnLp_Vect_Mag)\n",
      "/tmp/ipykernel_1626912/2506733917.py:94: RuntimeWarning: invalid value encountered in divide\n",
      "  ln_theta = np.arctan(np.divide(ln_pt, WnLp_k.Z()))  # theta = arctan(PT/Pz)\n",
      "/tmp/ipykernel_1626912/2506733917.py:79: RuntimeWarning: invalid value encountered in divide\n",
      "  cos_n_join_n = np.divide(WnLp_k.X(), WnLp_Vect_Mag)\n",
      "/tmp/ipykernel_1626912/2506733917.py:80: RuntimeWarning: invalid value encountered in divide\n",
      "  cos_r_join_n = np.divide(WnLp_k.Y(), WnLp_Vect_Mag)\n",
      "/tmp/ipykernel_1626912/2506733917.py:79: RuntimeWarning: invalid value encountered in divide\n",
      "  cos_n_join_n = np.divide(WnLp_k.X(), WnLp_Vect_Mag)\n",
      "/tmp/ipykernel_1626912/2506733917.py:80: RuntimeWarning: invalid value encountered in divide\n",
      "  cos_r_join_n = np.divide(WnLp_k.Y(), WnLp_Vect_Mag)\n",
      "/tmp/ipykernel_1626912/2506733917.py:81: RuntimeWarning: invalid value encountered in divide\n",
      "  cos_k_join_n = np.divide(WnLp_k.Z(), WnLp_Vect_Mag)\n",
      "/tmp/ipykernel_1626912/2506733917.py:81: RuntimeWarning: invalid value encountered in divide\n",
      "  cos_k_join_n = np.divide(WnLp_k.Z(), WnLp_Vect_Mag)\n",
      "/tmp/ipykernel_1626912/2506733917.py:94: RuntimeWarning: invalid value encountered in divide\n",
      "  ln_theta = np.arctan(np.divide(ln_pt, WnLp_k.Z()))  # theta = arctan(PT/Pz)\n",
      "/tmp/ipykernel_1626912/2506733917.py:94: RuntimeWarning: invalid value encountered in divide\n",
      "  ln_theta = np.arctan(np.divide(ln_pt, WnLp_k.Z()))  # theta = arctan(PT/Pz)\n",
      "/tmp/ipykernel_1626912/2506733917.py:79: RuntimeWarning: invalid value encountered in divide\n",
      "  cos_n_join_n = np.divide(WnLp_k.X(), WnLp_Vect_Mag)\n",
      "/tmp/ipykernel_1626912/2506733917.py:80: RuntimeWarning: invalid value encountered in divide\n",
      "  cos_r_join_n = np.divide(WnLp_k.Y(), WnLp_Vect_Mag)\n",
      "/tmp/ipykernel_1626912/2506733917.py:81: RuntimeWarning: invalid value encountered in divide\n",
      "  cos_k_join_n = np.divide(WnLp_k.Z(), WnLp_Vect_Mag)\n",
      "/tmp/ipykernel_1626912/2506733917.py:94: RuntimeWarning: invalid value encountered in divide\n",
      "  ln_theta = np.arctan(np.divide(ln_pt, WnLp_k.Z()))  # theta = arctan(PT/Pz)\n",
      "/tmp/ipykernel_1626912/2506733917.py:79: RuntimeWarning: invalid value encountered in divide\n",
      "  cos_n_join_n = np.divide(WnLp_k.X(), WnLp_Vect_Mag)\n",
      "/tmp/ipykernel_1626912/2506733917.py:80: RuntimeWarning: invalid value encountered in divide\n",
      "  cos_r_join_n = np.divide(WnLp_k.Y(), WnLp_Vect_Mag)\n",
      "/tmp/ipykernel_1626912/2506733917.py:81: RuntimeWarning: invalid value encountered in divide\n",
      "  cos_k_join_n = np.divide(WnLp_k.Z(), WnLp_Vect_Mag)\n",
      "/tmp/ipykernel_1626912/2506733917.py:94: RuntimeWarning: invalid value encountered in divide\n",
      "  ln_theta = np.arctan(np.divide(ln_pt, WnLp_k.Z()))  # theta = arctan(PT/Pz)\n",
      "/tmp/ipykernel_1626912/2506733917.py:79: RuntimeWarning: invalid value encountered in divide\n",
      "  cos_n_join_n = np.divide(WnLp_k.X(), WnLp_Vect_Mag)\n",
      "/tmp/ipykernel_1626912/2506733917.py:80: RuntimeWarning: invalid value encountered in divide\n",
      "  cos_r_join_n = np.divide(WnLp_k.Y(), WnLp_Vect_Mag)\n",
      "/tmp/ipykernel_1626912/2506733917.py:81: RuntimeWarning: invalid value encountered in divide\n",
      "  cos_k_join_n = np.divide(WnLp_k.Z(), WnLp_Vect_Mag)\n",
      "/tmp/ipykernel_1626912/2506733917.py:94: RuntimeWarning: invalid value encountered in divide\n",
      "  ln_theta = np.arctan(np.divide(ln_pt, WnLp_k.Z()))  # theta = arctan(PT/Pz)\n",
      "/tmp/ipykernel_1626912/2506733917.py:79: RuntimeWarning: invalid value encountered in divide\n",
      "  cos_n_join_n = np.divide(WnLp_k.X(), WnLp_Vect_Mag)\n",
      "/tmp/ipykernel_1626912/2506733917.py:80: RuntimeWarning: invalid value encountered in divide\n",
      "  cos_r_join_n = np.divide(WnLp_k.Y(), WnLp_Vect_Mag)\n",
      "/tmp/ipykernel_1626912/2506733917.py:81: RuntimeWarning: invalid value encountered in divide\n",
      "  cos_k_join_n = np.divide(WnLp_k.Z(), WnLp_Vect_Mag)\n",
      "/tmp/ipykernel_1626912/2506733917.py:94: RuntimeWarning: invalid value encountered in divide\n",
      "  ln_theta = np.arctan(np.divide(ln_pt, WnLp_k.Z()))  # theta = arctan(PT/Pz)\n",
      "/tmp/ipykernel_1626912/2506733917.py:79: RuntimeWarning: invalid value encountered in divide\n",
      "  cos_n_join_n = np.divide(WnLp_k.X(), WnLp_Vect_Mag)\n",
      "/tmp/ipykernel_1626912/2506733917.py:80: RuntimeWarning: invalid value encountered in divide\n",
      "  cos_r_join_n = np.divide(WnLp_k.Y(), WnLp_Vect_Mag)\n",
      "/tmp/ipykernel_1626912/2506733917.py:81: RuntimeWarning: invalid value encountered in divide\n",
      "  cos_k_join_n = np.divide(WnLp_k.Z(), WnLp_Vect_Mag)\n",
      "/tmp/ipykernel_1626912/2506733917.py:94: RuntimeWarning: invalid value encountered in divide\n",
      "  ln_theta = np.arctan(np.divide(ln_pt, WnLp_k.Z()))  # theta = arctan(PT/Pz)\n",
      "/tmp/ipykernel_1626912/2506733917.py:79: RuntimeWarning: invalid value encountered in divide\n",
      "  cos_n_join_n = np.divide(WnLp_k.X(), WnLp_Vect_Mag)\n",
      "/tmp/ipykernel_1626912/2506733917.py:80: RuntimeWarning: invalid value encountered in divide\n",
      "  cos_r_join_n = np.divide(WnLp_k.Y(), WnLp_Vect_Mag)\n",
      "/tmp/ipykernel_1626912/2506733917.py:81: RuntimeWarning: invalid value encountered in divide\n",
      "  cos_k_join_n = np.divide(WnLp_k.Z(), WnLp_Vect_Mag)\n",
      "/tmp/ipykernel_1626912/2506733917.py:94: RuntimeWarning: invalid value encountered in divide\n",
      "  ln_theta = np.arctan(np.divide(ln_pt, WnLp_k.Z()))  # theta = arctan(PT/Pz)\n",
      "/tmp/ipykernel_1626912/2506733917.py:79: RuntimeWarning: invalid value encountered in divide\n",
      "  cos_n_join_n = np.divide(WnLp_k.X(), WnLp_Vect_Mag)\n",
      "/tmp/ipykernel_1626912/2506733917.py:80: RuntimeWarning: invalid value encountered in divide\n",
      "  cos_r_join_n = np.divide(WnLp_k.Y(), WnLp_Vect_Mag)\n",
      "/tmp/ipykernel_1626912/2506733917.py:81: RuntimeWarning: invalid value encountered in divide\n",
      "  cos_k_join_n = np.divide(WnLp_k.Z(), WnLp_Vect_Mag)\n",
      "/tmp/ipykernel_1626912/2506733917.py:94: RuntimeWarning: invalid value encountered in divide\n",
      "  ln_theta = np.arctan(np.divide(ln_pt, WnLp_k.Z()))  # theta = arctan(PT/Pz)\n",
      "/tmp/ipykernel_1626912/2506733917.py:79: RuntimeWarning: invalid value encountered in divide\n",
      "  cos_n_join_n = np.divide(WnLp_k.X(), WnLp_Vect_Mag)\n",
      "/tmp/ipykernel_1626912/2506733917.py:80: RuntimeWarning: invalid value encountered in divide\n",
      "  cos_r_join_n = np.divide(WnLp_k.Y(), WnLp_Vect_Mag)\n",
      "/tmp/ipykernel_1626912/2506733917.py:81: RuntimeWarning: invalid value encountered in divide\n",
      "  cos_k_join_n = np.divide(WnLp_k.Z(), WnLp_Vect_Mag)\n",
      "/tmp/ipykernel_1626912/2506733917.py:94: RuntimeWarning: invalid value encountered in divide\n",
      "  ln_theta = np.arctan(np.divide(ln_pt, WnLp_k.Z()))  # theta = arctan(PT/Pz)\n",
      "/tmp/ipykernel_1626912/2506733917.py:79: RuntimeWarning: invalid value encountered in divide\n",
      "  cos_n_join_n = np.divide(WnLp_k.X(), WnLp_Vect_Mag)\n",
      "/tmp/ipykernel_1626912/2506733917.py:80: RuntimeWarning: invalid value encountered in divide\n",
      "  cos_r_join_n = np.divide(WnLp_k.Y(), WnLp_Vect_Mag)\n",
      "/tmp/ipykernel_1626912/2506733917.py:81: RuntimeWarning: invalid value encountered in divide\n",
      "  cos_k_join_n = np.divide(WnLp_k.Z(), WnLp_Vect_Mag)\n",
      "/tmp/ipykernel_1626912/2506733917.py:94: RuntimeWarning: invalid value encountered in divide\n",
      "  ln_theta = np.arctan(np.divide(ln_pt, WnLp_k.Z()))  # theta = arctan(PT/Pz)\n",
      "/tmp/ipykernel_1626912/2506733917.py:79: RuntimeWarning: invalid value encountered in divide\n",
      "  cos_n_join_n = np.divide(WnLp_k.X(), WnLp_Vect_Mag)\n",
      "/tmp/ipykernel_1626912/2506733917.py:79: RuntimeWarning: invalid value encountered in divide\n",
      "  cos_n_join_n = np.divide(WnLp_k.X(), WnLp_Vect_Mag)\n",
      "/tmp/ipykernel_1626912/2506733917.py:80: RuntimeWarning: invalid value encountered in divide\n",
      "  cos_r_join_n = np.divide(WnLp_k.Y(), WnLp_Vect_Mag)\n",
      "/tmp/ipykernel_1626912/2506733917.py:80: RuntimeWarning: invalid value encountered in divide\n",
      "  cos_r_join_n = np.divide(WnLp_k.Y(), WnLp_Vect_Mag)\n",
      "/tmp/ipykernel_1626912/2506733917.py:81: RuntimeWarning: invalid value encountered in divide\n",
      "  cos_k_join_n = np.divide(WnLp_k.Z(), WnLp_Vect_Mag)\n",
      "/tmp/ipykernel_1626912/2506733917.py:94: RuntimeWarning: invalid value encountered in divide\n",
      "  ln_theta = np.arctan(np.divide(ln_pt, WnLp_k.Z()))  # theta = arctan(PT/Pz)\n",
      "/tmp/ipykernel_1626912/2506733917.py:81: RuntimeWarning: invalid value encountered in divide\n",
      "  cos_k_join_n = np.divide(WnLp_k.Z(), WnLp_Vect_Mag)\n",
      "/tmp/ipykernel_1626912/2506733917.py:94: RuntimeWarning: invalid value encountered in divide\n",
      "  ln_theta = np.arctan(np.divide(ln_pt, WnLp_k.Z()))  # theta = arctan(PT/Pz)\n",
      "/tmp/ipykernel_1626912/2506733917.py:79: RuntimeWarning: invalid value encountered in divide\n",
      "  cos_n_join_n = np.divide(WnLp_k.X(), WnLp_Vect_Mag)\n",
      "/tmp/ipykernel_1626912/2506733917.py:80: RuntimeWarning: invalid value encountered in divide\n",
      "  cos_r_join_n = np.divide(WnLp_k.Y(), WnLp_Vect_Mag)\n",
      "/tmp/ipykernel_1626912/2506733917.py:81: RuntimeWarning: invalid value encountered in divide\n",
      "  cos_k_join_n = np.divide(WnLp_k.Z(), WnLp_Vect_Mag)\n",
      "/tmp/ipykernel_1626912/2506733917.py:94: RuntimeWarning: invalid value encountered in divide\n",
      "  ln_theta = np.arctan(np.divide(ln_pt, WnLp_k.Z()))  # theta = arctan(PT/Pz)\n",
      "/tmp/ipykernel_1626912/2506733917.py:79: RuntimeWarning: invalid value encountered in divide\n",
      "  cos_n_join_n = np.divide(WnLp_k.X(), WnLp_Vect_Mag)\n",
      "/tmp/ipykernel_1626912/2506733917.py:80: RuntimeWarning: invalid value encountered in divide\n",
      "  cos_r_join_n = np.divide(WnLp_k.Y(), WnLp_Vect_Mag)\n",
      "/tmp/ipykernel_1626912/2506733917.py:81: RuntimeWarning: invalid value encountered in divide\n",
      "  cos_k_join_n = np.divide(WnLp_k.Z(), WnLp_Vect_Mag)\n",
      "/tmp/ipykernel_1626912/2506733917.py:94: RuntimeWarning: invalid value encountered in divide\n",
      "  ln_theta = np.arctan(np.divide(ln_pt, WnLp_k.Z()))  # theta = arctan(PT/Pz)\n",
      "/tmp/ipykernel_1626912/2506733917.py:79: RuntimeWarning: invalid value encountered in divide\n",
      "  cos_n_join_n = np.divide(WnLp_k.X(), WnLp_Vect_Mag)\n",
      "/tmp/ipykernel_1626912/2506733917.py:80: RuntimeWarning: invalid value encountered in divide\n",
      "  cos_r_join_n = np.divide(WnLp_k.Y(), WnLp_Vect_Mag)\n",
      "/tmp/ipykernel_1626912/2506733917.py:81: RuntimeWarning: invalid value encountered in divide\n",
      "  cos_k_join_n = np.divide(WnLp_k.Z(), WnLp_Vect_Mag)\n",
      "/tmp/ipykernel_1626912/2506733917.py:94: RuntimeWarning: invalid value encountered in divide\n",
      "  ln_theta = np.arctan(np.divide(ln_pt, WnLp_k.Z()))  # theta = arctan(PT/Pz)\n",
      "/tmp/ipykernel_1626912/2506733917.py:79: RuntimeWarning: invalid value encountered in divide\n",
      "  cos_n_join_n = np.divide(WnLp_k.X(), WnLp_Vect_Mag)\n",
      "/tmp/ipykernel_1626912/2506733917.py:80: RuntimeWarning: invalid value encountered in divide\n",
      "  cos_r_join_n = np.divide(WnLp_k.Y(), WnLp_Vect_Mag)\n",
      "/tmp/ipykernel_1626912/2506733917.py:81: RuntimeWarning: invalid value encountered in divide\n",
      "  cos_k_join_n = np.divide(WnLp_k.Z(), WnLp_Vect_Mag)\n",
      "/tmp/ipykernel_1626912/2506733917.py:94: RuntimeWarning: invalid value encountered in divide\n",
      "  ln_theta = np.arctan(np.divide(ln_pt, WnLp_k.Z()))  # theta = arctan(PT/Pz)\n",
      "/tmp/ipykernel_1626912/2506733917.py:79: RuntimeWarning: invalid value encountered in divide\n",
      "  cos_n_join_n = np.divide(WnLp_k.X(), WnLp_Vect_Mag)\n",
      "/tmp/ipykernel_1626912/2506733917.py:80: RuntimeWarning: invalid value encountered in divide\n",
      "  cos_r_join_n = np.divide(WnLp_k.Y(), WnLp_Vect_Mag)\n",
      "/tmp/ipykernel_1626912/2506733917.py:81: RuntimeWarning: invalid value encountered in divide\n",
      "  cos_k_join_n = np.divide(WnLp_k.Z(), WnLp_Vect_Mag)\n",
      "/tmp/ipykernel_1626912/2506733917.py:94: RuntimeWarning: invalid value encountered in divide\n",
      "  ln_theta = np.arctan(np.divide(ln_pt, WnLp_k.Z()))  # theta = arctan(PT/Pz)\n",
      "/tmp/ipykernel_1626912/2506733917.py:79: RuntimeWarning: invalid value encountered in divide\n",
      "  cos_n_join_n = np.divide(WnLp_k.X(), WnLp_Vect_Mag)\n",
      "/tmp/ipykernel_1626912/2506733917.py:80: RuntimeWarning: invalid value encountered in divide\n",
      "  cos_r_join_n = np.divide(WnLp_k.Y(), WnLp_Vect_Mag)\n",
      "/tmp/ipykernel_1626912/2506733917.py:81: RuntimeWarning: invalid value encountered in divide\n",
      "  cos_k_join_n = np.divide(WnLp_k.Z(), WnLp_Vect_Mag)\n",
      "/tmp/ipykernel_1626912/2506733917.py:94: RuntimeWarning: invalid value encountered in divide\n",
      "  ln_theta = np.arctan(np.divide(ln_pt, WnLp_k.Z()))  # theta = arctan(PT/Pz)\n",
      "/tmp/ipykernel_1626912/2506733917.py:79: RuntimeWarning: invalid value encountered in divide\n",
      "  cos_n_join_n = np.divide(WnLp_k.X(), WnLp_Vect_Mag)\n",
      "/tmp/ipykernel_1626912/2506733917.py:80: RuntimeWarning: invalid value encountered in divide\n",
      "  cos_r_join_n = np.divide(WnLp_k.Y(), WnLp_Vect_Mag)\n",
      "/tmp/ipykernel_1626912/2506733917.py:81: RuntimeWarning: invalid value encountered in divide\n",
      "  cos_k_join_n = np.divide(WnLp_k.Z(), WnLp_Vect_Mag)\n",
      "/tmp/ipykernel_1626912/2506733917.py:94: RuntimeWarning: invalid value encountered in divide\n",
      "  ln_theta = np.arctan(np.divide(ln_pt, WnLp_k.Z()))  # theta = arctan(PT/Pz)\n",
      "/tmp/ipykernel_1626912/2506733917.py:79: RuntimeWarning: invalid value encountered in divide\n",
      "  cos_n_join_n = np.divide(WnLp_k.X(), WnLp_Vect_Mag)\n",
      "/tmp/ipykernel_1626912/2506733917.py:80: RuntimeWarning: invalid value encountered in divide\n",
      "  cos_r_join_n = np.divide(WnLp_k.Y(), WnLp_Vect_Mag)\n",
      "/tmp/ipykernel_1626912/2506733917.py:81: RuntimeWarning: invalid value encountered in divide\n",
      "  cos_k_join_n = np.divide(WnLp_k.Z(), WnLp_Vect_Mag)\n",
      "/tmp/ipykernel_1626912/2506733917.py:94: RuntimeWarning: invalid value encountered in divide\n",
      "  ln_theta = np.arctan(np.divide(ln_pt, WnLp_k.Z()))  # theta = arctan(PT/Pz)\n",
      "/tmp/ipykernel_1626912/2506733917.py:79: RuntimeWarning: invalid value encountered in divide\n",
      "  cos_n_join_n = np.divide(WnLp_k.X(), WnLp_Vect_Mag)\n",
      "/tmp/ipykernel_1626912/2506733917.py:80: RuntimeWarning: invalid value encountered in divide\n",
      "  cos_r_join_n = np.divide(WnLp_k.Y(), WnLp_Vect_Mag)\n",
      "/tmp/ipykernel_1626912/2506733917.py:81: RuntimeWarning: invalid value encountered in divide\n",
      "  cos_k_join_n = np.divide(WnLp_k.Z(), WnLp_Vect_Mag)\n",
      "/tmp/ipykernel_1626912/2506733917.py:94: RuntimeWarning: invalid value encountered in divide\n",
      "  ln_theta = np.arctan(np.divide(ln_pt, WnLp_k.Z()))  # theta = arctan(PT/Pz)\n",
      "/tmp/ipykernel_1626912/2506733917.py:79: RuntimeWarning: invalid value encountered in divide\n",
      "  cos_n_join_n = np.divide(WnLp_k.X(), WnLp_Vect_Mag)\n",
      "/tmp/ipykernel_1626912/2506733917.py:80: RuntimeWarning: invalid value encountered in divide\n",
      "  cos_r_join_n = np.divide(WnLp_k.Y(), WnLp_Vect_Mag)\n",
      "/tmp/ipykernel_1626912/2506733917.py:81: RuntimeWarning: invalid value encountered in divide\n",
      "  cos_k_join_n = np.divide(WnLp_k.Z(), WnLp_Vect_Mag)\n",
      "/tmp/ipykernel_1626912/2506733917.py:94: RuntimeWarning: invalid value encountered in divide\n",
      "  ln_theta = np.arctan(np.divide(ln_pt, WnLp_k.Z()))  # theta = arctan(PT/Pz)\n",
      "/tmp/ipykernel_1626912/2506733917.py:79: RuntimeWarning: invalid value encountered in divide\n",
      "  cos_n_join_n = np.divide(WnLp_k.X(), WnLp_Vect_Mag)\n",
      "/tmp/ipykernel_1626912/2506733917.py:80: RuntimeWarning: invalid value encountered in divide\n",
      "  cos_r_join_n = np.divide(WnLp_k.Y(), WnLp_Vect_Mag)\n",
      "/tmp/ipykernel_1626912/2506733917.py:81: RuntimeWarning: invalid value encountered in divide\n",
      "  cos_k_join_n = np.divide(WnLp_k.Z(), WnLp_Vect_Mag)\n",
      "/tmp/ipykernel_1626912/2506733917.py:94: RuntimeWarning: invalid value encountered in divide\n",
      "  ln_theta = np.arctan(np.divide(ln_pt, WnLp_k.Z()))  # theta = arctan(PT/Pz)\n",
      "/tmp/ipykernel_1626912/2506733917.py:79: RuntimeWarning: invalid value encountered in divide\n",
      "  cos_n_join_n = np.divide(WnLp_k.X(), WnLp_Vect_Mag)\n",
      "/tmp/ipykernel_1626912/2506733917.py:80: RuntimeWarning: invalid value encountered in divide\n",
      "  cos_r_join_n = np.divide(WnLp_k.Y(), WnLp_Vect_Mag)\n",
      "/tmp/ipykernel_1626912/2506733917.py:81: RuntimeWarning: invalid value encountered in divide\n",
      "  cos_k_join_n = np.divide(WnLp_k.Z(), WnLp_Vect_Mag)\n",
      "/tmp/ipykernel_1626912/2506733917.py:94: RuntimeWarning: invalid value encountered in divide\n",
      "  ln_theta = np.arctan(np.divide(ln_pt, WnLp_k.Z()))  # theta = arctan(PT/Pz)\n",
      "/tmp/ipykernel_1626912/2506733917.py:79: RuntimeWarning: invalid value encountered in divide\n",
      "  cos_n_join_n = np.divide(WnLp_k.X(), WnLp_Vect_Mag)\n",
      "/tmp/ipykernel_1626912/2506733917.py:80: RuntimeWarning: invalid value encountered in divide\n",
      "  cos_r_join_n = np.divide(WnLp_k.Y(), WnLp_Vect_Mag)\n",
      "/tmp/ipykernel_1626912/2506733917.py:81: RuntimeWarning: invalid value encountered in divide\n",
      "  cos_k_join_n = np.divide(WnLp_k.Z(), WnLp_Vect_Mag)\n",
      "/tmp/ipykernel_1626912/2506733917.py:94: RuntimeWarning: invalid value encountered in divide\n",
      "  ln_theta = np.arctan(np.divide(ln_pt, WnLp_k.Z()))  # theta = arctan(PT/Pz)\n",
      "/tmp/ipykernel_1626912/2506733917.py:79: RuntimeWarning: invalid value encountered in divide\n",
      "  cos_n_join_n = np.divide(WnLp_k.X(), WnLp_Vect_Mag)\n",
      "/tmp/ipykernel_1626912/2506733917.py:80: RuntimeWarning: invalid value encountered in divide\n",
      "  cos_r_join_n = np.divide(WnLp_k.Y(), WnLp_Vect_Mag)\n",
      "/tmp/ipykernel_1626912/2506733917.py:81: RuntimeWarning: invalid value encountered in divide\n",
      "  cos_k_join_n = np.divide(WnLp_k.Z(), WnLp_Vect_Mag)\n",
      "/tmp/ipykernel_1626912/2506733917.py:94: RuntimeWarning: invalid value encountered in divide\n",
      "  ln_theta = np.arctan(np.divide(ln_pt, WnLp_k.Z()))  # theta = arctan(PT/Pz)\n"
     ]
    }
   ],
=======
   "execution_count": 56,
   "id": "1a2ed600",
   "metadata": {},
   "outputs": [],
>>>>>>> ehep_tf216
   "source": [
    "# calculate results\n",
    "\n",
    "# truth stage\n",
    "truth_particles = np.concatenate(\n",
    "    [truth_w_ptruth, truth_lead_lep, truth_w_neg, truth_sublead_lep], axis=1\n",
    ")\n",
    "truth_bij, truth_xi_pos, truth_xi_neg, truth_ggm_pos, truth_ggm_neg, truth_mask = result_generator(\n",
    "    truth_particles\n",
    ")"
   ]
  },
  {
   "cell_type": "code",
<<<<<<< HEAD
   "execution_count": null,
=======
   "execution_count": 57,
>>>>>>> ehep_tf216
   "id": "80138119",
   "metadata": {},
   "outputs": [],
   "source": [
    "# 8 Wigner P-symbols angular functions\n",
    "\n",
    "\n",
    "def P1(theta, phi, sign):\n",
    "    if sign == \"pos\":\n",
    "        c = 1\n",
    "    elif sign == \"neg\":\n",
    "        c = -1\n",
    "    return np.sqrt(2) * (5 * np.cos(theta) + c) * np.sin(theta) * np.cos(phi)\n",
    "\n",
    "\n",
    "def P2(theta, phi, sign):\n",
    "    if sign == \"pos\":\n",
    "        c = 1\n",
    "    elif sign == \"neg\":\n",
    "        c = -1\n",
    "    return np.sqrt(2) * (5 * np.cos(theta) + c) * np.sin(theta) * np.sin(phi)\n",
    "\n",
    "\n",
    "def P3(theta, phi, sign):\n",
    "    if sign == \"pos\":\n",
    "        c = 1\n",
    "    elif sign == \"neg\":\n",
    "        c = -1\n",
    "    return 0.25 * (c * 4 * np.cos(theta) + 15 * np.cos(2 * theta) + 5)\n",
    "\n",
    "\n",
    "def P4(theta, phi, sign):\n",
    "    if sign == \"pos\":\n",
    "        c = 1\n",
    "    elif sign == \"neg\":\n",
    "        c = -1\n",
    "    return 5 * np.sin(theta) * np.sin(theta) * np.cos(2 * phi)\n",
    "\n",
    "\n",
    "def P5(theta, phi, sign):\n",
    "    if sign == \"pos\":\n",
    "        c = 1\n",
    "    elif sign == \"neg\":\n",
    "        c = -1\n",
    "    return 5 * np.sin(theta) * np.sin(theta) * np.sin(2 * phi)\n",
    "\n",
    "\n",
    "def P6(theta, phi, sign):\n",
    "    if sign == \"pos\":\n",
    "        c = 1\n",
    "    elif sign == \"neg\":\n",
    "        c = -1\n",
    "    return np.sqrt(2) * (c - 5 * np.cos(theta)) * np.sin(theta) * np.cos(phi)\n",
    "\n",
    "\n",
    "def P7(theta, phi, sign):\n",
    "    if sign == \"pos\":\n",
    "        c = 1\n",
    "    elif sign == \"neg\":\n",
    "        c = -1\n",
    "    return np.sqrt(2) * (c - 5 * np.cos(theta)) * np.sin(theta) * np.sin(phi)\n",
    "\n",
    "\n",
    "def P8(theta, phi, sign):\n",
    "    if sign == \"pos\":\n",
    "        c = 1\n",
    "    elif sign == \"neg\":\n",
    "        c = -1\n",
    "    return np.sqrt(1 / 48) * (c * 12 * np.cos(theta) - 15 * np.cos(2 * theta) - 5)"
   ]
  },
  {
   "cell_type": "code",
<<<<<<< HEAD
   "execution_count": null,
=======
   "execution_count": 58,
>>>>>>> ehep_tf216
   "id": "2b066583",
   "metadata": {},
   "outputs": [],
   "source": [
    "def compute_Wigner(Phi_func: callable, angles: tuple, sign: str) -> np.float64:\n",
    "    \"\"\"\n",
    "    Compute Wigner function for given angles and sign.\n",
    "    \"\"\"\n",
    "    theta_0toPi, phi_0to2Pi = angles\n",
    "    return Phi_func(theta_0toPi, phi_0to2Pi, sign)\n",
    "\n",
    "\n",
    "def C_matrix(lp_theta, lp_phi, ln_theta, ln_phi):\n",
    "    # Adjust angles to the paper requiring\n",
    "    lp_theta_0toPi = np.where(lp_theta < 0, np.pi + lp_theta, lp_theta)\n",
    "    ln_theta_0toPi = np.where(ln_theta < 0, np.pi + ln_theta, ln_theta)\n",
    "    lp_phi_0to2Pi = np.where(lp_phi < 0, 2 * np.pi + lp_phi, lp_phi)\n",
    "    ln_phi_0to2Pi = np.where(ln_phi < 0, 2 * np.pi + ln_phi, ln_phi)\n",
    "\n",
    "    PSymb = [\"P1\", \"P2\", \"P3\", \"P4\", \"P5\", \"P6\", \"P7\", \"P8\"]\n",
    "    Phi_functions = [P1, P2, P3, P4, P5, P6, P7, P8]\n",
    "\n",
    "    # Compute Wigner functions\n",
    "    WignerPp_results = [\n",
    "        compute_Wigner(Phi, (lp_theta_0toPi, lp_phi_0to2Pi), \"pos\")\n",
    "        for Phi in Phi_functions\n",
    "    ]\n",
    "    WignerPn_results = [\n",
    "        compute_Wigner(Phi, (ln_theta_0toPi, ln_phi_0to2Pi), \"neg\")\n",
    "        for Phi in Phi_functions\n",
    "    ]\n",
    "\n",
    "    # Construct DataFrames from results\n",
    "    WignerPp = pd.DataFrame(\n",
    "        {PSymb[i] + \"+\": result for i, result in enumerate(WignerPp_results)}\n",
    "    )\n",
    "    WignerPn = pd.DataFrame(\n",
    "        {PSymb[i] + \"-\": result for i, result in enumerate(WignerPn_results)}\n",
    "    )\n",
    "\n",
    "    # Compute C matrix using vectorized operations\n",
    "    C = np.zeros((9, 9))\n",
    "    C[0, 1:] = WignerPp.mean() * 0.5\n",
    "    C[1:, 0] = WignerPn.mean() * 0.5\n",
    "    for i in range(8):\n",
    "        for j in range(8):\n",
    "            C[i + 1, j + 1] = np.mean(WignerPn.iloc[:, i] * WignerPp.iloc[:, j]) * 0.25\n",
    "\n",
    "    return C, WignerPp, WignerPn"
   ]
  },
  {
   "cell_type": "code",
<<<<<<< HEAD
   "execution_count": null,
=======
   "execution_count": 59,
>>>>>>> ehep_tf216
   "id": "89122b64",
   "metadata": {},
   "outputs": [],
   "source": [
    "# retrieve elements from P-symbol Phi functions\n",
    "\n",
    "# truth stage\n",
    "truth_phi_pos, truth_phi_neg = truth_ggm_pos[:, 1], truth_ggm_neg[:, 1]\n",
    "truth_theta_pos, truth_theta_neg = truth_ggm_pos[:, 2], truth_ggm_neg[:, 2]"
   ]
  },
  {
   "cell_type": "code",
<<<<<<< HEAD
   "execution_count": null,
=======
   "execution_count": 60,
>>>>>>> ehep_tf216
   "id": "512bc8e3",
   "metadata": {},
   "outputs": [],
   "source": [
    "# calculate C matrix and Wigner P-symbol functions\n",
    "\n",
    "truth_C, _, _ = C_matrix(truth_theta_pos, truth_phi_pos, truth_theta_neg, truth_phi_neg)"
   ]
  },
  {
   "cell_type": "code",
<<<<<<< HEAD
   "execution_count": null,
=======
   "execution_count": 61,
>>>>>>> ehep_tf216
   "id": "f42355d6",
   "metadata": {},
   "outputs": [],
   "source": [
    "def ggm_plot(C, title=\"RAW\"):\n",
    "    fig, ax = plt.subplots(figsize=(7, 7), dpi=120)\n",
    "    xx, yy = np.meshgrid(np.arange(9), np.arange(9))\n",
    "    im = ax.pcolormesh(\n",
    "        xx,\n",
    "        yy,\n",
    "        C,\n",
    "        cmap=my_cmaps.hotcold(neutral=1.0),\n",
    "        vmin=-0.25,\n",
    "        vmax=0.25,\n",
    "        shading=\"auto\",\n",
    "    )\n",
    "    ax.set_aspect(1)\n",
    "    # Remove the tick lines\n",
    "    ax.tick_params(axis=\"both\", which=\"minor\", tick1On=False, tick2On=False)\n",
    "    divider = make_axes_locatable(ax)\n",
    "    cax = divider.append_axes(\"right\", size=\"3%\", pad=0.05)\n",
    "    cbar = plt.colorbar(im, cax=cax, orientation=\"vertical\")\n",
    "    ticks = np.arange(-0.25, 0.26, 0.05)\n",
    "    cbar.set_ticks(ticks)\n",
    "    cbar.set_ticklabels([f\"{tick:.2f}\" for tick in ticks])\n",
    "    # Align the minor tick label\n",
    "    for label in ax.get_xticklabels(minor=True):\n",
    "        label.set_verticalalignment(\"center\")\n",
    "    for label in ax.get_yticklabels(minor=True):\n",
    "        label.set_horizontalalignment(\"center\")\n",
    "    ax.set_xticks(np.arange(9))\n",
    "    ax.set_xlabel(r\"$W^{+}$ GM index\", fontsize=12)\n",
    "    ax.set_ylabel(r\"$W^{-}$ GM index\", fontsize=12)\n",
    "    ax.set_title(f\"{title} \" + r\"$pp\\to H \\to WW^* \\to \\ell \\nu \\ell \\nu$\", fontsize=16)\n",
    "    plt.show()\n",
    "    plt.close()"
   ]
  },
  {
   "cell_type": "code",
<<<<<<< HEAD
   "execution_count": null,
=======
   "execution_count": 62,
>>>>>>> ehep_tf216
   "id": "c7f93b7d",
   "metadata": {},
   "outputs": [
    {
     "data": {
<<<<<<< HEAD
      "image/png": "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",
=======
      "image/png": "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",
>>>>>>> ehep_tf216
      "text/plain": [
       "<Figure size 840x840 with 2 Axes>"
      ]
     },
     "metadata": {},
     "output_type": "display_data"
    }
   ],
   "source": [
    "# raw\n",
    "ggm_plot(truth_C, \"Truth:\")"
   ]
  },
  {
   "cell_type": "code",
<<<<<<< HEAD
   "execution_count": null,
=======
   "execution_count": 63,
>>>>>>> ehep_tf216
   "id": "c10c3ca5",
   "metadata": {},
   "outputs": [
    {
     "name": "stdout",
     "output_type": "stream",
     "text": [
<<<<<<< HEAD
      "Total spending time:  551.64 (s)\n"
=======
      "Total spending time:  6.95 (s)\n"
>>>>>>> ehep_tf216
     ]
    }
   ],
   "source": [
    "t_end = time.time()\n",
    "print(f\"Total spending time: {t_end-t_start: .2f} (s)\")"
   ]
  }
 ],
 "metadata": {
  "@webio": {
   "lastCommId": null,
   "lastKernelId": null
  },
  "kernelspec": {
   "display_name": "Python 3 (ipykernel)",
   "language": "python",
   "name": "python3"
  },
  "language_info": {
   "codemirror_mode": {
    "name": "ipython",
    "version": 3
   },
   "file_extension": ".py",
   "mimetype": "text/x-python",
   "name": "python",
   "nbconvert_exporter": "python",
   "pygments_lexer": "ipython3",
   "version": "3.10.12"
  }
 },
 "nbformat": 4,
 "nbformat_minor": 5
}
