{
 "cells": [
  {
   "cell_type": "code",
   "execution_count": 41,
   "id": "9b30635f",
   "metadata": {},
   "outputs": [],
   "source": [
    "%reset -f\n",
    "import time\n",
    "t_start = time.time()"
   ]
  },
  {
   "cell_type": "code",
   "execution_count": 42,
   "id": "ed4edbfe",
   "metadata": {},
   "outputs": [
    {
     "name": "stdout",
     "output_type": "stream",
     "text": [
      "Adding /home/ypeng/work/QE-mls/qe to sys.path\n"
     ]
    }
   ],
   "source": [
    "import sys\n",
    "import os\n",
    "\n",
    "# Verify the path\n",
    "qe_path = os.path.abspath('./work/QE-mls/qe/')\n",
    "print(f\"Adding {qe_path} to sys.path\")\n",
    "sys.path.insert(0, qe_path)\n",
    "\n",
    "import my_cmaps\n",
    "\n",
    "import numpy as np\n",
    "import pandas as pd\n",
    "import uproot\n",
    "import ROOT\n",
    "from ROOT import TLorentzVector, TVector3\n",
    "import multiprocessing\n",
    "import matplotlib.pyplot as plt\n",
    "import seaborn as sns\n",
    "from mpl_toolkits.axes_grid1 import make_axes_locatable"
   ]
  },
  {
   "cell_type": "code",
   "execution_count": 43,
   "id": "eaa551bf",
   "metadata": {},
   "outputs": [],
   "source": [
    "# designates the data path\n",
    "DSID = 345324\n",
    "# DSID = 504669\n",
    "TREES = str(DSID) + \";1\"\n",
    "if DSID == 345324:\n",
    "    TYPE = \"powheg\"\n",
    "elif DSID == 504669:\n",
    "    TYPE = \"madgraph\"\n",
    "PATH = f\"/data/ggm_truth_analysis/{TYPE}_dump/\"\n",
    "\n",
    "# some constant\n",
    "GEV = 1e-3\n",
    "WORKERS = 64"
   ]
  },
  {
   "cell_type": "code",
   "execution_count": 44,
   "id": "071d77dc",
   "metadata": {},
   "outputs": [],
   "source": [
    "def load_data(path=PATH, cut_stage=\"CutTruthTopo\"):\n",
    "    file = uproot.open(path + cut_stage + f\"/{DSID}_analyze.root\")\n",
    "    branches = file[TREES].keys()\n",
    "    data = {\n",
    "        branch.split(\".\")[-1]: file[TREES][branch].array(library=\"pd\")\n",
    "        for branch in branches\n",
    "    }\n",
    "    print(branches)\n",
    "    return data"
   ]
  },
  {
   "cell_type": "code",
   "execution_count": 45,
   "id": "9f0d212e",
   "metadata": {},
   "outputs": [
    {
     "name": "stdout",
     "output_type": "stream",
     "text": [
      "CutLeadLeptonPt_Truth  CutSubLeadLeptonPt_Truth  CutTruthTopo\n",
      "CutOSLeptons_Truth     CutTruthChannels\n"
     ]
    }
   ],
   "source": [
    "!ls /data/ggm_truth_analysis/madgraph_dump"
   ]
  },
  {
   "cell_type": "code",
   "execution_count": 46,
   "id": "a3301d44",
   "metadata": {},
   "outputs": [
    {
     "name": "stdout",
     "output_type": "stream",
     "text": [
      "['TruthQEHE', 'TruthQEHPx', 'TruthQEHPy', 'TruthQEHPz', 'TruthQEHM', 'TruthQEHPt', 'TruthQEHEta', 'TruthQEHPhi', 'TruthQEWpE', 'TruthQEWpPx', 'TruthQEWpPy', 'TruthQEWpPz', 'TruthQEWpM', 'TruthQEWpPt', 'TruthQEWpEta', 'TruthQEWpPhi', 'TruthQEWnE', 'TruthQEWnPx', 'TruthQEWnPy', 'TruthQEWnPz', 'TruthQEWnM', 'TruthQEWnPt', 'TruthQEWnEta', 'TruthQEWnPhi', 'TruthQELeppE', 'TruthQELeppPx', 'TruthQELeppPy', 'TruthQELeppPz', 'TruthQELeppM', 'TruthQELeppPt', 'TruthQELeppEta', 'TruthQELeppPhi', 'TruthQELepnE', 'TruthQELepnPx', 'TruthQELepnPy', 'TruthQELepnPz', 'TruthQELepnM', 'TruthQELepnPt', 'TruthQELepnEta', 'TruthQELepnPhi', 'TruthQENupE', 'TruthQENupPx', 'TruthQENupPy', 'TruthQENupPz', 'TruthQENupM', 'TruthQENupPt', 'TruthQENupEta', 'TruthQENupPhi', 'TruthQENunE', 'TruthQENunPx', 'TruthQENunPy', 'TruthQENunPz', 'TruthQENunM', 'TruthQENunPt', 'TruthQENunEta', 'TruthQENunPhi', 'TruthCandLep0E', 'TruthCandLep0Px', 'TruthCandLep0Py', 'TruthCandLep0Pz', 'TruthCandLep0M', 'TruthCandLep0Pt', 'TruthCandLep0Eta', 'TruthCandLep0Phi', 'TruthCandLep0F', 'TruthCandLep1E', 'TruthCandLep1Px', 'TruthCandLep1Py', 'TruthCandLep1Pz', 'TruthCandLep1M', 'TruthCandLep1Pt', 'TruthCandLep1Eta', 'TruthCandLep1Phi', 'TruthCandLep1F', 'Bxy', 'Byz', 'Bzx', 'topoFlag', 'weight']\n"
     ]
    }
   ],
   "source": [
    "data_truth = load_data(cut_stage=\"CutOSLeptons_Truth\")"
   ]
  },
  {
   "cell_type": "code",
   "execution_count": 47,
   "id": "c6760d3a",
   "metadata": {},
   "outputs": [
    {
     "data": {
      "text/plain": [
       "count    412118.000000\n",
       "mean         52.463718\n",
       "std          52.570889\n",
       "min           0.510988\n",
       "25%           0.511000\n",
       "50%           0.511000\n",
       "75%         105.660004\n",
       "max         105.660004\n",
       "dtype: float64"
      ]
     },
     "execution_count": 47,
     "metadata": {},
     "output_type": "execute_result"
    }
   ],
   "source": [
    "data_truth[\"TruthCandLep1M\"].describe()"
   ]
  },
  {
   "cell_type": "code",
   "execution_count": 48,
   "id": "b1bc32d6",
   "metadata": {},
   "outputs": [],
   "source": [
    "threadshold = -9999\n",
    "mask = (data_truth[\"TruthQEWpM\"] > threadshold) & (data_truth[\"TruthQEWnM\"] > threadshold) & (data_truth[\"TruthQEHM\"] > threadshold)"
   ]
  },
  {
   "cell_type": "code",
   "execution_count": 49,
   "id": "86c789ac",
   "metadata": {},
   "outputs": [],
   "source": [
    "# truth stage leptons\n",
    "# loading data\n",
    "\n",
    "truth_lead_lep = (\n",
    "    GEV\n",
    "    * np.array(\n",
    "        [\n",
    "            data_truth[key]\n",
    "            for key in [\n",
    "                \"TruthCandLep0Px\",\n",
    "                \"TruthCandLep0Py\",\n",
    "                \"TruthCandLep0Pz\",\n",
    "                \"TruthCandLep0E\",\n",
    "            ]\n",
    "        ]\n",
    "    ).T\n",
    ")[mask]\n",
    "truth_sublead_lep = (\n",
    "    GEV\n",
    "    * np.array(\n",
    "        [\n",
    "            data_truth[key]\n",
    "            for key in [\n",
    "                \"TruthCandLep1Px\",\n",
    "                \"TruthCandLep1Py\",\n",
    "                \"TruthCandLep1Pz\",\n",
    "                \"TruthCandLep1E\",\n",
    "            ]\n",
    "        ]\n",
    "    ).T\n",
    ")[mask]\n",
    "\n",
    "# truth stage Ws\n",
    "truth_w_ptruth = (\n",
    "    GEV\n",
    "    * np.array(\n",
    "        [\n",
    "            data_truth[key]\n",
    "            for key in [\"TruthQEWpPx\", \"TruthQEWpPy\", \"TruthQEWpPz\", \"TruthQEWpE\"]\n",
    "        ]\n",
    "    ).T\n",
    ")[mask]\n",
    "truth_w_neg = (\n",
    "    GEV\n",
    "    * np.array(\n",
    "        [\n",
    "            data_truth[key]\n",
    "            for key in [\"TruthQEWnPx\", \"TruthQEWnPy\", \"TruthQEWnPz\", \"TruthQEWnE\"]\n",
    "        ]\n",
    "    ).T\n",
    ")[mask]"
   ]
  },
  {
   "cell_type": "code",
   "execution_count": 50,
   "id": "b0c656c5",
   "metadata": {},
   "outputs": [
    {
     "name": "stdout",
     "output_type": "stream",
     "text": [
      "count    412118.000000\n",
      "mean      54887.579640\n",
      "std       24410.802354\n",
      "min        2004.996118\n",
      "25%       33804.246900\n",
      "50%       53138.029623\n",
      "75%       79855.533932\n",
      "max      105249.681453\n",
      "dtype: float64\n",
      "\n",
      "count    412118.000000\n",
      "mean      54890.509274\n",
      "std       24442.620226\n",
      "min        2006.323753\n",
      "25%       33759.954185\n",
      "50%       53469.435884\n",
      "75%       79864.665966\n",
      "max      104450.694361\n",
      "dtype: float64\n"
     ]
    }
   ],
   "source": [
    "print(data_truth[\"TruthQEWpM\"][mask].describe(), end=\"\\n\\n\")\n",
    "print(data_truth[\"TruthQEWnM\"][mask].describe())"
   ]
  },
  {
   "cell_type": "code",
   "execution_count": 51,
   "id": "d0aa704a",
   "metadata": {},
   "outputs": [
    {
     "name": "stdout",
     "output_type": "stream",
     "text": [
      "(412118,)\n"
     ]
    },
    {
     "data": {
      "image/png": "[encoded data removed]",
      "text/plain": [
       "<Figure size 800x560 with 1 Axes>"
      ]
     },
     "metadata": {},
     "output_type": "display_data"
    },
    {
     "name": "stdout",
     "output_type": "stream",
     "text": [
      "(412118,)\n"
     ]
    },
    {
     "data": {
      "image/png": "[encoded data removed]",
      "text/plain": [
       "<Figure size 800x560 with 1 Axes>"
      ]
     },
     "metadata": {},
     "output_type": "display_data"
    }
   ],
   "source": [
    "#  TEST\n",
    "print(data_truth[\"TruthQEWpM\"][mask].shape)\n",
    "fiugre = plt.figure(figsize=(10, 7), dpi=80)\n",
    "plt.hist(data_truth[\"TruthQEWpM\"][mask], bins=120)\n",
    "plt.title(\"TruthQEWpM\")\n",
    "plt.show()\n",
    "plt.close()\n",
    "\n",
    "#  TEST\n",
    "print(data_truth[\"TruthQEWnM\"][mask].shape)\n",
    "fiugre = plt.figure(figsize=(10, 7), dpi=80)\n",
    "plt.hist(data_truth[\"TruthQEWnM\"][mask], bins=120)\n",
    "plt.title(\"TruthQEWnM\")\n",
    "plt.show()\n",
    "plt.close()\n"
   ]
  },
  {
   "cell_type": "code",
   "execution_count": 52,
   "id": "c404f301",
   "metadata": {},
   "outputs": [],
   "source": [
    "# main algorithm\n",
    "\n",
    "\n",
    "def cglmp(z_xp, z_xn, z_yp, z_yn):\n",
    "    \"\"\"\n",
    "    This is a function to calculate Bij (CGLMP values).\n",
    "    :param z_xp: Angle (xi) between positive lepton and x-axis.\n",
    "    :param z_xn: Angle (xi) between negative lepton and x-axis.\n",
    "    :param z_yp: Angle (xi) between positive lepton and y-axis.\n",
    "    :param z_xn: Angle (xi) between negative lepton and y-axis.\n",
    "    \"\"\"\n",
    "    # count expectation value, use (27) in Alan's paper\n",
    "    tr_a = (np.divide(8, np.sqrt(3))) * (z_xp * z_xn + z_yp * z_yn)\n",
    "    tr_b = (\n",
    "        25 * (np.square(z_xp) - np.square(z_yp)) * (np.square(z_xn) - np.square(z_yn))\n",
    "    )\n",
    "    tr_c = 100 * (z_xp * z_yp * z_xn * z_yn)\n",
    "    tr = tr_a + tr_b + tr_c\n",
    "\n",
    "    return tr\n",
    "\n",
    "\n",
    "def main_alg(particles):\n",
    "    # Ensure ROOT is properly initialized\n",
    "    ROOT.gROOT.SetBatch(True)\n",
    "\n",
    "    WpBoson = TLorentzVector(*particles[:4])\n",
    "    WpLepton = TLorentzVector(*particles[4:8])\n",
    "    WnBoson = TLorentzVector(*particles[8:12])\n",
    "    WnLepton = TLorentzVector(*particles[12:16])\n",
    "\n",
    "    # construct Higgs 4-vector\n",
    "    Higgs = WpBoson + WnBoson\n",
    "\n",
    "    # construct a moving orthogonal basis (k,r,n)\n",
    "    Beam_p = TLorentzVector(0, 0, 1, 1)  # spatial-axis\n",
    "\n",
    "    # define boost vector\n",
    "    Higgsb = Higgs.BoostVector()\n",
    "\n",
    "    # (1) performs a boost transformation from the rod frame to the rawal one.\n",
    "    # Perform boost transformation from the rod frame to the rawal one\n",
    "    for vec in [WpBoson, WpLepton, WnBoson, WnLepton, Beam_p]:\n",
    "        vec.Boost(-Higgsb)\n",
    "\n",
    "    # 2. Define (k,r,n) -> definitions are in Alan's paper\n",
    "    k_per = TVector3(WpBoson.X(), WpBoson.Y(), WpBoson.Z())\n",
    "    p_per = TVector3(Beam_p.X(), Beam_p.Y(), Beam_p.Z())  # in the Higgs rest frame\n",
    "    k = k_per.Unit()  # normalized -> unit vector\n",
    "    p = p_per.Unit()\n",
    "    y = p.Dot(k)\n",
    "    r_length = np.sqrt(1 - y * y)\n",
    "    r = (1 / r_length) * (p - y * k)\n",
    "    n = (1 / r_length) * (p.Cross(k))  # (1/sin)*sin = 1 -> unit vector\n",
    "\n",
    "    # 3. Further boost to W+ and W- frame respectively\n",
    "    WpkBoost = WpBoson.BoostVector()\n",
    "    WpBoson.Boost(-WpkBoost)\n",
    "    WpLepton.Boost(-WpkBoost)\n",
    "    WnkBoost = WnBoson.BoostVector()\n",
    "    WnBoson.Boost(-WnkBoost)\n",
    "    WnLepton.Boost(-WnkBoost)\n",
    "\n",
    "    # 4. Map all particle to (k,r,n) frame\n",
    "    WpLp = WpLepton.Vect()  # momentum in (k,r,n)\n",
    "    WnLp = WnLepton.Vect()\n",
    "    # Mapping to n-r-k basis\n",
    "    WpLp_k = TLorentzVector(WpLp.Dot(n), WpLp.Dot(r), WpLp.Dot(k), WpLepton.E())\n",
    "    WnLp_k = TLorentzVector(WnLp.Dot(n), WnLp.Dot(r), WnLp.Dot(k), WnLepton.E())\n",
    "\n",
    "    # 5. Calculate directional cosines\n",
    "    # directional cosine from Wp\n",
    "    WpLp_Vect_Mag = WpLp_k.Vect().Mag()\n",
    "    cos_n_join_p = np.divide(WpLp_k.X(), WpLp_Vect_Mag)\n",
    "    cos_r_join_p = np.divide(WpLp_k.Y(), WpLp_Vect_Mag)\n",
    "    cos_k_join_p = np.divide(WpLp_k.Z(), WpLp_Vect_Mag)\n",
    "    # directional cosine from Wn\n",
    "    WnLp_Vect_Mag = WnLp_k.Vect().Mag()\n",
    "    cos_n_join_n = np.divide(WnLp_k.X(), WnLp_Vect_Mag)\n",
    "    cos_r_join_n = np.divide(WnLp_k.Y(), WnLp_Vect_Mag)\n",
    "    cos_k_join_n = np.divide(WnLp_k.Z(), WnLp_Vect_Mag)\n",
    "\n",
    "    # 5.1 Calculate GGM\n",
    "    # GGM\n",
    "    lp_pt = np.sqrt(\n",
    "        np.square(WpLp_k.X()) + np.square(WpLp_k.Y())\n",
    "    )  # pT = sqrt(Px^2 + Py^2)\n",
    "    ln_pt = np.sqrt(\n",
    "        np.square(WnLp_k.X()) + np.square(WnLp_k.Y())\n",
    "    )  # pT = sqrt(Px^2 + Py^2)\n",
    "    lp_phi = np.arctan2(WpLp_k.Y(), WpLp_k.X())  # phi = arctan(Py/Px)\n",
    "    ln_phi = np.arctan2(WnLp_k.Y(), WnLp_k.X())  # phi = arctan(Py/Px)\n",
    "    lp_theta = np.arctan(np.divide(lp_pt, WpLp_k.Z()))  # theta = arctan(PT/Pz)\n",
    "    ln_theta = np.arctan(np.divide(ln_pt, WnLp_k.Z()))  # theta = arctan(PT/Pz)\n",
    "\n",
    "    # 6. Calculate Bij (CGLMP values)\n",
    "    B_xy = cglmp(cos_n_join_p, cos_n_join_n, cos_r_join_p, cos_r_join_n)\n",
    "    B_yz = cglmp(cos_r_join_p, cos_r_join_n, cos_k_join_p, cos_k_join_n)\n",
    "    B_zx = cglmp(cos_n_join_p, cos_n_join_n, cos_k_join_p, cos_k_join_n)\n",
    "\n",
    "    return (\n",
    "        np.array([B_xy, B_yz, B_zx]),\n",
    "        np.array([cos_n_join_p, cos_r_join_p, cos_k_join_p]),\n",
    "        np.array([cos_n_join_n, cos_r_join_n, cos_k_join_n]),\n",
    "        np.array([lp_pt, lp_phi, lp_theta]),\n",
    "        np.array([ln_pt, ln_phi, ln_theta]),\n",
    "    )"
   ]
  },
  {
   "cell_type": "code",
   "execution_count": 53,
   "id": "ce65b6ec",
   "metadata": {},
   "outputs": [],
   "source": [
    "# declare a generator for the resuts\n",
    "\n",
    "\n",
    "def result_generator(particles):\n",
    "    bij = np.zeros((particles.shape[0], 3))\n",
    "    xi_lead = np.zeros((particles.shape[0], 3))\n",
    "    xi_sublead = np.zeros((particles.shape[0], 3))\n",
    "    ggm_lead = np.zeros((particles.shape[0], 3))\n",
    "    ggm_sublead = np.zeros((particles.shape[0], 3))\n",
    "    result = np.array((particles.shape[0], 3, 5))\n",
    "    with multiprocessing.Pool(WORKERS) as pool:\n",
    "        result = np.array(list(pool.map(main_alg, particles)))\n",
    "    bij = result[:, 0]\n",
    "    xi_lead = result[:, 1]\n",
    "    xi_sublead = result[:, 2]\n",
    "    ggm_lead = result[:, 3]\n",
    "    ggm_sublead = result[:, 4]\n",
    "    mask = np.any(np.isnan(bij), axis=1)\n",
    "    return (\n",
    "        bij[~mask, :],\n",
    "        xi_lead[~mask, :],\n",
    "        xi_sublead[~mask, :],\n",
    "        ggm_lead[~mask, :],\n",
    "        ggm_sublead[~mask, :],\n",
    "        mask,\n",
    "    )"
   ]
  },
  {
   "cell_type": "code",
   "execution_count": 54,
   "id": "1a2ed600",
   "metadata": {},
   "outputs": [],
   "source": [
    "# calculate results\n",
    "\n",
    "# truth stage\n",
    "truth_particles = np.concatenate(\n",
    "    [truth_w_ptruth, truth_lead_lep, truth_w_neg, truth_sublead_lep], axis=1\n",
    ")\n",
    "truth_bij, truth_xi_pos, truth_xi_neg, truth_ggm_pos, truth_ggm_neg, truth_mask = result_generator(\n",
    "    truth_particles\n",
    ")"
   ]
  },
  {
   "cell_type": "code",
   "execution_count": 55,
   "id": "80138119",
   "metadata": {},
   "outputs": [],
   "source": [
    "# 8 Wigner P-symbols angular functions\n",
    "\n",
    "\n",
    "def P1(theta, phi, sign):\n",
    "    if sign == \"pos\":\n",
    "        c = 1\n",
    "    elif sign == \"neg\":\n",
    "        c = -1\n",
    "    return np.sqrt(2) * (5 * np.cos(theta) + c) * np.sin(theta) * np.cos(phi)\n",
    "\n",
    "\n",
    "def P2(theta, phi, sign):\n",
    "    if sign == \"pos\":\n",
    "        c = 1\n",
    "    elif sign == \"neg\":\n",
    "        c = -1\n",
    "    return np.sqrt(2) * (5 * np.cos(theta) + c) * np.sin(theta) * np.sin(phi)\n",
    "\n",
    "\n",
    "def P3(theta, phi, sign):\n",
    "    if sign == \"pos\":\n",
    "        c = 1\n",
    "    elif sign == \"neg\":\n",
    "        c = -1\n",
    "    return 0.25 * (c * 4 * np.cos(theta) + 15 * np.cos(2 * theta) + 5)\n",
    "\n",
    "\n",
    "def P4(theta, phi, sign):\n",
    "    if sign == \"pos\":\n",
    "        c = 1\n",
    "    elif sign == \"neg\":\n",
    "        c = -1\n",
    "    return 5 * np.sin(theta) * np.sin(theta) * np.cos(2 * phi)\n",
    "\n",
    "\n",
    "def P5(theta, phi, sign):\n",
    "    if sign == \"pos\":\n",
    "        c = 1\n",
    "    elif sign == \"neg\":\n",
    "        c = -1\n",
    "    return 5 * np.sin(theta) * np.sin(theta) * np.sin(2 * phi)\n",
    "\n",
    "\n",
    "def P6(theta, phi, sign):\n",
    "    if sign == \"pos\":\n",
    "        c = 1\n",
    "    elif sign == \"neg\":\n",
    "        c = -1\n",
    "    return np.sqrt(2) * (c - 5 * np.cos(theta)) * np.sin(theta) * np.cos(phi)\n",
    "\n",
    "\n",
    "def P7(theta, phi, sign):\n",
    "    if sign == \"pos\":\n",
    "        c = 1\n",
    "    elif sign == \"neg\":\n",
    "        c = -1\n",
    "    return np.sqrt(2) * (c - 5 * np.cos(theta)) * np.sin(theta) * np.sin(phi)\n",
    "\n",
    "\n",
    "def P8(theta, phi, sign):\n",
    "    if sign == \"pos\":\n",
    "        c = 1\n",
    "    elif sign == \"neg\":\n",
    "        c = -1\n",
    "    return np.sqrt(1 / 48) * (c * 12 * np.cos(theta) - 15 * np.cos(2 * theta) - 5)"
   ]
  },
  {
   "cell_type": "code",
   "execution_count": 56,
   "id": "2b066583",
   "metadata": {},
   "outputs": [],
   "source": [
    "def compute_Wigner(Phi_func: callable, angles: tuple, sign: str) -> np.float64:\n",
    "    \"\"\"\n",
    "    Compute Wigner function for given angles and sign.\n",
    "    \"\"\"\n",
    "    theta_0toPi, phi_0to2Pi = angles\n",
    "    return Phi_func(theta_0toPi, phi_0to2Pi, sign)\n",
    "\n",
    "\n",
    "def C_matrix(lp_theta, lp_phi, ln_theta, ln_phi):\n",
    "    # Adjust angles to the paper requiring\n",
    "    lp_theta_0toPi = np.where(lp_theta < 0, np.pi + lp_theta, lp_theta)\n",
    "    ln_theta_0toPi = np.where(ln_theta < 0, np.pi + ln_theta, ln_theta)\n",
    "    lp_phi_0to2Pi = np.where(lp_phi < 0, 2 * np.pi + lp_phi, lp_phi)\n",
    "    ln_phi_0to2Pi = np.where(ln_phi < 0, 2 * np.pi + ln_phi, ln_phi)\n",
    "\n",
    "    PSymb = [\"P1\", \"P2\", \"P3\", \"P4\", \"P5\", \"P6\", \"P7\", \"P8\"]\n",
    "    Phi_functions = [P1, P2, P3, P4, P5, P6, P7, P8]\n",
    "\n",
    "    # Compute Wigner functions\n",
    "    WignerPp_results = [\n",
    "        compute_Wigner(Phi, (lp_theta_0toPi, lp_phi_0to2Pi), \"pos\")\n",
    "        for Phi in Phi_functions\n",
    "    ]\n",
    "    WignerPn_results = [\n",
    "        compute_Wigner(Phi, (ln_theta_0toPi, ln_phi_0to2Pi), \"neg\")\n",
    "        for Phi in Phi_functions\n",
    "    ]\n",
    "\n",
    "    # Construct DataFrames from results\n",
    "    WignerPp = pd.DataFrame(\n",
    "        {PSymb[i] + \"+\": result for i, result in enumerate(WignerPp_results)}\n",
    "    )\n",
    "    WignerPn = pd.DataFrame(\n",
    "        {PSymb[i] + \"-\": result for i, result in enumerate(WignerPn_results)}\n",
    "    )\n",
    "\n",
    "    # Compute C matrix using vectorized operations\n",
    "    C = np.zeros((9, 9))\n",
    "    C[0, 1:] = WignerPp.mean() * 0.5\n",
    "    C[1:, 0] = WignerPn.mean() * 0.5\n",
    "    for i in range(8):\n",
    "        for j in range(8):\n",
    "            C[i + 1, j + 1] = np.mean(WignerPn.iloc[:, i] * WignerPp.iloc[:, j]) * 0.25\n",
    "\n",
    "    return C, WignerPp, WignerPn"
   ]
  },
  {
   "cell_type": "code",
   "execution_count": 57,
   "id": "89122b64",
   "metadata": {},
   "outputs": [],
   "source": [
    "# retrieve elements from P-symbol Phi functions\n",
    "\n",
    "# truth stage\n",
    "truth_phi_pos, truth_phi_neg = truth_ggm_pos[:, 1], truth_ggm_neg[:, 1]\n",
    "truth_theta_pos, truth_theta_neg = truth_ggm_pos[:, 2], truth_ggm_neg[:, 2]"
   ]
  },
  {
   "cell_type": "code",
   "execution_count": 58,
   "id": "512bc8e3",
   "metadata": {},
   "outputs": [],
   "source": [
    "# calculate C matrix and Wigner P-symbol functions\n",
    "\n",
    "truth_C, _, _ = C_matrix(truth_theta_pos, truth_phi_pos, truth_theta_neg, truth_phi_neg)"
   ]
  },
  {
   "cell_type": "code",
   "execution_count": 59,
   "id": "f42355d6",
   "metadata": {},
   "outputs": [],
   "source": [
    "def ggm_plot(C, title=\"RAW\"):\n",
    "    fig, ax = plt.subplots(figsize=(7, 7), dpi=120)\n",
    "    xx, yy = np.meshgrid(np.arange(9), np.arange(9))\n",
    "    im = ax.pcolormesh(\n",
    "        xx,\n",
    "        yy,\n",
    "        C,\n",
    "        cmap=my_cmaps.hotcold(neutral=1.0),\n",
    "        vmin=-0.25,\n",
    "        vmax=0.25,\n",
    "        shading=\"auto\",\n",
    "    )\n",
    "    ax.set_aspect(1)\n",
    "    # Remove the tick lines\n",
    "    ax.tick_params(axis=\"both\", which=\"minor\", tick1On=False, tick2On=False)\n",
    "    divider = make_axes_locatable(ax)\n",
    "    cax = divider.append_axes(\"right\", size=\"3%\", pad=0.05)\n",
    "    cbar = plt.colorbar(im, cax=cax, orientation=\"vertical\")\n",
    "    ticks = np.arange(-0.25, 0.26, 0.05)\n",
    "    cbar.set_ticks(ticks)\n",
    "    cbar.set_ticklabels([f\"{tick:.2f}\" for tick in ticks])\n",
    "    # Align the minor tick label\n",
    "    for label in ax.get_xticklabels(minor=True):\n",
    "        label.set_verticalalignment(\"center\")\n",
    "    for label in ax.get_yticklabels(minor=True):\n",
    "        label.set_horizontalalignment(\"center\")\n",
    "    ax.set_xticks(np.arange(9))\n",
    "    ax.set_xlabel(r\"$W^{+}$ GM index\", fontsize=12)\n",
    "    ax.set_ylabel(r\"$W^{-}$ GM index\", fontsize=12)\n",
    "    ax.set_title(f\"{title} \" + r\"$pp\\to H \\to WW^* \\to \\ell \\nu \\ell \\nu$\", fontsize=16)\n",
    "    plt.show()\n",
    "    plt.close()"
   ]
  },
  {
   "cell_type": "code",
   "execution_count": 60,
   "id": "c7f93b7d",
   "metadata": {},
   "outputs": [
    {
     "data": {
      "image/png": "[encoded data removed]",
      "text/plain": [
       "<Figure size 840x840 with 2 Axes>"
      ]
     },
     "metadata": {},
     "output_type": "display_data"
    }
   ],
   "source": [
    "# raw\n",
    "ggm_plot(truth_C, \"Truth:\")"
   ]
  },
  {
   "cell_type": "code",
   "execution_count": 61,
   "id": "c10c3ca5",
   "metadata": {},
   "outputs": [
    {
     "name": "stdout",
     "output_type": "stream",
     "text": [
      "Total spending time:  7.06 (s)\n"
     ]
    }
   ],
   "source": [
    "t_end = time.time()\n",
    "print(f\"Total spending time: {t_end-t_start: .2f} (s)\")"
   ]
  }
 ],
 "metadata": {
  "@webio": {
   "lastCommId": null,
   "lastKernelId": null
  },
  "kernelspec": {
   "display_name": "Python 3 (ipykernel)",
   "language": "python",
   "name": "python3"
  },
  "language_info": {
   "codemirror_mode": {
    "name": "ipython",
    "version": 3
   },
   "file_extension": ".py",
   "mimetype": "text/x-python",
   "name": "python",
   "nbconvert_exporter": "python",
   "pygments_lexer": "ipython3",
   "version": "3.9.19"
  }
 },
 "nbformat": 4,
 "nbformat_minor": 5
}
