{
 "cells": [
  {
   "cell_type": "markdown",
   "metadata": {
    "colab": {
     "base_uri": "https://localhost:8080/"
    },
    "id": "dcZL4LHRnZ6v",
    "outputId": "a06097fc-4c4c-4335-a10a-9fb44592e106"
   },
   "source": [
    "# Example: Gaussian Mixture\n",
    "\n",
    "- 2020-11-29 first uploaded\n",
    "- 2021-04-08 backward loss updated"
   ]
  },
  {
   "cell_type": "code",
   "execution_count": 1,
   "metadata": {
    "colab": {
     "base_uri": "https://localhost:8080/"
    },
    "id": "OidApFl0n3ll",
    "outputId": "f7978b66-c400-47ac-a3d9-c0528f54fc07"
   },
   "outputs": [
    {
     "name": "stderr",
     "output_type": "stream",
     "text": [
      "2023-10-30 06:05:11.421155: I tensorflow/core/platform/cpu_feature_guard.cc:182] This TensorFlow binary is optimized to use available CPU instructions in performance-critical operations.\n",
      "To enable the following instructions: AVX2 FMA, in other operations, rebuild TensorFlow with the appropriate compiler flags.\n"
     ]
    },
    {
     "name": "stdout",
     "output_type": "stream",
     "text": [
      "2.13.0\n",
      "[PhysicalDevice(name='/physical_device:CPU:0', device_type='CPU'), PhysicalDevice(name='/physical_device:GPU:0', device_type='GPU'), PhysicalDevice(name='/physical_device:GPU:1', device_type='GPU')]\n",
      "Python 3.10.12\n"
     ]
    }
   ],
   "source": [
    "%reset -sf\n",
    "\n",
    "import matplotlib.pyplot as plt\n",
    "import numpy as np\n",
    "import itertools\n",
    "from flow import *\n",
    "from utils import *\n",
    "import get_data as gd\n",
    "import gc\n",
    "\n",
    "import tensorflow as tf\n",
    "print(tf.__version__)\n",
    "print(tf.config.list_physical_devices())\n",
    "!python --version"
   ]
  },
  {
   "cell_type": "code",
   "execution_count": null,
   "metadata": {},
   "outputs": [],
   "source": [
    "import smtplib\n",
    "from email.mime.text import MIMEText\n",
    "from email.mime.multipart import MIMEMultipart\n",
    "from getpass import getpass\n",
    "\n",
    "# Sender's email (you can set it to 'root' or any other email address)\n",
    "sender_email = 'root'\n",
    "password = getpass(prompt='Enter your email password: ')\n",
    "\n",
    "# Receiver's email\n",
    "receiver_email = 'yygarypeng@gapp.nthu.edu.tw'\n",
    "\n",
    "# Create a message object\n",
    "message = MIMEMultipart()\n",
    "message['From'] = sender_email\n",
    "message['To'] = receiver_email\n",
    "message['Subject'] = 'Subject of the email'\n",
    "\n",
    "# Email body\n",
    "body = 'This is the body of the email.'\n",
    "message.attach(MIMEText(body, 'plain'))\n",
    "\n",
    "# Create an SMTP server connection\n",
    "try:\n",
    "    smtp_server = smtplib.SMTP('smtp.example.com', 587)  # Replace with your SMTP server and port\n",
    "    smtp_server.starttls()\n",
    "    smtp_server.login(sender_email, password)\n",
    "\n",
    "    # Send the email\n",
    "    text = message.as_string()\n",
    "    smtp_server.sendmail(sender_email, receiver_email, text)\n",
    "    print('Email sent successfully!')\n",
    "\n",
    "except Exception as e:\n",
    "    print(f'An error occurred: {str(e)}')\n",
    "\n",
    "finally:\n",
    "    smtp_server.quit()"
   ]
  },
  {
   "cell_type": "markdown",
   "metadata": {},
   "source": [
    "## Settings"
   ]
  },
  {
   "cell_type": "code",
   "execution_count": 75,
   "metadata": {},
   "outputs": [
    {
     "name": "stdout",
     "output_type": "stream",
     "text": [
      "['/root/work/truth/signal/CGLMP.npz', '/root/work/truth/signal/Higgs.npz', '/root/work/truth/signal/LeadLepton.npz', '/root/work/truth/signal/LeptonM.npz', '/root/work/truth/signal/LeptonP.npz', '/root/work/truth/signal/LmNu.npz', '/root/work/truth/signal/LpNu.npz', '/root/work/truth/signal/MET.npz', '/root/work/truth/signal/WmBoson.npz', '/root/work/truth/signal/WpBoson.npz', '/root/work/truth/signal/diLepton.npz', '/root/work/truth/signal/subLeadLepton.npz', '/root/work/truth/signal/xi_xyz.npz']\n",
      "lep_kin shape: (2928862, 8)\n",
      "MET_kin shape: (2928862, 4)\n",
      "dinu_kin shape: (2928862, 4)\n",
      "CGLMP shape: (2928862, 3)\n"
     ]
    },
    {
     "data": {
      "text/plain": [
       "3691"
      ]
     },
     "execution_count": 75,
     "metadata": {},
     "output_type": "execute_result"
    }
   ],
   "source": [
    "processor = gd.DataProcessor()\n",
    "path = \"/root/work/truth/signal/*npz\"\n",
    "processor.load_files(path)\n",
    "\n",
    "CGLMP, Higgs, LeadLep, LepM, LepP, NuM, NuP, MET, Wm, Wp, diLep, SubLep, Xi = processor.files\n",
    "\n",
    "lep_kin = processor.process_lep(LepP, LepM)\n",
    "print(\"lep_kin shape:\", lep_kin.shape)\n",
    "# lep_kin.head(5)\n",
    "\n",
    "# observed (Y)\n",
    "nu_kin = processor.process_MET(MET)\n",
    "print(\"MET_kin shape:\", nu_kin.shape)\n",
    "# nu_kin.head(5)\n",
    "\n",
    "# interest (X)\n",
    "dinu_kin = processor.process_dinu(NuP, NuM)\n",
    "print(\"dinu_kin shape:\", dinu_kin.shape)\n",
    "# dinu_kin.head(5)\n",
    "\n",
    "CGLMP_kin = processor.process_CGLMP(CGLMP)\n",
    "print(\"CGLMP shape:\", CGLMP_kin.shape)\n",
    "# CGLMP_kin.head(5)\n",
    "\n",
    "del processor  # Clear the instance\n",
    "gc.collect()"
   ]
  },
  {
   "cell_type": "code",
   "execution_count": 76,
   "metadata": {},
   "outputs": [],
   "source": [
    "# plt.hist(dinu_kin[\"nu_pz\"], bins=50)\n",
    "# plt.title(\"Original nu_pz\")\n",
    "# print(dinu_kin[\"nu_pz\"].max(), dinu_kin[\"nu_pz\"].min())\n",
    "# print(\"std:\", dinu_kin[\"nu_pz\"].std())\n",
    "# print(\"mean:\", dinu_kin[\"nu_pz\"].mean())\n",
    "# print(\"Tot evt:\", len(dinu_kin[\"nu_pz\"]))\n",
    "# plt.show()\n",
    "# plt.close()\n",
    "\n",
    "# from sklearn.preprocessing import StandardScaler\n",
    "\n",
    "# SCALAR = StandardScaler()\n",
    "# nu_pz_std = SCALAR.fit_transform(\n",
    "#     [[x] for x in dinu_kin[\"nu_pz\"]]\n",
    "# ).flatten()  # zero mean and unit variance\n",
    "# plt.hist(nu_pz_std, bins=50)\n",
    "# plt.title(\"Before sampling nu_pz_std\")\n",
    "# # plt.show()\n",
    "# plt.close()\n",
    "# print(nu_pz_std.max(), nu_pz_std.min())\n",
    "# print(\"std:\", nu_pz_std.std())\n",
    "# print(\"Tot evt:\", len(nu_pz_std))"
   ]
  },
  {
   "cell_type": "code",
   "execution_count": 35,
   "metadata": {},
   "outputs": [],
   "source": [
    "# # Undersampling to an uniform distribution\n",
    "\n",
    "# n = int(10)\n",
    "# step = (nu_pz_std.max() - nu_pz_std.min()) / n\n",
    "# intervals = [nu_pz_std.min() + i * step for i in range(n)]\n",
    "\n",
    "# sampling = int(10)\n",
    "# indices_arr = np.empty((n - 1, sampling), dtype=int)\n",
    "# for i in range(n - 1):\n",
    "# \tindices_arr[i] = np.random.choice(\n",
    "# \t\tnp.where((intervals[i] < nu_pz_std) * (nu_pz_std <= intervals[i + 1]))[0],\n",
    "# \t\tsize=sampling,\n",
    "# \t\treplace=True,\n",
    "# \t)"
   ]
  },
  {
   "cell_type": "code",
   "execution_count": 36,
   "metadata": {},
   "outputs": [],
   "source": [
    "# plt.hist(CGLMP[\"Bxy\"], bins=50)\n",
    "# plt.title(\"Original Bxy\")\n",
    "# print(CGLMP[\"Bxy\"].max(), CGLMP[\"Bxy\"].min())\n",
    "# print(\"std:\", CGLMP[\"Bxy\"].std())\n",
    "# print(\"mean:\", CGLMP[\"Bxy\"].mean())\n",
    "# print(\"Tot evt:\", len(CGLMP[\"Bxy\"]))\n",
    "# # plt.show()\n",
    "# plt.close()\n",
    "\n",
    "# from sklearn.preprocessing import StandardScaler\n",
    "\n",
    "# SCALAR = StandardScaler()\n",
    "# Bxy_std = SCALAR.fit_transform(\n",
    "#     [[x] for x in CGLMP[\"Bxy\"]]\n",
    "# ).flatten()  # zero mean and unit variance\n",
    "# plt.hist(Bxy_std, bins=50)\n",
    "# plt.title(\"Before sampling Bxy_std\")\n",
    "# # plt.show()\n",
    "# plt.close()\n",
    "# print(Bxy_std.max(), Bxy_std.min())\n",
    "# print(\"std:\", Bxy_std.std())\n",
    "# print(\"Tot evt:\", len(Bxy_std))"
   ]
  },
  {
   "cell_type": "code",
   "execution_count": 37,
   "metadata": {},
   "outputs": [],
   "source": [
    "# # Undersampling to an uniform distribution\n",
    "\n",
    "# n = int(50)\n",
    "# step = (Bxy_std.max() - Bxy_std.min()) / n\n",
    "# intervals = [Bxy_std.min() + i * step for i in range(n)]\n",
    "\n",
    "# sampling = int(50)\n",
    "# indices_arr = np.empty((n - 1, sampling), dtype=int)\n",
    "# for i in range(n - 1):\n",
    "#     try:\n",
    "#         indices_arr[i] = np.random.choice(\n",
    "#             np.where((intervals[i] < Bxy_std) * (Bxy_std <= intervals[i + 1]))[0],\n",
    "#             size=sampling,\n",
    "#             replace=False,\n",
    "#         )\n",
    "#     except ValueError:\n",
    "#         print(\"Cannot take a larger sample than population when 'replace=False'\")\n",
    "#         break"
   ]
  },
  {
   "cell_type": "code",
   "execution_count": 160,
   "metadata": {},
   "outputs": [
    {
     "name": "stdout",
     "output_type": "stream",
     "text": [
      "X (Interest)\n",
      "Training data shape: (960,)\n",
      "Testing data shape: (120,)\n",
      "Validation data shape: (120,)\n",
      "\n",
      "Y (Observed)\n",
      "Training data shape: (800,)\n",
      "Testing data shape: (100,)\n",
      "Validation data shape: (100,)\n"
     ]
    },
    {
     "data": {
      "text/plain": [
       "0"
      ]
     },
     "execution_count": 160,
     "metadata": {},
     "output_type": "execute_result"
    }
   ],
   "source": [
    "from sklearn.model_selection import train_test_split\n",
    "\n",
    "indices_arr = np.arange(1e2, dtype=int)\n",
    "\n",
    "lepton_features = [\n",
    "    \"lep_p_E\",\n",
    "    \"lep_p_px\",\n",
    "    \"lep_p_py\",\n",
    "    \"lep_p_pz\",\n",
    "    \"lep_m_E\",\n",
    "    \"lep_m_px\",\n",
    "    \"lep_m_py\",\n",
    "    \"lep_m_pz\",\n",
    "]\n",
    "neutrino_features = [\n",
    "    \"di_nu_E\", \n",
    "    \"di_nu_px\", \n",
    "    \"di_nu_py\", \n",
    "    \"di_nu_pz\",\n",
    "]\n",
    "\n",
    "def reshape_features_lep(inputs, features):\n",
    "    outputs = np.stack([inputs[features[0:4]], inputs[features[4:8]]], axis=1)\n",
    "    return outputs\n",
    "\n",
    "\n",
    "def reshape_features_dinu(inputs, features):\n",
    "    outputs = np.expand_dims(inputs[features[0::]].to_numpy(), axis=1)\n",
    "    return outputs\n",
    "\n",
    "\n",
    "train_indices, temp_indices = train_test_split(\n",
    "    indices_arr.flatten(), train_size=0.8, test_size=0.2, random_state=42\n",
    ")\n",
    "valid_indices, test_indices = train_test_split(\n",
    "    temp_indices, train_size=0.5, test_size=0.5, random_state=42\n",
    ")\n",
    "\n",
    "lep_train = reshape_features_lep(lep_kin.iloc[train_indices], lepton_features)\n",
    "lep_valid = reshape_features_lep(lep_kin.iloc[valid_indices], lepton_features)\n",
    "lep_test = reshape_features_lep(lep_kin.iloc[test_indices], lepton_features)\n",
    "\n",
    "# interest (X)\n",
    "dinu_train = np.expand_dims(dinu_kin.to_numpy()[train_indices], axis=1)\n",
    "dinu_valid = np.expand_dims(dinu_kin.to_numpy()[valid_indices], axis=1)\n",
    "dinu_test = np.expand_dims(dinu_kin.to_numpy()[test_indices], axis=1)\n",
    "\n",
    "# observed (Y)\n",
    "nu_train = np.expand_dims(nu_kin.to_numpy()[train_indices][:,1:3], axis=1)\n",
    "nu_valid = np.expand_dims(nu_kin.to_numpy()[valid_indices][:,1:3], axis=1)\n",
    "nu_test = np.expand_dims(nu_kin.to_numpy()[test_indices][:,1:3], axis=1)\n",
    "\n",
    "def stack_parts(input1, input2):\n",
    "    outputs = np.concatenate([input1.flatten(), input2.flatten()], axis=0)\n",
    "    return outputs\n",
    "\n",
    "# print(f\"Training data shape: {lep_train.shape}\\nTesting data shape: {lep_test.shape}\\nValidation data shape: {lep_valid.shape}\")\n",
    "train_x = stack_parts(lep_train, dinu_train)\n",
    "valid_x = stack_parts(lep_valid, dinu_valid)\n",
    "test_x = stack_parts(lep_test, dinu_test)\n",
    "train_y = stack_parts(lep_train, nu_train)\n",
    "valid_y = stack_parts(lep_valid, nu_valid)\n",
    "test_y = stack_parts(lep_test, nu_test)\n",
    "\n",
    "print(\n",
    "\tf\"X (Interest)\\nTraining data shape: {train_x.shape}\\nTesting data shape: {test_x.shape}\\nValidation data shape: {valid_x.shape}\"\n",
    ")\n",
    "print()\n",
    "print(\n",
    "\tf\"Y (Observed)\\nTraining data shape: {train_y.shape}\\nTesting data shape: {test_y.shape}\\nValidation data shape: {valid_y.shape}\"\n",
    ")\n",
    "\n",
    "del (\n",
    "    train_indices,\n",
    "    temp_indices,\n",
    "    valid_indices,\n",
    "    test_indices,\n",
    "    lep_train,\n",
    "    lep_valid,\n",
    "    lep_test,\n",
    "    nu_train,\n",
    "    nu_valid,\n",
    "    nu_test,\n",
    ")\n",
    "gc.collect()"
   ]
  },
  {
   "cell_type": "code",
   "execution_count": 169,
   "metadata": {},
   "outputs": [
    {
     "name": "stdout",
     "output_type": "stream",
     "text": [
      "X (80, 12)\n",
      "pad_dim 0\n",
      "pad_x (80, 0)\n",
      "x (80, 12)\n",
      "y (80, 12)\n",
      "z (80, 2)\n"
     ]
    }
   ],
   "source": [
    "# TODO\n",
    "# interest (momentum)\n",
    "x_dim = 2*4 + 4\n",
    "# observed (MET)\n",
    "y_dim = 2*4 + 2\n",
    "z_dim =  x_dim - y_dim\n",
    "\n",
    "tot_dim = y_dim + z_dim\n",
    "pad_dim = tot_dim - x_dim\n",
    "\n",
    "# Preprocess\n",
    "y_hat = np.zeros((train_y.reshape(-1, y_dim).shape[0], y_dim))\n",
    "for i in range(train_y.reshape(-1, y_dim).shape[0]):\n",
    "\tarr = train_y.reshape(-1, y_dim)[i]\n",
    "\ty_hat[i] = np.pad(arr, (0, y_dim-arr.shape[0]), mode=\"constant\", constant_values=0)\n",
    "\n",
    "## Pad data\n",
    "X = train_x.reshape((-1, x_dim))\n",
    "print(\"X\", X.shape)\n",
    "print(\"pad_dim\", pad_dim)\n",
    "pad_x = np.zeros((X.shape[0], pad_dim))\n",
    "print(\"pad_x\", pad_x.shape)\n",
    "x = np.concatenate([X, pad_x], axis=-1).astype(\"float32\")\n",
    "print(\"x\", x.shape)\n",
    "z = np.random.multivariate_normal([0.]*z_dim, np.eye(z_dim), X.shape[0]).astype(\"float32\")\n",
    "y = np.concatenate([z, y_hat], axis=-1).astype(\"float32\")\n",
    "print(\"y\", y.shape)\n",
    "print(\"z\", z.shape)\n",
    "\n",
    "n_sample = X.shape[0]\n",
    "n_data = n_sample * train_y.flatten().shape[0]\n",
    "n_couple_layer = 3\n",
    "n_hid_layer = 3\n",
    "n_hid_dim = 512\n",
    "\n",
    "n_batch = 50\n",
    "n_epoch = 10\n",
    "n_display = 1\n",
    "\n",
    "# Make dataset generator\n",
    "x_data = tf.data.Dataset.from_tensor_slices(x)\n",
    "y_data = tf.data.Dataset.from_tensor_slices(y)\n",
    "dataset = (tf.data.Dataset.zip((x_data, y_data))\n",
    "           .shuffle(buffer_size=X.shape[0])\n",
    "           .batch(n_batch, drop_remainder=True)\n",
    "           .repeat())"
   ]
  },
  {
   "cell_type": "markdown",
   "metadata": {},
   "source": [
    "## Initialize the model"
   ]
  },
  {
   "cell_type": "code",
   "execution_count": 170,
   "metadata": {
    "colab": {
     "base_uri": "https://localhost:8080/"
    },
    "id": "pEAw90SZng-B",
    "outputId": "107f120e-4905-4093-bca8-bffe778b7068"
   },
   "outputs": [
    {
     "name": "stdout",
     "output_type": "stream",
     "text": [
      "Model: \"NVP\"\n",
      "_________________________________________________________________\n",
      " Layer (type)                Output Shape              Param #   \n",
      "=================================================================\n",
      " Layer0 (TwoNVPCouplingLaye  multiple                  1070116   \n",
      " rs)                                                             \n",
      "                                                                 \n",
      " Layer1 (TwoNVPCouplingLaye  multiple                  1070116   \n",
      " rs)                                                             \n",
      "                                                                 \n",
      " Layer2 (TwoNVPCouplingLaye  multiple                  1070116   \n",
      " rs)                                                             \n",
      "                                                                 \n",
      "=================================================================\n",
      "Total params: 3210348 (12.25 MB)\n",
      "Trainable params: 3210312 (12.25 MB)\n",
      "Non-trainable params: 36 (288.00 Byte)\n",
      "_________________________________________________________________\n"
     ]
    }
   ],
   "source": [
    "model = NVP(tot_dim, n_couple_layer, n_hid_layer, n_hid_dim, name=\"NVP\")\n",
    "x = tfk.Input((tot_dim,))\n",
    "model(x)\n",
    "model.summary()"
   ]
  },
  {
   "cell_type": "code",
   "execution_count": 171,
   "metadata": {
    "id": "FKI6S4FIza5w"
   },
   "outputs": [],
   "source": [
    "class Trainer(tfk.Model):\n",
    "    def __init__(self, model, x_dim, y_dim, z_dim, tot_dim, \n",
    "                 n_couple_layer, n_hid_layer, n_hid_dim, shuffle_type=\"reverse\"):\n",
    "        super(Trainer, self).__init__()\n",
    "        self.model = model\n",
    "        self.x_dim = x_dim\n",
    "        self.y_dim = y_dim\n",
    "        self.z_dim = z_dim\n",
    "        self.tot_dim = tot_dim\n",
    "        self.x_pad_dim = tot_dim - x_dim\n",
    "        self.y_pad_dim = tot_dim - (y_dim + z_dim)\n",
    "        self.n_couple_layer = n_couple_layer\n",
    "        self.n_hid_layer = n_hid_layer\n",
    "        self.n_hid_dim = n_hid_dim\n",
    "        self.shuffle_type = shuffle_type\n",
    "\n",
    "        self.w1 = 5.\n",
    "        self.w2 = 1.\n",
    "        self.w3 = 10.\n",
    "        self.loss_factor = 1.\n",
    "        self.loss_fit = MSE\n",
    "        self.loss_latent = MMD_multiscale\n",
    "        self.loss_backward = MMD_multiscale\n",
    "\n",
    "    def train_step(self, data): \n",
    "        x_data, y_data = data\n",
    "        x = x_data[:, :self.x_dim]\n",
    "        y = y_data[:, -self.y_dim:]\n",
    "        z = y_data[:, :self.z_dim]\n",
    "        # print(\"x\", x.shape)\n",
    "        # print(\"y\", y.shape)\n",
    "        # print(\"z\", z.shape)\n",
    "        # print(\"x_data\", x_data.shape)\n",
    "        y_short = tf.concat([z, y], axis=-1)\n",
    "        # print(\"y_short\", y_short.shape)\n",
    "\n",
    "        # Forward loss\n",
    "        with tf.GradientTape() as tape:\n",
    "            y_out = self.model(x_data)    \n",
    "            pred_loss = self.w1 * self.loss_fit(y_data[:,self.z_dim:], y_out[:,self.z_dim:]) # [zeros, y] <=> [zeros, yhat]\n",
    "            # print(y_out)\n",
    "            # print(\"!!!!!!!\")\n",
    "            # print(\"z_dim\", z_dim)\n",
    "            # print(\"y_dim\", y_dim)\n",
    "            # print(y_out[:, :self.z_dim])\n",
    "            # print(y_out[:, -self.y_dim:])\n",
    "            output_block_grad = tf.concat([y_out[:, :self.z_dim], y_out[:, -self.y_dim:]], axis=-1) # take out [z, y] only (not zeros)\n",
    "            # print(\"y_out\", y_short)\n",
    "            # print(\"output\", output_block_grad)\n",
    "            latent_loss = self.w2 * self.loss_latent(y_short, output_block_grad) # [z, y] <=> [zhat, yhat]\n",
    "            forward_loss = pred_loss + latent_loss\n",
    "            # print(latent_loss)\n",
    "            # print(forward_loss)\n",
    "        grads_forward = tape.gradient(forward_loss, self.model.trainable_weights)\n",
    "        self.optimizer.apply_gradients(zip(grads_forward, self.model.trainable_weights))\n",
    "\n",
    "        # Backward loss\n",
    "        with tf.GradientTape() as tape:\n",
    "            x_rev = self.model.inverse(y_data)\n",
    "            #rev_loss = self.w3 * self.loss_factor * self.loss_fit(x_rev, x_data)\n",
    "            rev_loss = self.w3 * self.loss_factor * self.loss_backward(x_rev, x_data)\n",
    "        grads_backward = tape.gradient(rev_loss, self.model.trainable_weights)\n",
    "        self.optimizer.apply_gradients(zip(grads_backward, self.model.trainable_weights)) \n",
    "\n",
    "        total_loss = forward_loss + latent_loss + rev_loss\n",
    "        return {\"total_loss\": total_loss,\n",
    "                \"forward_loss\": forward_loss,\n",
    "                \"latent_loss\": latent_loss,\n",
    "                \"rev_loss\": rev_loss}\n",
    "\n",
    "    def test_step(self, data):\n",
    "        x_data, y_data = data\n",
    "        return NotImplementedError"
   ]
  },
  {
   "cell_type": "code",
   "execution_count": 172,
   "metadata": {
    "id": "nUkERU5_zbi4"
   },
   "outputs": [],
   "source": [
    "trainer = Trainer(model, x_dim, y_dim, z_dim, tot_dim, n_couple_layer, n_hid_layer, n_hid_dim)\n",
    "trainer.compile(optimizer=\"Adam\")"
   ]
  },
  {
   "cell_type": "markdown",
   "metadata": {},
   "source": [
    "## Train the model"
   ]
  },
  {
   "cell_type": "code",
   "execution_count": 173,
   "metadata": {
    "colab": {
     "base_uri": "https://localhost:8080/"
    },
    "id": "1K5KckgzzbnJ",
    "outputId": "0abf86fe-cb7b-4d31-b63d-fece392dd25b"
   },
   "outputs": [
    {
     "name": "stdout",
     "output_type": "stream",
     "text": [
      "=== Started at 2023-10-26 11h:46m:07s ===\n",
      " 2023-10-26 11h:46m:44s | Epoch: 01/10 | total_loss=156.061478 forward_loss=154.741333 latent_loss=0.120005 rev_loss=1.200136\n",
      " 2023-10-26 11h:47m:12s | Epoch: 02/10 | total_loss=236.889587 forward_loss=235.569443 latent_loss=0.119999 rev_loss=1.200145\n",
      " 2023-10-26 11h:47m:41s | Epoch: 03/10 | total_loss=20.567030 forward_loss=19.246876 latent_loss=0.119996 rev_loss=1.200159\n",
      " 2023-10-26 11h:48m:10s | Epoch: 04/10 | total_loss=4.338156 forward_loss=3.018025 latent_loss=0.120000 rev_loss=1.200132\n",
      " 2023-10-26 11h:48m:38s | Epoch: 05/10 | total_loss=5.492261 forward_loss=4.172139 latent_loss=0.119994 rev_loss=1.200128\n",
      " 2023-10-26 11h:49m:07s | Epoch: 06/10 | total_loss=6380.118164 forward_loss=6378.797852 latent_loss=0.120002 rev_loss=1.200144\n",
      " 2023-10-26 11h:49m:37s | Epoch: 07/10 | total_loss=14.293342 forward_loss=12.973236 latent_loss=0.119984 rev_loss=1.200122\n",
      " 2023-10-26 11h:50m:05s | Epoch: 08/10 | total_loss=2.990214 forward_loss=1.670099 latent_loss=0.119984 rev_loss=1.200131\n",
      " 2023-10-26 11h:50m:34s | Epoch: 09/10 | total_loss=3.542798 forward_loss=2.222683 latent_loss=0.119984 rev_loss=1.200131\n",
      " 2023-10-26 11h:51m:03s | Epoch: 10/10 | total_loss=1.536083 forward_loss=0.216033 latent_loss=0.119917 rev_loss=1.200132\n",
      "=== Time elapsed: 4.9349 min ===\n"
     ]
    }
   ],
   "source": [
    "LossFactor = UpdateLossFactor(n_epoch)\n",
    "logger = NBatchLogger(n_display, n_epoch)\n",
    "hist = trainer.fit(dataset,\n",
    "                   batch_size=n_batch,\n",
    "                   epochs=n_epoch,\n",
    "                   steps_per_epoch=n_data//n_batch,\n",
    "                   callbacks=[logger, LossFactor],\n",
    "                   verbose=0)"
   ]
  },
  {
   "cell_type": "markdown",
   "metadata": {},
   "source": [
    "## Check results"
   ]
  },
  {
   "cell_type": "code",
   "execution_count": 174,
   "metadata": {
    "colab": {
     "base_uri": "https://localhost:8080/",
     "height": 337
    },
    "id": "rcjLDVopnhLh",
    "outputId": "133a1844-40d7-4fc8-f211-04efa4148b0a"
   },
   "outputs": [
    {
     "data": {
      "text/plain": [
       "<matplotlib.legend.Legend at 0x7fd4f37702e0>"
      ]
     },
     "execution_count": 174,
     "metadata": {},
     "output_type": "execute_result"
    },
    {
     "data": {
      "image/png": "[encoded data removed]",
      "text/plain": [
       "<Figure size 800x500 with 1 Axes>"
      ]
     },
     "metadata": {},
     "output_type": "display_data"
    }
   ],
   "source": [
    "fig, ax = plt.subplots(1, facecolor=\"white\", figsize=(8,5))\n",
    "ax.plot(hist.history[\"total_loss\"], \"k.-\", label=\"total_loss\")\n",
    "ax.plot(hist.history[\"forward_loss\"], \"b.-\", label=\"forward_loss\")\n",
    "ax.plot(hist.history[\"latent_loss\"], \"g.-\", label=\"latent_loss\")\n",
    "ax.plot(hist.history[\"rev_loss\"], \"r.-\", label=\"inverse_loss\")\n",
    "plt.legend()"
   ]
  },
  {
   "cell_type": "code",
   "execution_count": 196,
   "metadata": {
    "colab": {
     "base_uri": "https://localhost:8080/",
     "height": 356
    },
    "id": "uII2sXbwnhPL",
    "outputId": "00062611-b08c-4182-f06e-203cdbe45c27"
   },
   "outputs": [],
   "source": [
    "# Preprocess\n",
    "y_hat = np.zeros((test_y.reshape(-1, y_dim).shape[0], y_dim))\n",
    "for i in range(test_y.reshape(-1, y_dim).shape[0]):\n",
    "\tarr = test_y.reshape(-1, y_dim)[i]\n",
    "\ty_hat[i] = np.pad(arr, (0, y_dim-arr.shape[0]), mode=\"constant\", constant_values=0)\n",
    "\n",
    "z = np.random.multivariate_normal([1.]*z_dim, np.eye(z_dim), y_hat.shape[0])\n",
    "y = np.concatenate([z, y_hat], axis=-1).astype(\"float32\")\n",
    "x_pred = model.inverse(y).numpy()\n",
    "pz_pred = x_pred[:, -1]\n",
    "E_pred = x_pred[:, -4]\n",
    "x_truth = test_x.reshape(-1, x_dim)\n",
    "pz_truth = x_truth[:, -1]\n",
    "E_truth = x_truth[:, -4]"
   ]
  },
  {
   "cell_type": "code",
   "execution_count": 203,
   "metadata": {},
   "outputs": [],
   "source": [
    "def plot_2d_histogram(pred, test, bins=50, title=\"TEST\"):\n",
    "    # Create the 2D histogram with specified bins\n",
    "    hist, xedges, yedges = np.histogram2d(pred.flatten(), test, bins=(bins, bins))\n",
    "\n",
    "    # Create a masked array to set empty regions to the specified color\n",
    "    hist = np.ma.masked_where(hist == 0, hist)\n",
    "\n",
    "    # Plot the 2D histogram with the specified color for empty regions\n",
    "    fig = plt.figure(figsize=(8, 6), dpi=120)\n",
    "    plt.pcolormesh(xedges, yedges, hist.T, cmap=\"viridis\")\n",
    "    cbar = plt.colorbar()\n",
    "    cbar.set_label(\"Frequency\")\n",
    "    # min_scl = np.min([np.min(pred), np.min(test)])\n",
    "    # max_scl = np.max([np.max(pred), np.max(test)])\n",
    "    # plt.xlim([min_scl, max_scl])\n",
    "    # plt.ylim([min_scl, max_scl])\n",
    "    plt.xlim([-50, 50])\n",
    "    plt.ylim([-50, 50])\n",
    "    plt.xlabel(\"pred\")\n",
    "    plt.ylabel(\"true\")\n",
    "    plt.title(title)\n",
    "    plt.show()\n",
    "    plt.close()"
   ]
  },
  {
   "cell_type": "code",
   "execution_count": 211,
   "metadata": {},
   "outputs": [
    {
     "data": {
      "image/png": "[encoded data removed]",
      "text/plain": [
       "<Figure size 640x480 with 1 Axes>"
      ]
     },
     "metadata": {},
     "output_type": "display_data"
    },
    {
     "data": {
      "image/png": "[encoded data removed]",
      "text/plain": [
       "<Figure size 640x480 with 1 Axes>"
      ]
     },
     "metadata": {},
     "output_type": "display_data"
    }
   ],
   "source": [
    "# plot_2d_histogram(pz_pred, pz_truth, r\"$p^{miss}_{z}$\")\n",
    "plt.plot(pz_truth, pz_pred, \".\", alpha=.3, color=\"purple\")\n",
    "plt.title(r\"$p^{miss}_{z}$\")\n",
    "plt.xlabel(\"truth\")\n",
    "plt.ylabel(\"pred\")\n",
    "plt.savefig(\"pz.png\")\n",
    "plt.show()\n",
    "plt.close()\n",
    "\n",
    "plt.plot(E_truth, E_pred, \".\", alpha=.3, color=\"purple\")\n",
    "plt.title(r\"$E^{miss}$\")\n",
    "plt.xlabel(\"truth\")\n",
    "plt.ylabel(\"pred\")\n",
    "plt.savefig(\"energy.png\")\n",
    "plt.show()\n",
    "plt.close()"
   ]
  }
 ],
 "metadata": {
  "accelerator": "GPU",
  "colab": {
   "collapsed_sections": [],
   "name": "TMP_inn_multigauss.ipynb",
   "provenance": []
  },
  "kernelspec": {
   "display_name": "Python 3",
   "language": "python",
   "name": "python3"
  },
  "language_info": {
   "codemirror_mode": {
    "name": "ipython",
    "version": 3
   },
   "file_extension": ".py",
   "mimetype": "text/x-python",
   "name": "python",
   "nbconvert_exporter": "python",
   "pygments_lexer": "ipython3",
   "version": "3.10.12"
  }
 },
 "nbformat": 4,
 "nbformat_minor": 4
}
