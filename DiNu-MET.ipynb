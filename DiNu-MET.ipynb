{
 "cells": [
  {
   "cell_type": "code",
   "execution_count": 47,
   "metadata": {},
   "outputs": [
    {
     "name": "stdout",
     "output_type": "stream",
     "text": [
      "2.13.0\n",
      "[PhysicalDevice(name='/physical_device:CPU:0', device_type='CPU'), PhysicalDevice(name='/physical_device:GPU:0', device_type='GPU'), PhysicalDevice(name='/physical_device:GPU:1', device_type='GPU')]\n"
     ]
    }
   ],
   "source": [
    "%reset -sf\n",
    "\n",
    "import matplotlib.pyplot as plt\n",
    "import numpy as np\n",
    "from flow import *\n",
    "from utils import *\n",
    "import get_data as gd\n",
    "import gc\n",
    "\n",
    "import tensorflow as tf\n",
    "\n",
    "print(tf.__version__)\n",
    "print(tf.config.list_physical_devices())"
   ]
  },
  {
   "cell_type": "markdown",
   "metadata": {},
   "source": [
    "Load data"
   ]
  },
  {
   "cell_type": "code",
   "execution_count": 48,
   "metadata": {},
   "outputs": [
    {
     "name": "stdout",
     "output_type": "stream",
     "text": [
      "['/root/work/truth/signal/CGLMP.npz', '/root/work/truth/signal/Higgs.npz', '/root/work/truth/signal/LeadLepton.npz', '/root/work/truth/signal/LeptonM.npz', '/root/work/truth/signal/LeptonP.npz', '/root/work/truth/signal/LmNu.npz', '/root/work/truth/signal/LpNu.npz', '/root/work/truth/signal/MET.npz', '/root/work/truth/signal/WmBoson.npz', '/root/work/truth/signal/WpBoson.npz', '/root/work/truth/signal/diLepton.npz', '/root/work/truth/signal/subLeadLepton.npz', '/root/work/truth/signal/xi_xyz.npz']\n",
      "MET_kin shape: (2928862, 2)\n",
      "     di_nu_px   di_nu_py\n",
      "0   21.531590  58.661363\n",
      "1  142.831582 -36.235636\n",
      "2   -4.344014 -53.593527\n",
      "3  -19.836591 -17.248187\n",
      "4  -21.864079 -26.724745\n",
      "dinu_kin shape: (2928862, 4)\n",
      "         nu_E       nu_px      nu_py       nu_pz\n",
      "0  122.129977   21.531590  58.661363   93.688699\n",
      "1  611.032109  142.831582 -36.235636  592.323953\n",
      "2   74.715202   -4.118662 -52.749777   44.663706\n",
      "3   41.097882  -19.836591 -17.248187   12.641004\n",
      "4  154.431047  -21.864079 -26.724745  149.285883\n"
     ]
    },
    {
     "data": {
      "text/plain": [
       "4099"
      ]
     },
     "execution_count": 48,
     "metadata": {},
     "output_type": "execute_result"
    }
   ],
   "source": [
    "processor = gd.DataProcessor()\n",
    "path = \"/root/work/truth/signal/*npz\"\n",
    "processor.load_files(path)\n",
    "\n",
    "CGLMP, Higgs, LeadLep, LepM, LepP, NuM, NuP, MET, Wm, Wp, diLep, SubLep, Xi = processor.files\n",
    "\n",
    "\n",
    "# observed (Y)\n",
    "MET_kin = processor.process_MET(MET).iloc[:, 1:3]\n",
    "print(\"MET_kin shape:\", MET_kin.shape)\n",
    "print(MET_kin.head(5), end=\"\\n\")\n",
    "\n",
    "# interest (X)\n",
    "dinu_kin = processor.process_dinu(NuP, NuM)\n",
    "print(\"dinu_kin shape:\", dinu_kin.shape)\n",
    "print(dinu_kin.head(5), end=\"\\n\")\n",
    "\n",
    "\n",
    "del processor  # Clear the instance\n",
    "del CGLMP, Higgs, LeadLep, LepM, LepP, NuM, NuP, MET, Wm, Wp, diLep, SubLep, Xi # Clear the dataframes\n",
    "gc.collect()"
   ]
  },
  {
   "cell_type": "markdown",
   "metadata": {},
   "source": [
    "Preprocessing"
   ]
  },
  {
   "cell_type": "code",
   "execution_count": 49,
   "metadata": {},
   "outputs": [],
   "source": [
    "# normalize\n",
    "from sklearn.preprocessing import StandardScaler\n",
    "SCALAR = StandardScaler()\n",
    "var = np.concatenate([dinu_kin, MET_kin], axis=-1)\n",
    "norm_var = SCALAR.fit_transform(var)\n",
    "dinu_kin, MET_kin = norm_var[:, 0:4], norm_var[:, 4:6]"
   ]
  },
  {
   "cell_type": "code",
   "execution_count": 50,
   "metadata": {},
   "outputs": [
    {
     "name": "stdout",
     "output_type": "stream",
     "text": [
      "X (Interest)\n",
      "Training data shape: (8000, 4);\n",
      "Testing data shape: (2000, 4).\n",
      "\n",
      "Y (Observed)\n",
      "Training data shape: (8000, 2);\n",
      "Testing data shape: (2000, 2).\n"
     ]
    }
   ],
   "source": [
    "from sklearn.model_selection import train_test_split\n",
    "\n",
    "indices_arr = np.arange(dinu_kin.shape[0], dtype='int')\n",
    "indices_arr = np.random.choice(indices_arr, int(1e4))\n",
    "train_indices, test_indices = train_test_split(\n",
    "    indices_arr.flatten(), train_size=0.8, test_size=0.2, random_state=42\n",
    ")\n",
    "\n",
    "train_x = dinu_kin[train_indices]\n",
    "test_x = dinu_kin[test_indices]\n",
    "train_y = MET_kin[train_indices]\n",
    "test_y = MET_kin[test_indices]\n",
    "\n",
    "print(\n",
    "    f\"X (Interest)\\nTraining data shape: {train_x.shape};\\nTesting data shape: {test_x.shape}.\"\n",
    ")\n",
    "print()\n",
    "print(\n",
    "    f\"Y (Observed)\\nTraining data shape: {train_y.shape};\\nTesting data shape: {test_y.shape}.\"\n",
    ")"
   ]
  },
  {
   "cell_type": "markdown",
   "metadata": {},
   "source": [
    "Setup"
   ]
  },
  {
   "cell_type": "code",
   "execution_count": 51,
   "metadata": {},
   "outputs": [
    {
     "name": "stdout",
     "output_type": "stream",
     "text": [
      "x (8000, 6)\n",
      "y (8000, 2)\n",
      "z (8000, 4)\n",
      "Input dataset shape: (8000, 6), (8000, 6)\n"
     ]
    }
   ],
   "source": [
    "# interest (momentum)\n",
    "# x_dim = 2*4 + 4\n",
    "x_dim = 4\n",
    "# observed (MET)\n",
    "# y_dim = 2*4 + 2\n",
    "y_dim = 2\n",
    "z_dim =  4\n",
    "\n",
    "tot_dim = y_dim + z_dim\n",
    "pad_dim = tot_dim - x_dim\n",
    "\n",
    "# Preprocess\n",
    "## Pad data\n",
    "X = train_x.reshape((-1, x_dim))\n",
    "# print(\"pad_dim\", pad_dim)\n",
    "pad_x = np.zeros((X.shape[0], pad_dim))\n",
    "# print(\"pad_x\", pad_x.shape)\n",
    "x = np.concatenate([X, pad_x], axis=-1).astype(\"float32\")\n",
    "print(\"x\", x.shape)\n",
    "z = np.random.multivariate_normal([0.]*z_dim, np.eye(z_dim), X.shape[0]).astype(\"float32\")\n",
    "y_hat = train_y.reshape(-1, y_dim)\n",
    "print(\"y\", y_hat.shape)\n",
    "print(\"z\", z.shape)\n",
    "y = np.concatenate([z, y_hat], axis=-1).astype(\"float32\")\n",
    "\n",
    "print(f\"Input dataset shape: {x.shape}, {y.shape}\")\n",
    "n_sample = X.shape[0]\n",
    "n_data = n_sample * train_y.flatten().shape[0]\n",
    "n_couple_layer = 3\n",
    "n_hid_layer = 3\n",
    "n_hid_dim = 128\n",
    "\n",
    "n_batch = 1024\n",
    "n_epoch = 64\n",
    "n_display = n_batch\n",
    "\n",
    "# Make dataset generator\n",
    "x_data = tf.data.Dataset.from_tensor_slices(x)\n",
    "y_data = tf.data.Dataset.from_tensor_slices(y)\n",
    "dataset = (tf.data.Dataset.zip((x_data, y_data))\n",
    "           .shuffle(buffer_size=X.shape[0])\n",
    "           .batch(n_batch, drop_remainder=True)\n",
    "           .repeat())"
   ]
  },
  {
   "cell_type": "markdown",
   "metadata": {},
   "source": [
    "Initialize the model"
   ]
  },
  {
   "cell_type": "code",
   "execution_count": 52,
   "metadata": {
    "colab": {
     "base_uri": "https://localhost:8080/"
    },
    "id": "pEAw90SZng-B",
    "outputId": "107f120e-4905-4093-bca8-bffe778b7068"
   },
   "outputs": [
    {
     "name": "stdout",
     "output_type": "stream",
     "text": [
      "Model: \"NVP\"\n",
      "_________________________________________________________________\n",
      " Layer (type)                Output Shape              Param #   \n",
      "=================================================================\n",
      " Layer0 (TwoNVPCouplingLaye  multiple                  134674    \n",
      " rs)                                                             \n",
      "                                                                 \n",
      " Layer1 (TwoNVPCouplingLaye  multiple                  134674    \n",
      " rs)                                                             \n",
      "                                                                 \n",
      " Layer2 (TwoNVPCouplingLaye  multiple                  134674    \n",
      " rs)                                                             \n",
      "                                                                 \n",
      " Layer3 (TwoNVPCouplingLaye  multiple                  134674    \n",
      " rs)                                                             \n",
      "                                                                 \n",
      " Layer4 (TwoNVPCouplingLaye  multiple                  134674    \n",
      " rs)                                                             \n",
      "                                                                 \n",
      "=================================================================\n",
      "Total params: 673370 (2.57 MB)\n",
      "Trainable params: 673340 (2.57 MB)\n",
      "Non-trainable params: 30 (240.00 Byte)\n",
      "_________________________________________________________________\n"
     ]
    }
   ],
   "source": [
    "model = NVP(tot_dim, n_couple_layer, n_hid_layer, n_hid_dim, name=\"NVP\")\n",
    "x = tfk.Input((tot_dim,))\n",
    "model(x)\n",
    "model.summary()"
   ]
  },
  {
   "cell_type": "code",
   "execution_count": 53,
   "metadata": {
    "id": "FKI6S4FIza5w"
   },
   "outputs": [],
   "source": [
    "class Trainer(tfk.Model):\n",
    "    def __init__(self, model, x_dim, y_dim, z_dim, tot_dim, \n",
    "                 n_couple_layer, n_hid_layer, n_hid_dim, shuffle_type=\"reverse\"):\n",
    "        super(Trainer, self).__init__()\n",
    "        self.model = model\n",
    "        self.x_dim = x_dim\n",
    "        self.y_dim = y_dim\n",
    "        self.z_dim = z_dim\n",
    "        self.tot_dim = tot_dim\n",
    "        self.x_pad_dim = tot_dim - x_dim\n",
    "        self.y_pad_dim = tot_dim - (y_dim + z_dim)\n",
    "        self.n_couple_layer = n_couple_layer\n",
    "        self.n_hid_layer = n_hid_layer\n",
    "        self.n_hid_dim = n_hid_dim\n",
    "        self.shuffle_type = shuffle_type\n",
    "\n",
    "        self.w1 = 5.\n",
    "        self.w2 = 1.\n",
    "        self.w3 = 10.\n",
    "        self.loss_factor = 1.\n",
    "        self.loss_fit = MSE\n",
    "        self.loss_latent = MMD_multiscale\n",
    "        self.loss_backward = MMD_multiscale\n",
    "\n",
    "    def train_step(self, data): \n",
    "        x_data, y_data = data\n",
    "        x = x_data[:, :self.x_dim]\n",
    "        y = y_data[:, -self.y_dim:]\n",
    "        z = y_data[:, :self.z_dim]\n",
    "        # print(\"x\", x.shape)\n",
    "        # print(\"y\", y.shape)\n",
    "        # print(\"z\", z.shape)\n",
    "        # print(\"x_data\", x_data.shape)\n",
    "        y_short = tf.concat([z, y], axis=-1)\n",
    "        # print(\"y_short\", y_short.shape)\n",
    "\n",
    "        # Forward loss\n",
    "        with tf.GradientTape() as tape:\n",
    "            y_out = self.model(x_data)    \n",
    "            pred_loss = self.w1 * self.loss_fit(y_data[:,self.z_dim:], y_out[:,self.z_dim:]) # [zeros, y] <=> [zeros, yhat]\n",
    "            # print(y_out)\n",
    "            # print(\"!!!!!!!\")\n",
    "            # print(\"z_dim\", z_dim)\n",
    "            # print(\"y_dim\", y_dim)\n",
    "            # print(y_out[:, :self.z_dim])\n",
    "            # print(y_out[:, -self.y_dim:])\n",
    "            output_block_grad = tf.concat([y_out[:, :self.z_dim], y_out[:, -self.y_dim:]], axis=-1) # take out [z, y] only (not zeros)\n",
    "            # print(\"y_out\", y_short)\n",
    "            # print(\"output\", output_block_grad)\n",
    "            latent_loss = self.w2 * self.loss_latent(y_short, output_block_grad) # [z, y] <=> [zhat, yhat]\n",
    "            forward_loss = pred_loss + latent_loss\n",
    "            # print(latent_loss)\n",
    "            # print(forward_loss)\n",
    "        grads_forward = tape.gradient(forward_loss, self.model.trainable_weights)\n",
    "        self.optimizer.apply_gradients(zip(grads_forward, self.model.trainable_weights))\n",
    "\n",
    "        # Backward loss\n",
    "        with tf.GradientTape() as tape:\n",
    "            x_rev = self.model.inverse(y_data)\n",
    "            #rev_loss = self.w3 * self.loss_factor * self.loss_fit(x_rev, x_data)\n",
    "            rev_loss = self.w3 * self.loss_factor * self.loss_backward(x_rev, x_data)\n",
    "        grads_backward = tape.gradient(rev_loss, self.model.trainable_weights)\n",
    "        self.optimizer.apply_gradients(zip(grads_backward, self.model.trainable_weights)) \n",
    "\n",
    "        total_loss = forward_loss + latent_loss + rev_loss\n",
    "        return {\"total_loss\": total_loss,\n",
    "                \"forward_loss\": forward_loss,\n",
    "                \"latent_loss\": latent_loss,\n",
    "                \"rev_loss\": rev_loss}\n",
    "\n",
    "    def test_step(self, data):\n",
    "        x_data, y_data = data\n",
    "        return NotImplementedError"
   ]
  },
  {
   "cell_type": "code",
   "execution_count": 54,
   "metadata": {
    "id": "nUkERU5_zbi4"
   },
   "outputs": [],
   "source": [
    "trainer = Trainer(model, x_dim, y_dim, z_dim, tot_dim, n_couple_layer, n_hid_layer, n_hid_dim)\n",
    "trainer.compile(optimizer=\"Adam\")"
   ]
  },
  {
   "cell_type": "markdown",
   "metadata": {},
   "source": [
    "Training"
   ]
  },
  {
   "cell_type": "code",
   "execution_count": 55,
   "metadata": {
    "colab": {
     "base_uri": "https://localhost:8080/"
    },
    "id": "1K5KckgzzbnJ",
    "outputId": "0abf86fe-cb7b-4d31-b63d-fece392dd25b"
   },
   "outputs": [
    {
     "name": "stdout",
     "output_type": "stream",
     "text": [
      "=== Started at 2023-11-09 06h:40m:09s ===\n",
      "Epoch 1/32\n"
     ]
    },
    {
     "name": "stdout",
     "output_type": "stream",
     "text": [
      "  3357/250000 [..............................] - ETA: 2:52:49 - total_loss: 0.4661 - forward_loss: 0.2998 - latent_loss: 0.0238 - rev_loss: 0.1425"
     ]
    },
    {
     "ename": "KeyboardInterrupt",
     "evalue": "",
     "output_type": "error",
     "traceback": [
      "\u001b[0;31m---------------------------------------------------------------------------\u001b[0m",
      "\u001b[0;31mKeyboardInterrupt\u001b[0m                         Traceback (most recent call last)",
      "\u001b[1;32m/root/work/INN_test/Bell-INNs/DiNu-MET.ipynb Cell 14\u001b[0m line \u001b[0;36m3\n\u001b[1;32m      <a href='vscode-notebook-cell://attached-container%2B7b22636f6e7461696e65724e616d65223a222f7970656e675f6d6c222c2273657474696e6773223a7b22686f7374223a227373683a2f2f4d74475055227d7d/root/work/INN_test/Bell-INNs/DiNu-MET.ipynb#X16sdnNjb2RlLXJlbW90ZQ%3D%3D?line=0'>1</a>\u001b[0m LossFactor \u001b[39m=\u001b[39m UpdateLossFactor(n_epoch)\n\u001b[1;32m      <a href='vscode-notebook-cell://attached-container%2B7b22636f6e7461696e65724e616d65223a222f7970656e675f6d6c222c2273657474696e6773223a7b22686f7374223a227373683a2f2f4d74475055227d7d/root/work/INN_test/Bell-INNs/DiNu-MET.ipynb#X16sdnNjb2RlLXJlbW90ZQ%3D%3D?line=1'>2</a>\u001b[0m logger \u001b[39m=\u001b[39m NBatchLogger(n_display, n_epoch)\n\u001b[0;32m----> <a href='vscode-notebook-cell://attached-container%2B7b22636f6e7461696e65724e616d65223a222f7970656e675f6d6c222c2273657474696e6773223a7b22686f7374223a227373683a2f2f4d74475055227d7d/root/work/INN_test/Bell-INNs/DiNu-MET.ipynb#X16sdnNjb2RlLXJlbW90ZQ%3D%3D?line=2'>3</a>\u001b[0m hist \u001b[39m=\u001b[39m trainer\u001b[39m.\u001b[39;49mfit(dataset,\n\u001b[1;32m      <a href='vscode-notebook-cell://attached-container%2B7b22636f6e7461696e65724e616d65223a222f7970656e675f6d6c222c2273657474696e6773223a7b22686f7374223a227373683a2f2f4d74475055227d7d/root/work/INN_test/Bell-INNs/DiNu-MET.ipynb#X16sdnNjb2RlLXJlbW90ZQ%3D%3D?line=3'>4</a>\u001b[0m                    batch_size\u001b[39m=\u001b[39;49mn_batch,\n\u001b[1;32m      <a href='vscode-notebook-cell://attached-container%2B7b22636f6e7461696e65724e616d65223a222f7970656e675f6d6c222c2273657474696e6773223a7b22686f7374223a227373683a2f2f4d74475055227d7d/root/work/INN_test/Bell-INNs/DiNu-MET.ipynb#X16sdnNjb2RlLXJlbW90ZQ%3D%3D?line=4'>5</a>\u001b[0m                    epochs\u001b[39m=\u001b[39;49mn_epoch,\n\u001b[1;32m      <a href='vscode-notebook-cell://attached-container%2B7b22636f6e7461696e65724e616d65223a222f7970656e675f6d6c222c2273657474696e6773223a7b22686f7374223a227373683a2f2f4d74475055227d7d/root/work/INN_test/Bell-INNs/DiNu-MET.ipynb#X16sdnNjb2RlLXJlbW90ZQ%3D%3D?line=5'>6</a>\u001b[0m                    steps_per_epoch\u001b[39m=\u001b[39;49mn_data\u001b[39m/\u001b[39;49m\u001b[39m/\u001b[39;49mn_batch,\n\u001b[1;32m      <a href='vscode-notebook-cell://attached-container%2B7b22636f6e7461696e65724e616d65223a222f7970656e675f6d6c222c2273657474696e6773223a7b22686f7374223a227373683a2f2f4d74475055227d7d/root/work/INN_test/Bell-INNs/DiNu-MET.ipynb#X16sdnNjb2RlLXJlbW90ZQ%3D%3D?line=6'>7</a>\u001b[0m                    callbacks\u001b[39m=\u001b[39;49m[logger, LossFactor],\n\u001b[1;32m      <a href='vscode-notebook-cell://attached-container%2B7b22636f6e7461696e65724e616d65223a222f7970656e675f6d6c222c2273657474696e6773223a7b22686f7374223a227373683a2f2f4d74475055227d7d/root/work/INN_test/Bell-INNs/DiNu-MET.ipynb#X16sdnNjb2RlLXJlbW90ZQ%3D%3D?line=7'>8</a>\u001b[0m                    verbose\u001b[39m=\u001b[39;49m\u001b[39m1\u001b[39;49m)\n",
      "File \u001b[0;32m~/miniconda3/envs/tf/lib/python3.10/site-packages/keras/src/utils/traceback_utils.py:65\u001b[0m, in \u001b[0;36mfilter_traceback.<locals>.error_handler\u001b[0;34m(*args, **kwargs)\u001b[0m\n\u001b[1;32m     63\u001b[0m filtered_tb \u001b[39m=\u001b[39m \u001b[39mNone\u001b[39;00m\n\u001b[1;32m     64\u001b[0m \u001b[39mtry\u001b[39;00m:\n\u001b[0;32m---> 65\u001b[0m     \u001b[39mreturn\u001b[39;00m fn(\u001b[39m*\u001b[39;49margs, \u001b[39m*\u001b[39;49m\u001b[39m*\u001b[39;49mkwargs)\n\u001b[1;32m     66\u001b[0m \u001b[39mexcept\u001b[39;00m \u001b[39mException\u001b[39;00m \u001b[39mas\u001b[39;00m e:\n\u001b[1;32m     67\u001b[0m     filtered_tb \u001b[39m=\u001b[39m _process_traceback_frames(e\u001b[39m.\u001b[39m__traceback__)\n",
      "File \u001b[0;32m~/miniconda3/envs/tf/lib/python3.10/site-packages/keras/src/engine/training.py:1742\u001b[0m, in \u001b[0;36mModel.fit\u001b[0;34m(self, x, y, batch_size, epochs, verbose, callbacks, validation_split, validation_data, shuffle, class_weight, sample_weight, initial_epoch, steps_per_epoch, validation_steps, validation_batch_size, validation_freq, max_queue_size, workers, use_multiprocessing)\u001b[0m\n\u001b[1;32m   1734\u001b[0m \u001b[39mwith\u001b[39;00m tf\u001b[39m.\u001b[39mprofiler\u001b[39m.\u001b[39mexperimental\u001b[39m.\u001b[39mTrace(\n\u001b[1;32m   1735\u001b[0m     \u001b[39m\"\u001b[39m\u001b[39mtrain\u001b[39m\u001b[39m\"\u001b[39m,\n\u001b[1;32m   1736\u001b[0m     epoch_num\u001b[39m=\u001b[39mepoch,\n\u001b[0;32m   (...)\u001b[0m\n\u001b[1;32m   1739\u001b[0m     _r\u001b[39m=\u001b[39m\u001b[39m1\u001b[39m,\n\u001b[1;32m   1740\u001b[0m ):\n\u001b[1;32m   1741\u001b[0m     callbacks\u001b[39m.\u001b[39mon_train_batch_begin(step)\n\u001b[0;32m-> 1742\u001b[0m     tmp_logs \u001b[39m=\u001b[39m \u001b[39mself\u001b[39;49m\u001b[39m.\u001b[39;49mtrain_function(iterator)\n\u001b[1;32m   1743\u001b[0m     \u001b[39mif\u001b[39;00m data_handler\u001b[39m.\u001b[39mshould_sync:\n\u001b[1;32m   1744\u001b[0m         context\u001b[39m.\u001b[39masync_wait()\n",
      "File \u001b[0;32m~/miniconda3/envs/tf/lib/python3.10/site-packages/tensorflow/python/util/traceback_utils.py:150\u001b[0m, in \u001b[0;36mfilter_traceback.<locals>.error_handler\u001b[0;34m(*args, **kwargs)\u001b[0m\n\u001b[1;32m    148\u001b[0m filtered_tb \u001b[39m=\u001b[39m \u001b[39mNone\u001b[39;00m\n\u001b[1;32m    149\u001b[0m \u001b[39mtry\u001b[39;00m:\n\u001b[0;32m--> 150\u001b[0m   \u001b[39mreturn\u001b[39;00m fn(\u001b[39m*\u001b[39;49margs, \u001b[39m*\u001b[39;49m\u001b[39m*\u001b[39;49mkwargs)\n\u001b[1;32m    151\u001b[0m \u001b[39mexcept\u001b[39;00m \u001b[39mException\u001b[39;00m \u001b[39mas\u001b[39;00m e:\n\u001b[1;32m    152\u001b[0m   filtered_tb \u001b[39m=\u001b[39m _process_traceback_frames(e\u001b[39m.\u001b[39m__traceback__)\n",
      "File \u001b[0;32m~/miniconda3/envs/tf/lib/python3.10/site-packages/tensorflow/python/eager/polymorphic_function/polymorphic_function.py:825\u001b[0m, in \u001b[0;36mFunction.__call__\u001b[0;34m(self, *args, **kwds)\u001b[0m\n\u001b[1;32m    822\u001b[0m compiler \u001b[39m=\u001b[39m \u001b[39m\"\u001b[39m\u001b[39mxla\u001b[39m\u001b[39m\"\u001b[39m \u001b[39mif\u001b[39;00m \u001b[39mself\u001b[39m\u001b[39m.\u001b[39m_jit_compile \u001b[39melse\u001b[39;00m \u001b[39m\"\u001b[39m\u001b[39mnonXla\u001b[39m\u001b[39m\"\u001b[39m\n\u001b[1;32m    824\u001b[0m \u001b[39mwith\u001b[39;00m OptionalXlaContext(\u001b[39mself\u001b[39m\u001b[39m.\u001b[39m_jit_compile):\n\u001b[0;32m--> 825\u001b[0m   result \u001b[39m=\u001b[39m \u001b[39mself\u001b[39;49m\u001b[39m.\u001b[39;49m_call(\u001b[39m*\u001b[39;49margs, \u001b[39m*\u001b[39;49m\u001b[39m*\u001b[39;49mkwds)\n\u001b[1;32m    827\u001b[0m new_tracing_count \u001b[39m=\u001b[39m \u001b[39mself\u001b[39m\u001b[39m.\u001b[39mexperimental_get_tracing_count()\n\u001b[1;32m    828\u001b[0m without_tracing \u001b[39m=\u001b[39m (tracing_count \u001b[39m==\u001b[39m new_tracing_count)\n",
      "File \u001b[0;32m~/miniconda3/envs/tf/lib/python3.10/site-packages/tensorflow/python/eager/polymorphic_function/polymorphic_function.py:857\u001b[0m, in \u001b[0;36mFunction._call\u001b[0;34m(self, *args, **kwds)\u001b[0m\n\u001b[1;32m    854\u001b[0m   \u001b[39mself\u001b[39m\u001b[39m.\u001b[39m_lock\u001b[39m.\u001b[39mrelease()\n\u001b[1;32m    855\u001b[0m   \u001b[39m# In this case we have created variables on the first call, so we run the\u001b[39;00m\n\u001b[1;32m    856\u001b[0m   \u001b[39m# defunned version which is guaranteed to never create variables.\u001b[39;00m\n\u001b[0;32m--> 857\u001b[0m   \u001b[39mreturn\u001b[39;00m \u001b[39mself\u001b[39;49m\u001b[39m.\u001b[39;49m_no_variable_creation_fn(\u001b[39m*\u001b[39;49margs, \u001b[39m*\u001b[39;49m\u001b[39m*\u001b[39;49mkwds)  \u001b[39m# pylint: disable=not-callable\u001b[39;00m\n\u001b[1;32m    858\u001b[0m \u001b[39melif\u001b[39;00m \u001b[39mself\u001b[39m\u001b[39m.\u001b[39m_variable_creation_fn \u001b[39mis\u001b[39;00m \u001b[39mnot\u001b[39;00m \u001b[39mNone\u001b[39;00m:\n\u001b[1;32m    859\u001b[0m   \u001b[39m# Release the lock early so that multiple threads can perform the call\u001b[39;00m\n\u001b[1;32m    860\u001b[0m   \u001b[39m# in parallel.\u001b[39;00m\n\u001b[1;32m    861\u001b[0m   \u001b[39mself\u001b[39m\u001b[39m.\u001b[39m_lock\u001b[39m.\u001b[39mrelease()\n",
      "File \u001b[0;32m~/miniconda3/envs/tf/lib/python3.10/site-packages/tensorflow/python/eager/polymorphic_function/tracing_compiler.py:148\u001b[0m, in \u001b[0;36mTracingCompiler.__call__\u001b[0;34m(self, *args, **kwargs)\u001b[0m\n\u001b[1;32m    145\u001b[0m \u001b[39mwith\u001b[39;00m \u001b[39mself\u001b[39m\u001b[39m.\u001b[39m_lock:\n\u001b[1;32m    146\u001b[0m   (concrete_function,\n\u001b[1;32m    147\u001b[0m    filtered_flat_args) \u001b[39m=\u001b[39m \u001b[39mself\u001b[39m\u001b[39m.\u001b[39m_maybe_define_function(args, kwargs)\n\u001b[0;32m--> 148\u001b[0m \u001b[39mreturn\u001b[39;00m concrete_function\u001b[39m.\u001b[39;49m_call_flat(\n\u001b[1;32m    149\u001b[0m     filtered_flat_args, captured_inputs\u001b[39m=\u001b[39;49mconcrete_function\u001b[39m.\u001b[39;49mcaptured_inputs)\n",
      "File \u001b[0;32m~/miniconda3/envs/tf/lib/python3.10/site-packages/tensorflow/python/eager/polymorphic_function/monomorphic_function.py:1349\u001b[0m, in \u001b[0;36mConcreteFunction._call_flat\u001b[0;34m(self, args, captured_inputs)\u001b[0m\n\u001b[1;32m   1345\u001b[0m possible_gradient_type \u001b[39m=\u001b[39m gradients_util\u001b[39m.\u001b[39mPossibleTapeGradientTypes(args)\n\u001b[1;32m   1346\u001b[0m \u001b[39mif\u001b[39;00m (possible_gradient_type \u001b[39m==\u001b[39m gradients_util\u001b[39m.\u001b[39mPOSSIBLE_GRADIENT_TYPES_NONE\n\u001b[1;32m   1347\u001b[0m     \u001b[39mand\u001b[39;00m executing_eagerly):\n\u001b[1;32m   1348\u001b[0m   \u001b[39m# No tape is watching; skip to running the function.\u001b[39;00m\n\u001b[0;32m-> 1349\u001b[0m   \u001b[39mreturn\u001b[39;00m \u001b[39mself\u001b[39m\u001b[39m.\u001b[39m_build_call_outputs(\u001b[39mself\u001b[39;49m\u001b[39m.\u001b[39;49m_inference_function(\u001b[39m*\u001b[39;49margs))\n\u001b[1;32m   1350\u001b[0m forward_backward \u001b[39m=\u001b[39m \u001b[39mself\u001b[39m\u001b[39m.\u001b[39m_select_forward_and_backward_functions(\n\u001b[1;32m   1351\u001b[0m     args,\n\u001b[1;32m   1352\u001b[0m     possible_gradient_type,\n\u001b[1;32m   1353\u001b[0m     executing_eagerly)\n\u001b[1;32m   1354\u001b[0m forward_function, args_with_tangents \u001b[39m=\u001b[39m forward_backward\u001b[39m.\u001b[39mforward()\n",
      "File \u001b[0;32m~/miniconda3/envs/tf/lib/python3.10/site-packages/tensorflow/python/eager/polymorphic_function/atomic_function.py:196\u001b[0m, in \u001b[0;36mAtomicFunction.__call__\u001b[0;34m(self, *args)\u001b[0m\n\u001b[1;32m    194\u001b[0m \u001b[39mwith\u001b[39;00m record\u001b[39m.\u001b[39mstop_recording():\n\u001b[1;32m    195\u001b[0m   \u001b[39mif\u001b[39;00m \u001b[39mself\u001b[39m\u001b[39m.\u001b[39m_bound_context\u001b[39m.\u001b[39mexecuting_eagerly():\n\u001b[0;32m--> 196\u001b[0m     outputs \u001b[39m=\u001b[39m \u001b[39mself\u001b[39;49m\u001b[39m.\u001b[39;49m_bound_context\u001b[39m.\u001b[39;49mcall_function(\n\u001b[1;32m    197\u001b[0m         \u001b[39mself\u001b[39;49m\u001b[39m.\u001b[39;49mname,\n\u001b[1;32m    198\u001b[0m         \u001b[39mlist\u001b[39;49m(args),\n\u001b[1;32m    199\u001b[0m         \u001b[39mlen\u001b[39;49m(\u001b[39mself\u001b[39;49m\u001b[39m.\u001b[39;49mfunction_type\u001b[39m.\u001b[39;49mflat_outputs),\n\u001b[1;32m    200\u001b[0m     )\n\u001b[1;32m    201\u001b[0m   \u001b[39melse\u001b[39;00m:\n\u001b[1;32m    202\u001b[0m     outputs \u001b[39m=\u001b[39m make_call_op_in_graph(\u001b[39mself\u001b[39m, \u001b[39mlist\u001b[39m(args))\n",
      "File \u001b[0;32m~/miniconda3/envs/tf/lib/python3.10/site-packages/tensorflow/python/eager/context.py:1457\u001b[0m, in \u001b[0;36mContext.call_function\u001b[0;34m(self, name, tensor_inputs, num_outputs)\u001b[0m\n\u001b[1;32m   1455\u001b[0m cancellation_context \u001b[39m=\u001b[39m cancellation\u001b[39m.\u001b[39mcontext()\n\u001b[1;32m   1456\u001b[0m \u001b[39mif\u001b[39;00m cancellation_context \u001b[39mis\u001b[39;00m \u001b[39mNone\u001b[39;00m:\n\u001b[0;32m-> 1457\u001b[0m   outputs \u001b[39m=\u001b[39m execute\u001b[39m.\u001b[39;49mexecute(\n\u001b[1;32m   1458\u001b[0m       name\u001b[39m.\u001b[39;49mdecode(\u001b[39m\"\u001b[39;49m\u001b[39mutf-8\u001b[39;49m\u001b[39m\"\u001b[39;49m),\n\u001b[1;32m   1459\u001b[0m       num_outputs\u001b[39m=\u001b[39;49mnum_outputs,\n\u001b[1;32m   1460\u001b[0m       inputs\u001b[39m=\u001b[39;49mtensor_inputs,\n\u001b[1;32m   1461\u001b[0m       attrs\u001b[39m=\u001b[39;49mattrs,\n\u001b[1;32m   1462\u001b[0m       ctx\u001b[39m=\u001b[39;49m\u001b[39mself\u001b[39;49m,\n\u001b[1;32m   1463\u001b[0m   )\n\u001b[1;32m   1464\u001b[0m \u001b[39melse\u001b[39;00m:\n\u001b[1;32m   1465\u001b[0m   outputs \u001b[39m=\u001b[39m execute\u001b[39m.\u001b[39mexecute_with_cancellation(\n\u001b[1;32m   1466\u001b[0m       name\u001b[39m.\u001b[39mdecode(\u001b[39m\"\u001b[39m\u001b[39mutf-8\u001b[39m\u001b[39m\"\u001b[39m),\n\u001b[1;32m   1467\u001b[0m       num_outputs\u001b[39m=\u001b[39mnum_outputs,\n\u001b[0;32m   (...)\u001b[0m\n\u001b[1;32m   1471\u001b[0m       cancellation_manager\u001b[39m=\u001b[39mcancellation_context,\n\u001b[1;32m   1472\u001b[0m   )\n",
      "File \u001b[0;32m~/miniconda3/envs/tf/lib/python3.10/site-packages/tensorflow/python/eager/execute.py:53\u001b[0m, in \u001b[0;36mquick_execute\u001b[0;34m(op_name, num_outputs, inputs, attrs, ctx, name)\u001b[0m\n\u001b[1;32m     51\u001b[0m \u001b[39mtry\u001b[39;00m:\n\u001b[1;32m     52\u001b[0m   ctx\u001b[39m.\u001b[39mensure_initialized()\n\u001b[0;32m---> 53\u001b[0m   tensors \u001b[39m=\u001b[39m pywrap_tfe\u001b[39m.\u001b[39;49mTFE_Py_Execute(ctx\u001b[39m.\u001b[39;49m_handle, device_name, op_name,\n\u001b[1;32m     54\u001b[0m                                       inputs, attrs, num_outputs)\n\u001b[1;32m     55\u001b[0m \u001b[39mexcept\u001b[39;00m core\u001b[39m.\u001b[39m_NotOkStatusException \u001b[39mas\u001b[39;00m e:\n\u001b[1;32m     56\u001b[0m   \u001b[39mif\u001b[39;00m name \u001b[39mis\u001b[39;00m \u001b[39mnot\u001b[39;00m \u001b[39mNone\u001b[39;00m:\n",
      "\u001b[0;31mKeyboardInterrupt\u001b[0m: "
     ]
    }
   ],
   "source": [
    "LossFactor = UpdateLossFactor(n_epoch)\n",
    "logger = NBatchLogger(n_display, n_epoch)\n",
    "hist = trainer.fit(dataset,\n",
    "                   batch_size=n_batch,\n",
    "                   epochs=n_epoch,\n",
    "                   steps_per_epoch=n_data//n_batch,\n",
    "                   callbacks=[logger, LossFactor],\n",
    "                   verbose=1)"
   ]
  },
  {
   "cell_type": "markdown",
   "metadata": {},
   "source": [
    "Results"
   ]
  },
  {
   "cell_type": "code",
   "execution_count": null,
   "metadata": {
    "colab": {
     "base_uri": "https://localhost:8080/",
     "height": 337
    },
    "id": "rcjLDVopnhLh",
    "outputId": "133a1844-40d7-4fc8-f211-04efa4148b0a"
   },
   "outputs": [
    {
     "data": {
      "image/png": "[encoded data removed]",
      "text/plain": [
       "<Figure size 800x500 with 1 Axes>"
      ]
     },
     "metadata": {},
     "output_type": "display_data"
    }
   ],
   "source": [
    "fig, ax = plt.subplots(1, facecolor=\"white\", figsize=(8,5))\n",
    "ax.plot(hist.history[\"total_loss\"], \"k.-\", label=\"total_loss\")\n",
    "ax.plot(hist.history[\"forward_loss\"], \"b.-\", label=\"forward_loss\")\n",
    "ax.plot(hist.history[\"latent_loss\"], \"g.-\", label=\"latent_loss\")\n",
    "ax.plot(hist.history[\"rev_loss\"], \"r.-\", label=\"inverse_loss\")\n",
    "plt.legend()\n",
    "plt.savefig(\"loss.png\")\n",
    "plt.show()\n",
    "plt.close()"
   ]
  },
  {
   "cell_type": "code",
   "execution_count": null,
   "metadata": {
    "colab": {
     "base_uri": "https://localhost:8080/",
     "height": 356
    },
    "id": "uII2sXbwnhPL",
    "outputId": "00062611-b08c-4182-f06e-203cdbe45c27"
   },
   "outputs": [],
   "source": [
    "# Preprocess\n",
    "\n",
    "y_hat = test_y.reshape(-1, y_dim)\n",
    "z = np.random.multivariate_normal([1.]*z_dim, np.eye(z_dim), y_hat.shape[0])\n",
    "y = np.concatenate([z, y_hat], axis=-1).astype(\"float32\")\n",
    "x_pred = model.inverse(y).numpy()\n",
    "pz_pred = x_pred[:, 3]\n",
    "E_pred = x_pred[:, 0]\n",
    "x_truth = test_x.reshape(-1, x_dim)\n",
    "pz_truth = x_truth[:, 3]\n",
    "E_truth = x_truth[:, 0]"
   ]
  },
  {
   "cell_type": "code",
   "execution_count": null,
   "metadata": {},
   "outputs": [
    {
     "data": {
      "image/png": "[encoded data removed]",
      "text/plain": [
       "<Figure size 640x480 with 1 Axes>"
      ]
     },
     "metadata": {},
     "output_type": "display_data"
    },
    {
     "data": {
      "image/png": "[encoded data removed]",
      "text/plain": [
       "<Figure size 640x480 with 1 Axes>"
      ]
     },
     "metadata": {},
     "output_type": "display_data"
    }
   ],
   "source": [
    "# plot_2d_histogram(pz_pred, pz_truth, r\"$p^{miss}_{z}$\")\n",
    "plt.plot(pz_truth, pz_pred, \".\", alpha=.3, color=\"purple\")\n",
    "plt.title(r\"$p^{miss}_{z}$\")\n",
    "plt.xlabel(\"truth\")\n",
    "plt.ylabel(\"pred\")\n",
    "plt.gca().set_aspect('equal')\n",
    "plt.savefig(\"pz.png\")\n",
    "plt.show()\n",
    "plt.close()\n",
    "\n",
    "plt.plot(E_truth, E_pred, \".\", alpha=.3, color=\"purple\")\n",
    "plt.title(r\"$E^{miss}$\")\n",
    "plt.xlabel(\"truth\")\n",
    "plt.ylabel(\"pred\")\n",
    "plt.gca().set_aspect('equal')\n",
    "plt.savefig(\"energy.png\")\n",
    "plt.show()\n",
    "plt.close()"
   ]
  }
 ],
 "metadata": {
  "accelerator": "GPU",
  "colab": {
   "collapsed_sections": [],
   "name": "TMP_inn_multigauss.ipynb",
   "provenance": []
  },
  "kernelspec": {
   "display_name": "Python 3",
   "language": "python",
   "name": "python3"
  },
  "language_info": {
   "codemirror_mode": {
    "name": "ipython",
    "version": 3
   },
   "file_extension": ".py",
   "mimetype": "text/x-python",
   "name": "python",
   "nbconvert_exporter": "python",
   "pygments_lexer": "ipython3",
   "version": "3.10.12"
  }
 },
 "nbformat": 4,
 "nbformat_minor": 4
}
