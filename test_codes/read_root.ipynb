{
 "cells": [
  {
   "cell_type": "code",
   "execution_count": 1,
   "metadata": {},
   "outputs": [],
   "source": [
    "import sys\n",
    "sys.path.insert(0, '../')\n",
    "\n",
    "import get_root_data as grd"
   ]
  },
  {
   "cell_type": "code",
   "execution_count": 12,
   "metadata": {},
   "outputs": [
    {
     "name": "stdout",
     "output_type": "stream",
     "text": [
      "0      [41128.0390625]\n",
      "1                   []\n",
      "2      [37026.2890625]\n",
      "3      [41661.9296875]\n",
      "4    [17455.291015625]\n",
      "Name: HWWElectronsAuxDyn.pt, dtype: awkward\n",
      "0    [10069.5322265625]\n",
      "1      [44941.36328125]\n",
      "2       [32316.6484375]\n",
      "3      [33465.16796875]\n",
      "4       [33884.2421875]\n",
      "Name: HWWMuonsAuxDyn.pt, dtype: awkward\n"
     ]
    }
   ],
   "source": [
    "data = grd.Data()\n",
    "print(data.e_reco[\"HWWElectronsAuxDyn.pt\"].head(5))\n",
    "print(data.mu_reco[\"HWWMuonsAuxDyn.pt\"].head(5))"
   ]
  }
 ],
 "metadata": {
  "kernelspec": {
   "display_name": "tf",
   "language": "python",
   "name": "python3"
  },
  "language_info": {
   "codemirror_mode": {
    "name": "ipython",
    "version": 3
   },
   "file_extension": ".py",
   "mimetype": "text/x-python",
   "name": "python",
   "nbconvert_exporter": "python",
   "pygments_lexer": "ipython3",
   "version": "3.10.12"
  }
 },
 "nbformat": 4,
 "nbformat_minor": 2
}
