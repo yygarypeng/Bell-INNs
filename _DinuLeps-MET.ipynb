{
 "cells": [
  {
   "cell_type": "code",
   "execution_count": 10,
   "metadata": {},
   "outputs": [
    {
     "name": "stdout",
     "output_type": "stream",
     "text": [
      "2.13.0\n",
      "[PhysicalDevice(name='/physical_device:CPU:0', device_type='CPU'), PhysicalDevice(name='/physical_device:GPU:0', device_type='GPU'), PhysicalDevice(name='/physical_device:GPU:1', device_type='GPU')]\n",
      "\n"
     ]
    }
   ],
   "source": [
    "%reset -sf\n",
    "\n",
    "import matplotlib.pyplot as plt\n",
    "import pandas as pd\n",
    "import numpy as np\n",
    "from flow import *\n",
    "from utils import *\n",
    "import get_data as gd\n",
    "import gc\n",
    "\n",
    "import tensorflow as tf\n",
    "\n",
    "print(tf.__version__)\n",
    "print(tf.config.list_physical_devices())\n",
    "print()"
   ]
  },
  {
   "cell_type": "markdown",
   "metadata": {},
   "source": [
    "Load data"
   ]
  },
  {
   "cell_type": "code",
   "execution_count": 11,
   "metadata": {},
   "outputs": [
    {
     "name": "stdout",
     "output_type": "stream",
     "text": [
      "['/root/work/truth/signal/CGLMP.npz', '/root/work/truth/signal/Higgs.npz', '/root/work/truth/signal/LeadLepton.npz', '/root/work/truth/signal/LeptonM.npz', '/root/work/truth/signal/LeptonP.npz', '/root/work/truth/signal/LmNu.npz', '/root/work/truth/signal/LpNu.npz', '/root/work/truth/signal/MET.npz', '/root/work/truth/signal/WmBoson.npz', '/root/work/truth/signal/WpBoson.npz', '/root/work/truth/signal/diLepton.npz', '/root/work/truth/signal/subLeadLepton.npz', '/root/work/truth/signal/xi_xyz.npz']\n",
      "\n",
      "MET_kin shape: (2928862, 10)\n",
      "       MET_px     MET_py     lep_p_E  lep_p_px   lep_p_py    lep_p_pz  \\\n",
      "0   21.531590  58.661363   19.465703 -5.065763  16.360542   -9.250574   \n",
      "1  142.831582 -36.235636  131.817141  8.901175   2.966260  131.482766   \n",
      "2   -4.344014 -53.593527   94.193734 -3.040100  49.431305   80.123430   \n",
      "\n",
      "     lep_m_E   lep_m_px   lep_m_py   lep_m_pz  \n",
      "0  12.031222  11.081455   2.673936  -3.847299  \n",
      "1  66.401992 -13.096559  14.755815  63.403242  \n",
      "2  26.267500   7.589698   1.677931  25.090863  \n",
      "dinu_kin shape: (2928862, 12)\n",
      "         nu_E       nu_px      nu_py       nu_pz     lep_p_E  lep_p_px  \\\n",
      "0  122.129977   21.531590  58.661363   93.688699   19.465703 -5.065763   \n",
      "1  611.032109  142.831582 -36.235636  592.323953  131.817141  8.901175   \n",
      "2   74.715202   -4.118662 -52.749777   44.663706   94.193734 -3.040100   \n",
      "\n",
      "    lep_p_py    lep_p_pz    lep_m_E   lep_m_px   lep_m_py   lep_m_pz  \n",
      "0  16.360542   -9.250574  12.031222  11.081455   2.673936  -3.847299  \n",
      "1   2.966260  131.482766  66.401992 -13.096559  14.755815  63.403242  \n",
      "2  49.431305   80.123430  26.267500   7.589698   1.677931  25.090863  \n",
      "\n"
     ]
    },
    {
     "data": {
      "text/plain": [
       "0"
      ]
     },
     "execution_count": 11,
     "metadata": {},
     "output_type": "execute_result"
    }
   ],
   "source": [
    "processor = gd.DataProcessor()\n",
    "path = \"/root/work/truth/signal/*npz\"\n",
    "processor.load_files(path)\n",
    "\n",
    "CGLMP, Higgs, LeadLep, LepM, LepP, NuM, NuP, MET, Wm, Wp, diLep, SubLep, Xi = processor.files\n",
    "\n",
    "lep_kin = processor.process_lep(LepP, LepM)\n",
    "# print(\"lep_kin shape:\", lep_kin.shape)\n",
    "# print(lep_kin.head(5), end=\"\\n\")\n",
    "\n",
    "# observed (Y)\n",
    "MET_kin = processor.process_MET(MET).iloc[:, 1:3]\n",
    "MET_kin = pd.concat([MET_kin, lep_kin], axis=1)\n",
    "print(\"MET_kin shape:\", MET_kin.shape)\n",
    "print(MET_kin.head(3), end=\"\\n\")\n",
    "\n",
    "# interest (X)\n",
    "dinu_kin = processor.process_dinu(NuP, NuM)\n",
    "# print(\"dinu_kin shape:\", dinu_kin.shape)\n",
    "# print(dinu_kin.head(5), end=\"\\n\")\n",
    "\n",
    "dinu_kin = pd.concat([dinu_kin, lep_kin], axis=1)\n",
    "print(\"dinu_kin shape:\", dinu_kin.shape)\n",
    "print(dinu_kin.head(3), end=\"\\n\")\n",
    "print()\n",
    "\n",
    "del processor  # Clear the instance\n",
    "del CGLMP, Higgs, LeadLep, LepM, LepP, NuM, NuP, MET, Wm, Wp, diLep, SubLep, Xi # Clear the dataframes\n",
    "del lep_kin\n",
    "gc.collect()"
   ]
  },
  {
   "cell_type": "markdown",
   "metadata": {},
   "source": [
    "Preprocessing"
   ]
  },
  {
   "cell_type": "code",
   "execution_count": 12,
   "metadata": {},
   "outputs": [],
   "source": [
    "# normalize\n",
    "from sklearn.preprocessing import StandardScaler\n",
    "\n",
    "SCALAR_int = StandardScaler()\n",
    "norm_var = SCALAR_int.fit_transform(dinu_kin)\n",
    "dinu_kin = norm_var\n",
    "\n",
    "SCALAR_MET = StandardScaler()\n",
    "norm_var = SCALAR_MET.fit_transform(MET_kin)\n",
    "MET_kin = norm_var\n",
    "\n",
    "del norm_var"
   ]
  },
  {
   "cell_type": "code",
   "execution_count": 13,
   "metadata": {},
   "outputs": [
    {
     "name": "stdout",
     "output_type": "stream",
     "text": [
      "X (Interest)\n",
      "Training data shape: (80000, 12);\n",
      "Testing data shape: (20000, 12).\n",
      "Y (Observed)\n",
      "Training data shape: (80000, 10);\n",
      "Testing data shape: (20000, 10).\n",
      "\n"
     ]
    }
   ],
   "source": [
    "from sklearn.model_selection import train_test_split\n",
    "\n",
    "indices_arr = np.arange(dinu_kin.shape[0], dtype=\"int\")\n",
    "indices_arr = np.random.choice(indices_arr, int(1e5))\n",
    "train_indices, test_indices = train_test_split(\n",
    "    indices_arr.flatten(), train_size=0.8, test_size=0.2, random_state=42\n",
    ")\n",
    "\n",
    "train_x = dinu_kin[train_indices]\n",
    "test_x = dinu_kin[test_indices]\n",
    "train_y = MET_kin[train_indices]\n",
    "test_y = MET_kin[test_indices]\n",
    "\n",
    "print(\n",
    "    f\"X (Interest)\\nTraining data shape: {train_x.shape};\\nTesting data shape: {test_x.shape}.\"\n",
    ")\n",
    "print(\n",
    "    f\"Y (Observed)\\nTraining data shape: {train_y.shape};\\nTesting data shape: {test_y.shape}.\"\n",
    ")\n",
    "print()"
   ]
  },
  {
   "cell_type": "markdown",
   "metadata": {},
   "source": [
    "Setup"
   ]
  },
  {
   "cell_type": "code",
   "execution_count": 14,
   "metadata": {},
   "outputs": [
    {
     "name": "stdout",
     "output_type": "stream",
     "text": [
      "x (80000, 12)\n",
      "y (80000, 10)\n",
      "z (80000, 2)\n",
      "Input dataset shape -> X:(80000, 12), Y: (80000, 12)\n",
      "\n"
     ]
    }
   ],
   "source": [
    "# interest (momentum)\n",
    "x_dim = train_x.shape[1]\n",
    "# observed (MET)\n",
    "y_dim = train_y.shape[1]\n",
    "z_dim =  x_dim - y_dim\n",
    "\n",
    "tot_dim = y_dim + z_dim\n",
    "pad_dim = tot_dim - x_dim\n",
    "\n",
    "# Preprocess\n",
    "## Pad data\n",
    "X = train_x.reshape((-1, x_dim))\n",
    "# print(\"pad_dim\", pad_dim)\n",
    "pad_x = np.zeros((X.shape[0], pad_dim))\n",
    "# print(\"pad_x\", pad_x.shape)\n",
    "x = np.concatenate([X, pad_x], axis=-1).astype(\"float32\")\n",
    "print(\"x\", x.shape)\n",
    "z = np.random.multivariate_normal([0.]*z_dim, np.eye(z_dim), X.shape[0]).astype(\"float32\")\n",
    "y_hat = train_y.reshape(-1, y_dim)\n",
    "print(\"y\", y_hat.shape)\n",
    "print(\"z\", z.shape)\n",
    "y = np.concatenate([z, y_hat], axis=-1).astype(\"float32\")\n",
    "\n",
    "print(f\"Input dataset shape -> X:{x.shape}, Y: {y.shape}\")\n",
    "print()\n",
    "\n",
    "n_sample = X.shape[0]\n",
    "n_data = n_sample * train_y.shape[1]\n",
    "n_couple_layer = 3\n",
    "n_hid_layer = 3\n",
    "n_hid_dim = 128\n",
    "\n",
    "n_batch = 256\n",
    "n_epoch = 32\n",
    "n_display = n_batch\n",
    "\n",
    "# Make dataset generator\n",
    "x_data = tf.data.Dataset.from_tensor_slices(x)\n",
    "y_data = tf.data.Dataset.from_tensor_slices(y)\n",
    "dataset = (tf.data.Dataset.zip((x_data, y_data))\n",
    "           .shuffle(buffer_size=X.shape[0])\n",
    "           .batch(n_batch, drop_remainder=True)\n",
    "           .repeat())"
   ]
  },
  {
   "cell_type": "markdown",
   "metadata": {},
   "source": [
    "Initialize the model"
   ]
  },
  {
   "cell_type": "code",
   "execution_count": 15,
   "metadata": {
    "colab": {
     "base_uri": "https://localhost:8080/"
    },
    "id": "pEAw90SZng-B",
    "outputId": "107f120e-4905-4093-bca8-bffe778b7068"
   },
   "outputs": [
    {
     "name": "stdout",
     "output_type": "stream",
     "text": [
      "Model: \"NVP\"\n",
      "_________________________________________________________________\n",
      " Layer (type)                Output Shape              Param #   \n",
      "=================================================================\n",
      " Layer0 (TwoNVPCouplingLaye  multiple                  70948     \n",
      " rs)                                                             \n",
      "                                                                 \n",
      " Layer1 (TwoNVPCouplingLaye  multiple                  70948     \n",
      " rs)                                                             \n",
      "                                                                 \n",
      " Layer2 (TwoNVPCouplingLaye  multiple                  70948     \n",
      " rs)                                                             \n",
      "                                                                 \n",
      "=================================================================\n",
      "Total params: 212844 (831.56 KB)\n",
      "Trainable params: 212808 (831.28 KB)\n",
      "Non-trainable params: 36 (288.00 Byte)\n",
      "_________________________________________________________________\n"
     ]
    }
   ],
   "source": [
    "model = NVP(tot_dim, n_couple_layer, n_hid_layer, n_hid_dim, name=\"NVP\")\n",
    "x = tfk.Input((tot_dim,))\n",
    "model(x)\n",
    "model.summary()"
   ]
  },
  {
   "cell_type": "code",
   "execution_count": 16,
   "metadata": {
    "id": "FKI6S4FIza5w"
   },
   "outputs": [],
   "source": [
    "class Trainer(tfk.Model):\n",
    "    def __init__(self, model, x_dim, y_dim, z_dim, tot_dim, \n",
    "                 n_couple_layer, n_hid_layer, n_hid_dim, shuffle_type=\"reverse\"):\n",
    "        super(Trainer, self).__init__()\n",
    "        self.model = model\n",
    "        self.x_dim = x_dim\n",
    "        self.y_dim = y_dim\n",
    "        self.z_dim = z_dim\n",
    "        self.tot_dim = tot_dim\n",
    "        self.x_pad_dim = tot_dim - x_dim\n",
    "        self.y_pad_dim = tot_dim - (y_dim + z_dim)\n",
    "        self.n_couple_layer = n_couple_layer\n",
    "        self.n_hid_layer = n_hid_layer\n",
    "        self.n_hid_dim = n_hid_dim\n",
    "        self.shuffle_type = shuffle_type\n",
    "\n",
    "        self.w1 = 5.\n",
    "        self.w2 = 1.\n",
    "        self.w3 = 10.\n",
    "        self.loss_factor = 1.\n",
    "        self.loss_fit = MSE\n",
    "        self.loss_latent = MMD_multiscale\n",
    "        self.loss_backward = MMD_multiscale\n",
    "\n",
    "    def train_step(self, data): \n",
    "        x_data, y_data = data\n",
    "        x = x_data[:, :self.x_dim]\n",
    "        y = y_data[:, -self.y_dim:]\n",
    "        z = y_data[:, :self.z_dim]\n",
    "        y_short = tf.concat([z, y], axis=-1)\n",
    "\n",
    "        # Forward loss\n",
    "        with tf.GradientTape() as tape:\n",
    "            y_out = self.model(x_data)    \n",
    "            pred_loss = self.w1 * self.loss_fit(y_data[:,self.z_dim:], y_out[:,self.z_dim:]) # [zeros, y] <=> [zeros, yhat]\n",
    "            output_block_grad = tf.concat([y_out[:, :self.z_dim], y_out[:, -self.y_dim:]], axis=-1) # take out [z, y] only (not zeros)\n",
    "            latent_loss = self.w2 * self.loss_latent(y_short, output_block_grad) # [z, y] <=> [zhat, yhat]\n",
    "            forward_loss = pred_loss + latent_loss\n",
    "        grads_forward = tape.gradient(forward_loss, self.model.trainable_weights)\n",
    "        self.optimizer.apply_gradients(zip(grads_forward, self.model.trainable_weights))\n",
    "\n",
    "        # Backward loss\n",
    "        with tf.GradientTape() as tape:\n",
    "            x_rev = self.model.inverse(y_data)\n",
    "            #rev_loss = self.w3 * self.loss_factor * self.loss_fit(x_rev, x_data)\n",
    "            rev_loss = self.w3 * self.loss_factor * self.loss_backward(x_rev, x_data)\n",
    "        grads_backward = tape.gradient(rev_loss, self.model.trainable_weights)\n",
    "        self.optimizer.apply_gradients(zip(grads_backward, self.model.trainable_weights)) \n",
    "\n",
    "        total_loss = forward_loss + latent_loss + rev_loss\n",
    "        return {\"total_loss\": total_loss,\n",
    "                \"forward_loss\": forward_loss,\n",
    "                \"latent_loss\": latent_loss,\n",
    "                \"rev_loss\": rev_loss}\n",
    "\n",
    "    def test_step(self, data):\n",
    "        x_data, y_data = data\n",
    "        return NotImplementedError"
   ]
  },
  {
   "cell_type": "code",
   "execution_count": 17,
   "metadata": {
    "id": "nUkERU5_zbi4"
   },
   "outputs": [],
   "source": [
    "trainer = Trainer(model, x_dim, y_dim, z_dim, tot_dim, n_couple_layer, n_hid_layer, n_hid_dim)\n",
    "trainer.compile(optimizer=tf.keras.optimizers.Adam(learning_rate=1e-4))"
   ]
  },
  {
   "cell_type": "markdown",
   "metadata": {},
   "source": [
    "Training"
   ]
  },
  {
   "cell_type": "code",
   "execution_count": 18,
   "metadata": {
    "colab": {
     "base_uri": "https://localhost:8080/"
    },
    "id": "1K5KckgzzbnJ",
    "outputId": "0abf86fe-cb7b-4d31-b63d-fece392dd25b"
   },
   "outputs": [
    {
     "name": "stdout",
     "output_type": "stream",
     "text": [
      "=== Started at 2023-11-09 14h:57m:15s ===\n",
      "Epoch 1/32\n"
     ]
    },
    {
     "name": "stdout",
     "output_type": "stream",
     "text": [
      "3123/3125 [============================>.] - ETA: 0s - total_loss: 0.8782 - forward_loss: 0.5647 - latent_loss: 0.0264 - rev_loss: 0.2870 2023-11-09 14h:58m:38s | Epoch: 01/32 | total_loss=0.396091 forward_loss=0.148235 latent_loss=0.025747 rev_loss=0.222109\n",
      "3125/3125 [==============================] - 83s 24ms/step - total_loss: 0.8777 - forward_loss: 0.5643 - latent_loss: 0.0264 - rev_loss: 0.2869\n",
      "Epoch 2/32\n",
      "3125/3125 [==============================] - 73s 23ms/step - total_loss: 0.3755 - forward_loss: 0.1318 - latent_loss: 0.0258 - rev_loss: 0.2179\n",
      "Epoch 3/32\n",
      "3125/3125 [==============================] - 73s 23ms/step - total_loss: 0.3513 - forward_loss: 0.1156 - latent_loss: 0.0252 - rev_loss: 0.2105\n",
      "Epoch 4/32\n",
      "3125/3125 [==============================] - 73s 23ms/step - total_loss: 0.3380 - forward_loss: 0.1082 - latent_loss: 0.0250 - rev_loss: 0.2048\n",
      "Epoch 5/32\n",
      "3125/3125 [==============================] - 73s 23ms/step - total_loss: 0.3287 - forward_loss: 0.1045 - latent_loss: 0.0250 - rev_loss: 0.1993\n",
      "Epoch 6/32\n",
      "3125/3125 [==============================] - 72s 23ms/step - total_loss: 0.3211 - forward_loss: 0.1022 - latent_loss: 0.0249 - rev_loss: 0.1939\n",
      "Epoch 7/32\n",
      "3125/3125 [==============================] - 72s 23ms/step - total_loss: 0.3123 - forward_loss: 0.0991 - latent_loss: 0.0247 - rev_loss: 0.1885\n",
      "Epoch 8/32\n",
      "3125/3125 [==============================] - 72s 23ms/step - total_loss: 0.3044 - forward_loss: 0.0960 - latent_loss: 0.0246 - rev_loss: 0.1839\n",
      "Epoch 9/32\n",
      "3125/3125 [==============================] - 72s 23ms/step - total_loss: 0.2980 - forward_loss: 0.0930 - latent_loss: 0.0244 - rev_loss: 0.1806\n",
      "Epoch 10/32\n",
      "3125/3125 [==============================] - 72s 23ms/step - total_loss: 0.2934 - forward_loss: 0.0908 - latent_loss: 0.0242 - rev_loss: 0.1784\n",
      "Epoch 11/32\n",
      "3125/3125 [==============================] - 72s 23ms/step - total_loss: 0.2903 - forward_loss: 0.0894 - latent_loss: 0.0240 - rev_loss: 0.1769\n",
      "Epoch 12/32\n",
      "3125/3125 [==============================] - 72s 23ms/step - total_loss: 0.2905 - forward_loss: 0.0906 - latent_loss: 0.0238 - rev_loss: 0.1761\n",
      "Epoch 13/32\n",
      "3125/3125 [==============================] - 72s 23ms/step - total_loss: 0.2859 - forward_loss: 0.0874 - latent_loss: 0.0237 - rev_loss: 0.1748\n",
      "Epoch 14/32\n",
      "3125/3125 [==============================] - 72s 23ms/step - total_loss: 0.2833 - forward_loss: 0.0858 - latent_loss: 0.0237 - rev_loss: 0.1738\n",
      "Epoch 15/32\n",
      "3125/3125 [==============================] - 72s 23ms/step - total_loss: 0.2817 - forward_loss: 0.0851 - latent_loss: 0.0236 - rev_loss: 0.1731\n",
      "Epoch 16/32\n",
      "3125/3125 [==============================] - 71s 23ms/step - total_loss: 0.2806 - forward_loss: 0.0846 - latent_loss: 0.0235 - rev_loss: 0.1725\n",
      "Epoch 17/32\n",
      "3125/3125 [==============================] - 72s 23ms/step - total_loss: 0.2792 - forward_loss: 0.0838 - latent_loss: 0.0235 - rev_loss: 0.1719\n",
      "Epoch 18/32\n",
      "3125/3125 [==============================] - 72s 23ms/step - total_loss: 0.2788 - forward_loss: 0.0838 - latent_loss: 0.0234 - rev_loss: 0.1716\n",
      "Epoch 19/32\n",
      "3125/3125 [==============================] - 71s 23ms/step - total_loss: 0.2776 - forward_loss: 0.0830 - latent_loss: 0.0234 - rev_loss: 0.1711\n",
      "Epoch 20/32\n",
      "3125/3125 [==============================] - 72s 23ms/step - total_loss: 0.2771 - forward_loss: 0.0829 - latent_loss: 0.0234 - rev_loss: 0.1708\n",
      "Epoch 21/32\n",
      "3125/3125 [==============================] - 72s 23ms/step - total_loss: 0.2759 - forward_loss: 0.0821 - latent_loss: 0.0233 - rev_loss: 0.1704\n",
      "Epoch 22/32\n",
      "3125/3125 [==============================] - 72s 23ms/step - total_loss: 0.2758 - forward_loss: 0.0823 - latent_loss: 0.0233 - rev_loss: 0.1702\n",
      "Epoch 23/32\n",
      "3125/3125 [==============================] - 72s 23ms/step - total_loss: 0.2749 - forward_loss: 0.0817 - latent_loss: 0.0233 - rev_loss: 0.1699\n",
      "Epoch 24/32\n",
      "3125/3125 [==============================] - 72s 23ms/step - total_loss: 0.2746 - forward_loss: 0.0816 - latent_loss: 0.0233 - rev_loss: 0.1697\n",
      "Epoch 25/32\n",
      "3125/3125 [==============================] - 72s 23ms/step - total_loss: 0.2741 - forward_loss: 0.0814 - latent_loss: 0.0233 - rev_loss: 0.1695\n",
      "Epoch 26/32\n",
      "3125/3125 [==============================] - 72s 23ms/step - total_loss: 0.2737 - forward_loss: 0.0813 - latent_loss: 0.0232 - rev_loss: 0.1692\n",
      "Epoch 27/32\n",
      "3125/3125 [==============================] - 72s 23ms/step - total_loss: 0.2733 - forward_loss: 0.0810 - latent_loss: 0.0232 - rev_loss: 0.1691\n",
      "Epoch 28/32\n",
      "3125/3125 [==============================] - 72s 23ms/step - total_loss: 0.2728 - forward_loss: 0.0807 - latent_loss: 0.0232 - rev_loss: 0.1689\n",
      "Epoch 29/32\n",
      "3125/3125 [==============================] - 72s 23ms/step - total_loss: 0.2728 - forward_loss: 0.0808 - latent_loss: 0.0232 - rev_loss: 0.1688\n",
      "Epoch 30/32\n",
      "3125/3125 [==============================] - 72s 23ms/step - total_loss: 0.2723 - forward_loss: 0.0805 - latent_loss: 0.0232 - rev_loss: 0.1686\n",
      "Epoch 31/32\n",
      "3125/3125 [==============================] - 71s 23ms/step - total_loss: 0.2721 - forward_loss: 0.0804 - latent_loss: 0.0232 - rev_loss: 0.1684\n",
      "Epoch 32/32\n",
      "3125/3125 [==============================] - 71s 23ms/step - total_loss: 0.2719 - forward_loss: 0.0803 - latent_loss: 0.0232 - rev_loss: 0.1683\n",
      "=== Time elapsed: 38.5002 min ===\n"
     ]
    }
   ],
   "source": [
    "LossFactor = UpdateLossFactor(n_epoch)\n",
    "logger = NBatchLogger(n_display, n_epoch)\n",
    "hist = trainer.fit(dataset,\n",
    "                   batch_size=n_batch,\n",
    "                   epochs=n_epoch,\n",
    "                   steps_per_epoch=n_data//n_batch,\n",
    "                   callbacks=[logger, LossFactor],\n",
    "                   verbose=1)"
   ]
  },
  {
   "cell_type": "markdown",
   "metadata": {},
   "source": [
    "Results"
   ]
  },
  {
   "cell_type": "code",
   "execution_count": 19,
   "metadata": {
    "colab": {
     "base_uri": "https://localhost:8080/",
     "height": 337
    },
    "id": "rcjLDVopnhLh",
    "outputId": "133a1844-40d7-4fc8-f211-04efa4148b0a"
   },
   "outputs": [
    {
     "data": {
      "image/png": "[encoded data removed]",
      "text/plain": [
       "<Figure size 800x500 with 1 Axes>"
      ]
     },
     "metadata": {},
     "output_type": "display_data"
    }
   ],
   "source": [
    "fig, ax = plt.subplots(1, facecolor=\"white\", figsize=(8,5))\n",
    "ax.plot(hist.history[\"total_loss\"], \"k.-\", label=\"total_loss\")\n",
    "ax.plot(hist.history[\"forward_loss\"], \"b.-\", label=\"forward_loss\")\n",
    "ax.plot(hist.history[\"latent_loss\"], \"g.-\", label=\"latent_loss\")\n",
    "ax.plot(hist.history[\"rev_loss\"], \"r.-\", label=\"inverse_loss\")\n",
    "plt.legend()\n",
    "plt.savefig(\"loss.png\")\n",
    "plt.show()\n",
    "plt.close()"
   ]
  },
  {
   "cell_type": "code",
   "execution_count": 23,
   "metadata": {
    "colab": {
     "base_uri": "https://localhost:8080/",
     "height": 356
    },
    "id": "uII2sXbwnhPL",
    "outputId": "00062611-b08c-4182-f06e-203cdbe45c27"
   },
   "outputs": [],
   "source": [
    "# Preprocess\n",
    "\n",
    "z = np.random.multivariate_normal([1.]*z_dim, np.eye(z_dim), test_y.shape[0])\n",
    "y = np.concatenate([z, test_y], axis=-1).astype(\"float32\")\n",
    "x_pred = model.inverse(y).numpy()\n",
    "pz_pred = x_pred[:, 3]\n",
    "E_pred = x_pred[:, 0]\n",
    "pz_truth = test_x[:, 3]\n",
    "E_truth = test_x[:, 0]"
   ]
  },
  {
   "cell_type": "code",
   "execution_count": 24,
   "metadata": {},
   "outputs": [],
   "source": [
    "def plot_2d_histogram(pred, truth, title, save_name, bins=150):\n",
    "    hist, xedges, yedges = np.histogram2d(pred.flatten(), truth, bins=(bins, bins))\n",
    "    hist = np.ma.masked_where(hist == 0, hist)\n",
    "    fig = plt.figure(figsize=(5,5), dpi=100)\n",
    "    plt.pcolormesh(xedges, yedges, hist.T, cmap=\"viridis\")\n",
    "    cbar = plt.colorbar()\n",
    "    cbar.set_label(\"Frequency\")\n",
    "    plt.title(title)\n",
    "    plt.xlabel(\"pred\")\n",
    "    plt.ylabel(\"true\")\n",
    "    plt.savefig(save_name)\n",
    "    plt.axis('equal')\n",
    "    plt.show()\n",
    "    plt.close()"
   ]
  },
  {
   "cell_type": "code",
   "execution_count": 25,
   "metadata": {},
   "outputs": [
    {
     "data": {
      "image/png": "[encoded data removed]",
      "text/plain": [
       "<Figure size 500x500 with 2 Axes>"
      ]
     },
     "metadata": {},
     "output_type": "display_data"
    },
    {
     "data": {
      "image/png": "[encoded data removed]",
      "text/plain": [
       "<Figure size 500x500 with 2 Axes>"
      ]
     },
     "metadata": {},
     "output_type": "display_data"
    }
   ],
   "source": [
    "# Plot the results\n",
    "plot_2d_histogram(pz_truth, pz_pred, r\"$p^{miss}_{z}$\", save_name=\"pz.png\")\n",
    "plot_2d_histogram(E_truth, E_pred, r\"$E^{miss}$\", save_name=\"energy.png\")"
   ]
  }
 ],
 "metadata": {
  "accelerator": "GPU",
  "colab": {
   "collapsed_sections": [],
   "name": "TMP_inn_multigauss.ipynb",
   "provenance": []
  },
  "kernelspec": {
   "display_name": "Python 3",
   "language": "python",
   "name": "python3"
  },
  "language_info": {
   "codemirror_mode": {
    "name": "ipython",
    "version": 3
   },
   "file_extension": ".py",
   "mimetype": "text/x-python",
   "name": "python",
   "nbconvert_exporter": "python",
   "pygments_lexer": "ipython3",
   "version": "3.10.12"
  }
 },
 "nbformat": 4,
 "nbformat_minor": 4
}
