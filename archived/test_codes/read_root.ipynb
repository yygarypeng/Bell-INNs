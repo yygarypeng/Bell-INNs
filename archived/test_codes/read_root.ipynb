{
 "cells": [
  {
   "cell_type": "code",
   "execution_count": 16,
   "metadata": {},
   "outputs": [],
   "source": [
    "%reset -sf\n",
    "\n",
    "import sys\n",
    "sys.path.insert(0, '../')\n",
    "\n",
    "import get_root_data as grd"
   ]
  },
  {
   "cell_type": "code",
   "execution_count": 17,
   "metadata": {},
   "outputs": [],
   "source": [
    "data = grd.Data()\n",
    "e_recos = data.e_reco[\"HWWElectronsAuxDyn.pt\"]\n",
    "mu_recos = data.mu_reco[\"HWWMuonsAuxDyn.pt\"]"
   ]
  },
  {
   "cell_type": "code",
   "execution_count": 20,
   "metadata": {},
   "outputs": [
    {
     "data": {
      "text/plain": [
       "1000     [25647.509765625]\n",
       "1001     [24692.591796875]\n",
       "1002    [10551.2529296875]\n",
       "1003    [10638.2978515625]\n",
       "1004     [24738.642578125]\n",
       "1005      [22952.38671875]\n",
       "1006      [36881.23046875]\n",
       "1007                    []\n",
       "1008     [16813.103515625]\n",
       "1009       [44283.4296875]\n",
       "1010    [11461.7646484375]\n",
       "1011       [75918.5546875]\n",
       "1012                    []\n",
       "1013     [27219.349609375]\n",
       "1014     [20292.263671875]\n",
       "1015                    []\n",
       "1016     [13014.841796875]\n",
       "1017       [41115.6328125]\n",
       "1018     [27872.904296875]\n",
       "1019     [24018.654296875]\n",
       "1020      [21234.26953125]\n",
       "1021                    []\n",
       "1022      [28268.94140625]\n",
       "1023        [52457.828125]\n",
       "1024         [50009.40625]\n",
       "1025        [31779.984375]\n",
       "1026     [13750.791015625]\n",
       "1027    [14685.5458984375]\n",
       "1028      [37301.98046875]\n",
       "1029       [74915.0703125]\n",
       "Name: HWWElectronsAuxDyn.pt, dtype: awkward"
      ]
     },
     "execution_count": 20,
     "metadata": {},
     "output_type": "execute_result"
    }
   ],
   "source": [
    "e_recos[1000:1030]"
   ]
  }
 ],
 "metadata": {
  "kernelspec": {
   "display_name": "tf",
   "language": "python",
   "name": "python3"
  },
  "language_info": {
   "codemirror_mode": {
    "name": "ipython",
    "version": 3
   },
   "file_extension": ".py",
   "mimetype": "text/x-python",
   "name": "python",
   "nbconvert_exporter": "python",
   "pygments_lexer": "ipython3",
   "version": "3.10.12"
  }
 },
 "nbformat": 4,
 "nbformat_minor": 2
}
